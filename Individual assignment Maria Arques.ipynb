{
 "cells": [
  {
   "cell_type": "markdown",
   "id": "066565c8",
   "metadata": {},
   "source": [
    "# INDIVIDUAL PROJECT MARIA ARQUES"
   ]
  },
  {
   "cell_type": "code",
   "execution_count": 2,
   "id": "56001b83",
   "metadata": {},
   "outputs": [
    {
     "name": "stderr",
     "output_type": "stream",
     "text": [
      "\n",
      "Attaching package: 'dplyr'\n",
      "\n",
      "\n",
      "The following objects are masked from 'package:stats':\n",
      "\n",
      "    filter, lag\n",
      "\n",
      "\n",
      "The following objects are masked from 'package:base':\n",
      "\n",
      "    intersect, setdiff, setequal, union\n",
      "\n",
      "\n"
     ]
    },
    {
     "name": "stdout",
     "output_type": "stream",
     "text": [
      "\n",
      "  There is a binary version available but the source version is later:\n",
      "         binary source needs_compilation\n",
      "corrplot   0.89   0.92             FALSE\n",
      "\n"
     ]
    },
    {
     "name": "stderr",
     "output_type": "stream",
     "text": [
      "installing the source package 'corrplot'\n",
      "\n",
      "\n",
      "corrplot 0.92 loaded\n",
      "\n"
     ]
    }
   ],
   "source": [
    "library(dplyr)\n",
    "install.packages(\"corrplot\")\n",
    "library(corrplot)"
   ]
  },
  {
   "cell_type": "code",
   "execution_count": 3,
   "id": "56b0ba01",
   "metadata": {},
   "outputs": [
    {
     "name": "stderr",
     "output_type": "stream",
     "text": [
      "-- \u001b[1mAttaching packages\u001b[22m ------------------------------------------------------------------------------- tidyverse 1.3.1 --\n",
      "\n",
      "\u001b[32mv\u001b[39m \u001b[34mggplot2\u001b[39m 3.3.5     \u001b[32mv\u001b[39m \u001b[34mpurrr  \u001b[39m 0.3.4\n",
      "\u001b[32mv\u001b[39m \u001b[34mtibble \u001b[39m 3.1.6     \u001b[32mv\u001b[39m \u001b[34mstringr\u001b[39m 1.4.0\n",
      "\u001b[32mv\u001b[39m \u001b[34mtidyr  \u001b[39m 1.2.0     \u001b[32mv\u001b[39m \u001b[34mforcats\u001b[39m 0.5.1\n",
      "\u001b[32mv\u001b[39m \u001b[34mreadr  \u001b[39m 2.1.2     \n",
      "\n",
      "-- \u001b[1mConflicts\u001b[22m ---------------------------------------------------------------------------------- tidyverse_conflicts() --\n",
      "\u001b[31mx\u001b[39m \u001b[34mdplyr\u001b[39m::\u001b[32mfilter()\u001b[39m masks \u001b[34mstats\u001b[39m::filter()\n",
      "\u001b[31mx\u001b[39m \u001b[34mdplyr\u001b[39m::\u001b[32mlag()\u001b[39m    masks \u001b[34mstats\u001b[39m::lag()\n",
      "\n",
      "\n",
      "Attaching package: 'MASS'\n",
      "\n",
      "\n",
      "The following object is masked from 'package:dplyr':\n",
      "\n",
      "    select\n",
      "\n",
      "\n"
     ]
    }
   ],
   "source": [
    "library(tidyverse)\n",
    "library(MASS)"
   ]
  },
  {
   "cell_type": "code",
   "execution_count": 4,
   "id": "0f09e95d",
   "metadata": {
    "scrolled": true
   },
   "outputs": [
    {
     "name": "stderr",
     "output_type": "stream",
     "text": [
      "Warning message:\n",
      "\"packages 'ggplot2', 'MASS', 'datasets' are in use and will not be installed\"\n"
     ]
    },
    {
     "name": "stdout",
     "output_type": "stream",
     "text": [
      "package 'data.table' successfully unpacked and MD5 sums checked\n"
     ]
    },
    {
     "name": "stderr",
     "output_type": "stream",
     "text": [
      "Warning message:\n",
      "\"cannot remove prior installation of package 'data.table'\"\n",
      "Warning message in file.copy(savedcopy, lib, recursive = TRUE):\n",
      "\"problem copying C:\\tools\\Anaconda3\\envs\\r-env\\Lib\\R\\library\\00LOCK\\data.table\\libs\\x64\\datatable.dll to C:\\tools\\Anaconda3\\envs\\r-env\\Lib\\R\\library\\data.table\\libs\\x64\\datatable.dll: Permission denied\"\n",
      "Warning message:\n",
      "\"restored 'data.table'\"\n"
     ]
    },
    {
     "name": "stdout",
     "output_type": "stream",
     "text": [
      "package 'mlr3' successfully unpacked and MD5 sums checked\n",
      "package 'caret' successfully unpacked and MD5 sums checked\n"
     ]
    },
    {
     "name": "stderr",
     "output_type": "stream",
     "text": [
      "Warning message:\n",
      "\"cannot remove prior installation of package 'caret'\"\n",
      "Warning message in file.copy(savedcopy, lib, recursive = TRUE):\n",
      "\"problem copying C:\\tools\\Anaconda3\\envs\\r-env\\Lib\\R\\library\\00LOCK\\caret\\libs\\x64\\caret.dll to C:\\tools\\Anaconda3\\envs\\r-env\\Lib\\R\\library\\caret\\libs\\x64\\caret.dll: Permission denied\"\n",
      "Warning message:\n",
      "\"restored 'caret'\"\n"
     ]
    },
    {
     "name": "stdout",
     "output_type": "stream",
     "text": [
      "package 'plotrix' successfully unpacked and MD5 sums checked\n",
      "package 'rgl' successfully unpacked and MD5 sums checked\n",
      "package 'ISLR' successfully unpacked and MD5 sums checked\n",
      "\n",
      "The downloaded binary packages are in\n",
      "\tC:\\Users\\marquesrubio\\AppData\\Local\\Temp\\Rtmp4wI0Yw\\downloaded_packages\n",
      "package 'mlr' successfully unpacked and MD5 sums checked\n"
     ]
    },
    {
     "name": "stderr",
     "output_type": "stream",
     "text": [
      "Warning message:\n",
      "\"cannot remove prior installation of package 'mlr'\"\n",
      "Warning message in file.copy(savedcopy, lib, recursive = TRUE):\n",
      "\"problem copying C:\\tools\\Anaconda3\\envs\\r-env\\Lib\\R\\library\\00LOCK\\mlr\\libs\\x64\\mlr.dll to C:\\tools\\Anaconda3\\envs\\r-env\\Lib\\R\\library\\mlr\\libs\\x64\\mlr.dll: Permission denied\"\n",
      "Warning message:\n",
      "\"restored 'mlr'\"\n"
     ]
    },
    {
     "name": "stdout",
     "output_type": "stream",
     "text": [
      "package 'pROC' successfully unpacked and MD5 sums checked\n"
     ]
    },
    {
     "name": "stderr",
     "output_type": "stream",
     "text": [
      "Warning message:\n",
      "\"cannot remove prior installation of package 'pROC'\"\n",
      "Warning message in file.copy(savedcopy, lib, recursive = TRUE):\n",
      "\"problem copying C:\\tools\\Anaconda3\\envs\\r-env\\Lib\\R\\library\\00LOCK\\pROC\\libs\\x64\\pROC.dll to C:\\tools\\Anaconda3\\envs\\r-env\\Lib\\R\\library\\pROC\\libs\\x64\\pROC.dll: Permission denied\"\n",
      "Warning message:\n",
      "\"restored 'pROC'\"\n"
     ]
    },
    {
     "name": "stdout",
     "output_type": "stream",
     "text": [
      "package 'e1071' successfully unpacked and MD5 sums checked\n"
     ]
    },
    {
     "name": "stderr",
     "output_type": "stream",
     "text": [
      "Warning message:\n",
      "\"cannot remove prior installation of package 'e1071'\"\n",
      "Warning message in file.copy(savedcopy, lib, recursive = TRUE):\n",
      "\"problem copying C:\\tools\\Anaconda3\\envs\\r-env\\Lib\\R\\library\\00LOCK\\e1071\\libs\\x64\\e1071.dll to C:\\tools\\Anaconda3\\envs\\r-env\\Lib\\R\\library\\e1071\\libs\\x64\\e1071.dll: Permission denied\"\n",
      "Warning message:\n",
      "\"restored 'e1071'\"\n"
     ]
    },
    {
     "name": "stdout",
     "output_type": "stream",
     "text": [
      "package 'gridExtra' successfully unpacked and MD5 sums checked\n",
      "package 'kknn' successfully unpacked and MD5 sums checked\n",
      "package 'nnet' successfully unpacked and MD5 sums checked\n"
     ]
    },
    {
     "name": "stderr",
     "output_type": "stream",
     "text": [
      "Warning message:\n",
      "\"cannot remove prior installation of package 'nnet'\"\n",
      "Warning message in file.copy(savedcopy, lib, recursive = TRUE):\n",
      "\"problem copying C:\\tools\\Anaconda3\\envs\\r-env\\Lib\\R\\library\\00LOCK\\nnet\\libs\\x64\\nnet.dll to C:\\tools\\Anaconda3\\envs\\r-env\\Lib\\R\\library\\nnet\\libs\\x64\\nnet.dll: Permission denied\"\n",
      "Warning message:\n",
      "\"restored 'nnet'\"\n"
     ]
    },
    {
     "name": "stdout",
     "output_type": "stream",
     "text": [
      "package 'dummies' successfully unpacked and MD5 sums checked\n",
      "\n",
      "The downloaded binary packages are in\n",
      "\tC:\\Users\\marquesrubio\\AppData\\Local\\Temp\\Rtmp4wI0Yw\\downloaded_packages\n",
      "package 'mlr' successfully unpacked and MD5 sums checked\n"
     ]
    },
    {
     "name": "stderr",
     "output_type": "stream",
     "text": [
      "Warning message:\n",
      "\"cannot remove prior installation of package 'mlr'\"\n",
      "Warning message in file.copy(savedcopy, lib, recursive = TRUE):\n",
      "\"problem copying C:\\tools\\Anaconda3\\envs\\r-env\\Lib\\R\\library\\00LOCK\\mlr\\libs\\x64\\mlr.dll to C:\\tools\\Anaconda3\\envs\\r-env\\Lib\\R\\library\\mlr\\libs\\x64\\mlr.dll: Permission denied\"\n",
      "Warning message:\n",
      "\"restored 'mlr'\"\n"
     ]
    },
    {
     "name": "stdout",
     "output_type": "stream",
     "text": [
      "\n",
      "The downloaded binary packages are in\n",
      "\tC:\\Users\\marquesrubio\\AppData\\Local\\Temp\\Rtmp4wI0Yw\\downloaded_packages\n"
     ]
    },
    {
     "name": "stderr",
     "output_type": "stream",
     "text": [
      "Loading required package: ParamHelpers\n",
      "\n",
      "Warning message: 'mlr' is in 'maintenance-only' mode since July 2019.\n",
      "Future development will only happen in 'mlr3'\n",
      "(<https://mlr3.mlr-org.com>). Due to the focus on 'mlr3' there might be\n",
      "uncaught bugs meanwhile in {mlr} - please consider switching.\n",
      "\n"
     ]
    }
   ],
   "source": [
    "install.packages(c(\"data.table\", \"mlr3\", \"caret\", \"ggplot2\", \"plotrix\", \"rgl\", \"ISLR\", \"MASS\", \"datasets\"))\n",
    "install.packages(c(\"mlr\", \"pROC\", \"e1071\", \"gridExtra\", \"kknn\", \"nnet\", \"dummies\"))\n",
    "install.packages('mlr')\n",
    "library(mlr)"
   ]
  },
  {
   "cell_type": "code",
   "execution_count": 5,
   "id": "e795eaec",
   "metadata": {
    "scrolled": false
   },
   "outputs": [
    {
     "name": "stdout",
     "output_type": "stream",
     "text": [
      "package 'caret' successfully unpacked and MD5 sums checked\n"
     ]
    },
    {
     "name": "stderr",
     "output_type": "stream",
     "text": [
      "Warning message:\n",
      "\"cannot remove prior installation of package 'caret'\"\n",
      "Warning message in file.copy(savedcopy, lib, recursive = TRUE):\n",
      "\"problem copying C:\\tools\\Anaconda3\\envs\\r-env\\Lib\\R\\library\\00LOCK\\caret\\libs\\x64\\caret.dll to C:\\tools\\Anaconda3\\envs\\r-env\\Lib\\R\\library\\caret\\libs\\x64\\caret.dll: Permission denied\"\n",
      "Warning message:\n",
      "\"restored 'caret'\"\n"
     ]
    },
    {
     "name": "stdout",
     "output_type": "stream",
     "text": [
      "\n",
      "The downloaded binary packages are in\n",
      "\tC:\\Users\\marquesrubio\\AppData\\Local\\Temp\\Rtmp4wI0Yw\\downloaded_packages\n"
     ]
    },
    {
     "name": "stderr",
     "output_type": "stream",
     "text": [
      "Loading required package: lattice\n",
      "\n",
      "\n",
      "Attaching package: 'caret'\n",
      "\n",
      "\n",
      "The following object is masked from 'package:mlr':\n",
      "\n",
      "    train\n",
      "\n",
      "\n",
      "The following object is masked from 'package:purrr':\n",
      "\n",
      "    lift\n",
      "\n",
      "\n"
     ]
    }
   ],
   "source": [
    "install.packages(\"caret\")\n",
    "library(caret)"
   ]
  },
  {
   "cell_type": "code",
   "execution_count": 6,
   "id": "5ff1ae0a",
   "metadata": {},
   "outputs": [],
   "source": [
    "# read the data\n",
    "credit_default<- read.csv(\"C:/Users/marquesrubio/OneDrive - IESEG/Documents/Statistical and machine learning/individual project/Dataset 2_Credit Card Default/credit_default_train.csv\")"
   ]
  },
  {
   "cell_type": "code",
   "execution_count": 7,
   "id": "6a4016e6",
   "metadata": {
    "scrolled": true
   },
   "outputs": [
    {
     "data": {
      "text/html": [
       "<table class=\"dataframe\">\n",
       "<caption>A data.frame: 6 × 25</caption>\n",
       "<thead>\n",
       "\t<tr><th></th><th scope=col>cust_id</th><th scope=col>LIMIT_BAL</th><th scope=col>SEX</th><th scope=col>EDUCATION</th><th scope=col>MARRIAGE</th><th scope=col>AGE</th><th scope=col>PAY_0</th><th scope=col>PAY_2</th><th scope=col>PAY_3</th><th scope=col>PAY_4</th><th scope=col>⋯</th><th scope=col>BILL_AMT4</th><th scope=col>BILL_AMT5</th><th scope=col>BILL_AMT6</th><th scope=col>PAY_AMT1</th><th scope=col>PAY_AMT2</th><th scope=col>PAY_AMT3</th><th scope=col>PAY_AMT4</th><th scope=col>PAY_AMT5</th><th scope=col>PAY_AMT6</th><th scope=col>default.payment.next.month</th></tr>\n",
       "\t<tr><th></th><th scope=col>&lt;int&gt;</th><th scope=col>&lt;int&gt;</th><th scope=col>&lt;int&gt;</th><th scope=col>&lt;int&gt;</th><th scope=col>&lt;int&gt;</th><th scope=col>&lt;int&gt;</th><th scope=col>&lt;int&gt;</th><th scope=col>&lt;int&gt;</th><th scope=col>&lt;int&gt;</th><th scope=col>&lt;int&gt;</th><th scope=col>⋯</th><th scope=col>&lt;int&gt;</th><th scope=col>&lt;int&gt;</th><th scope=col>&lt;int&gt;</th><th scope=col>&lt;int&gt;</th><th scope=col>&lt;int&gt;</th><th scope=col>&lt;int&gt;</th><th scope=col>&lt;int&gt;</th><th scope=col>&lt;int&gt;</th><th scope=col>&lt;int&gt;</th><th scope=col>&lt;int&gt;</th></tr>\n",
       "</thead>\n",
       "<tbody>\n",
       "\t<tr><th scope=row>1</th><td>18895</td><td> 70000</td><td>1</td><td>3</td><td>2</td><td>34</td><td>0</td><td>0</td><td>0</td><td>0</td><td>⋯</td><td> 25559</td><td> 26134</td><td> 26715</td><td>1700</td><td>1500</td><td>2000</td><td>1000</td><td>1000</td><td>2000</td><td>0</td></tr>\n",
       "\t<tr><th scope=row>2</th><td>25102</td><td>390000</td><td>2</td><td>2</td><td>2</td><td>26</td><td>2</td><td>2</td><td>2</td><td>0</td><td>⋯</td><td>140387</td><td>128112</td><td>115514</td><td>5000</td><td>3000</td><td>5000</td><td>4548</td><td>4100</td><td>3300</td><td>0</td></tr>\n",
       "\t<tr><th scope=row>3</th><td>28867</td><td> 60000</td><td>1</td><td>1</td><td>2</td><td>27</td><td>0</td><td>0</td><td>0</td><td>0</td><td>⋯</td><td> 26038</td><td> 28607</td><td> 27997</td><td>1378</td><td>1406</td><td>3000</td><td>3000</td><td>   0</td><td> 923</td><td>1</td></tr>\n",
       "\t<tr><th scope=row>4</th><td> 1842</td><td>140000</td><td>2</td><td>2</td><td>1</td><td>55</td><td>0</td><td>0</td><td>0</td><td>0</td><td>⋯</td><td> 72391</td><td> 61298</td><td> 62193</td><td>4200</td><td>2822</td><td>2336</td><td>2588</td><td>2250</td><td>2491</td><td>0</td></tr>\n",
       "\t<tr><th scope=row>5</th><td> 3371</td><td> 50000</td><td>1</td><td>1</td><td>2</td><td>29</td><td>2</td><td>2</td><td>2</td><td>0</td><td>⋯</td><td>  1047</td><td>     0</td><td>     0</td><td>3000</td><td>   0</td><td>1000</td><td>   0</td><td>   0</td><td>   0</td><td>1</td></tr>\n",
       "\t<tr><th scope=row>6</th><td>29925</td><td> 20000</td><td>1</td><td>2</td><td>2</td><td>37</td><td>0</td><td>0</td><td>0</td><td>0</td><td>⋯</td><td> 19105</td><td> 19609</td><td> 19283</td><td>1700</td><td>1600</td><td>1200</td><td>1000</td><td> 900</td><td>1000</td><td>0</td></tr>\n",
       "</tbody>\n",
       "</table>\n"
      ],
      "text/latex": [
       "A data.frame: 6 × 25\n",
       "\\begin{tabular}{r|lllllllllllllllllllll}\n",
       "  & cust\\_id & LIMIT\\_BAL & SEX & EDUCATION & MARRIAGE & AGE & PAY\\_0 & PAY\\_2 & PAY\\_3 & PAY\\_4 & ⋯ & BILL\\_AMT4 & BILL\\_AMT5 & BILL\\_AMT6 & PAY\\_AMT1 & PAY\\_AMT2 & PAY\\_AMT3 & PAY\\_AMT4 & PAY\\_AMT5 & PAY\\_AMT6 & default.payment.next.month\\\\\n",
       "  & <int> & <int> & <int> & <int> & <int> & <int> & <int> & <int> & <int> & <int> & ⋯ & <int> & <int> & <int> & <int> & <int> & <int> & <int> & <int> & <int> & <int>\\\\\n",
       "\\hline\n",
       "\t1 & 18895 &  70000 & 1 & 3 & 2 & 34 & 0 & 0 & 0 & 0 & ⋯ &  25559 &  26134 &  26715 & 1700 & 1500 & 2000 & 1000 & 1000 & 2000 & 0\\\\\n",
       "\t2 & 25102 & 390000 & 2 & 2 & 2 & 26 & 2 & 2 & 2 & 0 & ⋯ & 140387 & 128112 & 115514 & 5000 & 3000 & 5000 & 4548 & 4100 & 3300 & 0\\\\\n",
       "\t3 & 28867 &  60000 & 1 & 1 & 2 & 27 & 0 & 0 & 0 & 0 & ⋯ &  26038 &  28607 &  27997 & 1378 & 1406 & 3000 & 3000 &    0 &  923 & 1\\\\\n",
       "\t4 &  1842 & 140000 & 2 & 2 & 1 & 55 & 0 & 0 & 0 & 0 & ⋯ &  72391 &  61298 &  62193 & 4200 & 2822 & 2336 & 2588 & 2250 & 2491 & 0\\\\\n",
       "\t5 &  3371 &  50000 & 1 & 1 & 2 & 29 & 2 & 2 & 2 & 0 & ⋯ &   1047 &      0 &      0 & 3000 &    0 & 1000 &    0 &    0 &    0 & 1\\\\\n",
       "\t6 & 29925 &  20000 & 1 & 2 & 2 & 37 & 0 & 0 & 0 & 0 & ⋯ &  19105 &  19609 &  19283 & 1700 & 1600 & 1200 & 1000 &  900 & 1000 & 0\\\\\n",
       "\\end{tabular}\n"
      ],
      "text/markdown": [
       "\n",
       "A data.frame: 6 × 25\n",
       "\n",
       "| <!--/--> | cust_id &lt;int&gt; | LIMIT_BAL &lt;int&gt; | SEX &lt;int&gt; | EDUCATION &lt;int&gt; | MARRIAGE &lt;int&gt; | AGE &lt;int&gt; | PAY_0 &lt;int&gt; | PAY_2 &lt;int&gt; | PAY_3 &lt;int&gt; | PAY_4 &lt;int&gt; | ⋯ ⋯ | BILL_AMT4 &lt;int&gt; | BILL_AMT5 &lt;int&gt; | BILL_AMT6 &lt;int&gt; | PAY_AMT1 &lt;int&gt; | PAY_AMT2 &lt;int&gt; | PAY_AMT3 &lt;int&gt; | PAY_AMT4 &lt;int&gt; | PAY_AMT5 &lt;int&gt; | PAY_AMT6 &lt;int&gt; | default.payment.next.month &lt;int&gt; |\n",
       "|---|---|---|---|---|---|---|---|---|---|---|---|---|---|---|---|---|---|---|---|---|---|\n",
       "| 1 | 18895 |  70000 | 1 | 3 | 2 | 34 | 0 | 0 | 0 | 0 | ⋯ |  25559 |  26134 |  26715 | 1700 | 1500 | 2000 | 1000 | 1000 | 2000 | 0 |\n",
       "| 2 | 25102 | 390000 | 2 | 2 | 2 | 26 | 2 | 2 | 2 | 0 | ⋯ | 140387 | 128112 | 115514 | 5000 | 3000 | 5000 | 4548 | 4100 | 3300 | 0 |\n",
       "| 3 | 28867 |  60000 | 1 | 1 | 2 | 27 | 0 | 0 | 0 | 0 | ⋯ |  26038 |  28607 |  27997 | 1378 | 1406 | 3000 | 3000 |    0 |  923 | 1 |\n",
       "| 4 |  1842 | 140000 | 2 | 2 | 1 | 55 | 0 | 0 | 0 | 0 | ⋯ |  72391 |  61298 |  62193 | 4200 | 2822 | 2336 | 2588 | 2250 | 2491 | 0 |\n",
       "| 5 |  3371 |  50000 | 1 | 1 | 2 | 29 | 2 | 2 | 2 | 0 | ⋯ |   1047 |      0 |      0 | 3000 |    0 | 1000 |    0 |    0 |    0 | 1 |\n",
       "| 6 | 29925 |  20000 | 1 | 2 | 2 | 37 | 0 | 0 | 0 | 0 | ⋯ |  19105 |  19609 |  19283 | 1700 | 1600 | 1200 | 1000 |  900 | 1000 | 0 |\n",
       "\n"
      ],
      "text/plain": [
       "  cust_id LIMIT_BAL SEX EDUCATION MARRIAGE AGE PAY_0 PAY_2 PAY_3 PAY_4 <U+22EF>       \n",
       "1 18895    70000    1   3         2        34  0     0     0     0     <U+22EF>\n",
       "2 25102   390000    2   2         2        26  2     2     2     0     <U+22EF>\n",
       "3 28867    60000    1   1         2        27  0     0     0     0     <U+22EF>\n",
       "4  1842   140000    2   2         1        55  0     0     0     0     <U+22EF>\n",
       "5  3371    50000    1   1         2        29  2     2     2     0     <U+22EF>\n",
       "6 29925    20000    1   2         2        37  0     0     0     0     <U+22EF>\n",
       "  BILL_AMT4 BILL_AMT5 BILL_AMT6 PAY_AMT1 PAY_AMT2 PAY_AMT3 PAY_AMT4 PAY_AMT5\n",
       "1  25559     26134     26715    1700     1500     2000     1000     1000    \n",
       "2 140387    128112    115514    5000     3000     5000     4548     4100    \n",
       "3  26038     28607     27997    1378     1406     3000     3000        0    \n",
       "4  72391     61298     62193    4200     2822     2336     2588     2250    \n",
       "5   1047         0         0    3000        0     1000        0        0    \n",
       "6  19105     19609     19283    1700     1600     1200     1000      900    \n",
       "  PAY_AMT6 default.payment.next.month\n",
       "1 2000     0                         \n",
       "2 3300     0                         \n",
       "3  923     1                         \n",
       "4 2491     0                         \n",
       "5    0     1                         \n",
       "6 1000     0                         "
      ]
     },
     "metadata": {},
     "output_type": "display_data"
    }
   ],
   "source": [
    "head(credit_default)"
   ]
  },
  {
   "cell_type": "markdown",
   "id": "3d3bb3dd",
   "metadata": {},
   "source": [
    "# DATA CLEANING "
   ]
  },
  {
   "cell_type": "markdown",
   "id": "496faa63",
   "metadata": {},
   "source": [
    "# handling missing values, encoding correction, transform variables"
   ]
  },
  {
   "cell_type": "code",
   "execution_count": 8,
   "id": "239962d7",
   "metadata": {},
   "outputs": [
    {
     "data": {
      "text/html": [
       "15990"
      ],
      "text/latex": [
       "15990"
      ],
      "text/markdown": [
       "15990"
      ],
      "text/plain": [
       "[1] 15990"
      ]
     },
     "metadata": {},
     "output_type": "display_data"
    }
   ],
   "source": [
    "# number of rows with missing values -- we can't delete them, it's a big amount of data\n",
    "sum(complete.cases(credit_default))"
   ]
  },
  {
   "cell_type": "code",
   "execution_count": 9,
   "id": "c9b5d7fa",
   "metadata": {},
   "outputs": [
    {
     "data": {
      "text/html": [
       "<style>\n",
       ".dl-inline {width: auto; margin:0; padding: 0}\n",
       ".dl-inline>dt, .dl-inline>dd {float: none; width: auto; display: inline-block}\n",
       ".dl-inline>dt::after {content: \":\\0020\"; padding-right: .5ex}\n",
       ".dl-inline>dt:not(:first-of-type) {padding-left: .5ex}\n",
       "</style><dl class=dl-inline><dt>cust_id</dt><dd>0</dd><dt>LIMIT_BAL</dt><dd>202</dd><dt>SEX</dt><dd>161</dd><dt>EDUCATION</dt><dd>199</dd><dt>MARRIAGE</dt><dd>170</dd><dt>AGE</dt><dd>214</dd><dt>PAY_0</dt><dd>195</dd><dt>PAY_2</dt><dd>219</dd><dt>PAY_3</dt><dd>217</dd><dt>PAY_4</dt><dd>199</dd><dt>PAY_5</dt><dd>185</dd><dt>PAY_6</dt><dd>203</dd><dt>BILL_AMT1</dt><dd>185</dd><dt>BILL_AMT2</dt><dd>209</dd><dt>BILL_AMT3</dt><dd>175</dd><dt>BILL_AMT4</dt><dd>165</dd><dt>BILL_AMT5</dt><dd>181</dd><dt>BILL_AMT6</dt><dd>197</dd><dt>PAY_AMT1</dt><dd>204</dd><dt>PAY_AMT2</dt><dd>184</dd><dt>PAY_AMT3</dt><dd>212</dd><dt>PAY_AMT4</dt><dd>197</dd><dt>PAY_AMT5</dt><dd>179</dd><dt>PAY_AMT6</dt><dd>196</dd><dt>default.payment.next.month</dt><dd>0</dd></dl>\n"
      ],
      "text/latex": [
       "\\begin{description*}\n",
       "\\item[cust\\textbackslash{}\\_id] 0\n",
       "\\item[LIMIT\\textbackslash{}\\_BAL] 202\n",
       "\\item[SEX] 161\n",
       "\\item[EDUCATION] 199\n",
       "\\item[MARRIAGE] 170\n",
       "\\item[AGE] 214\n",
       "\\item[PAY\\textbackslash{}\\_0] 195\n",
       "\\item[PAY\\textbackslash{}\\_2] 219\n",
       "\\item[PAY\\textbackslash{}\\_3] 217\n",
       "\\item[PAY\\textbackslash{}\\_4] 199\n",
       "\\item[PAY\\textbackslash{}\\_5] 185\n",
       "\\item[PAY\\textbackslash{}\\_6] 203\n",
       "\\item[BILL\\textbackslash{}\\_AMT1] 185\n",
       "\\item[BILL\\textbackslash{}\\_AMT2] 209\n",
       "\\item[BILL\\textbackslash{}\\_AMT3] 175\n",
       "\\item[BILL\\textbackslash{}\\_AMT4] 165\n",
       "\\item[BILL\\textbackslash{}\\_AMT5] 181\n",
       "\\item[BILL\\textbackslash{}\\_AMT6] 197\n",
       "\\item[PAY\\textbackslash{}\\_AMT1] 204\n",
       "\\item[PAY\\textbackslash{}\\_AMT2] 184\n",
       "\\item[PAY\\textbackslash{}\\_AMT3] 212\n",
       "\\item[PAY\\textbackslash{}\\_AMT4] 197\n",
       "\\item[PAY\\textbackslash{}\\_AMT5] 179\n",
       "\\item[PAY\\textbackslash{}\\_AMT6] 196\n",
       "\\item[default.payment.next.month] 0\n",
       "\\end{description*}\n"
      ],
      "text/markdown": [
       "cust_id\n",
       ":   0LIMIT_BAL\n",
       ":   202SEX\n",
       ":   161EDUCATION\n",
       ":   199MARRIAGE\n",
       ":   170AGE\n",
       ":   214PAY_0\n",
       ":   195PAY_2\n",
       ":   219PAY_3\n",
       ":   217PAY_4\n",
       ":   199PAY_5\n",
       ":   185PAY_6\n",
       ":   203BILL_AMT1\n",
       ":   185BILL_AMT2\n",
       ":   209BILL_AMT3\n",
       ":   175BILL_AMT4\n",
       ":   165BILL_AMT5\n",
       ":   181BILL_AMT6\n",
       ":   197PAY_AMT1\n",
       ":   204PAY_AMT2\n",
       ":   184PAY_AMT3\n",
       ":   212PAY_AMT4\n",
       ":   197PAY_AMT5\n",
       ":   179PAY_AMT6\n",
       ":   196default.payment.next.month\n",
       ":   0\n",
       "\n"
      ],
      "text/plain": [
       "                   cust_id                  LIMIT_BAL \n",
       "                         0                        202 \n",
       "                       SEX                  EDUCATION \n",
       "                       161                        199 \n",
       "                  MARRIAGE                        AGE \n",
       "                       170                        214 \n",
       "                     PAY_0                      PAY_2 \n",
       "                       195                        219 \n",
       "                     PAY_3                      PAY_4 \n",
       "                       217                        199 \n",
       "                     PAY_5                      PAY_6 \n",
       "                       185                        203 \n",
       "                 BILL_AMT1                  BILL_AMT2 \n",
       "                       185                        209 \n",
       "                 BILL_AMT3                  BILL_AMT4 \n",
       "                       175                        165 \n",
       "                 BILL_AMT5                  BILL_AMT6 \n",
       "                       181                        197 \n",
       "                  PAY_AMT1                   PAY_AMT2 \n",
       "                       204                        184 \n",
       "                  PAY_AMT3                   PAY_AMT4 \n",
       "                       212                        197 \n",
       "                  PAY_AMT5                   PAY_AMT6 \n",
       "                       179                        196 \n",
       "default.payment.next.month \n",
       "                         0 "
      ]
     },
     "metadata": {},
     "output_type": "display_data"
    }
   ],
   "source": [
    "# handle missing values\n",
    "sapply(credit_default, function(x) sum(is.na(x)))"
   ]
  },
  {
   "cell_type": "code",
   "execution_count": 10,
   "id": "8abf8266",
   "metadata": {},
   "outputs": [],
   "source": [
    "# we can see that there are missing values for each of the variables, we need to replace those missing values\n",
    "# for the variabes that are qualitative, i'll replace the missing values with the mode\n",
    "\n",
    "#retrieved from: https://www.tutorialspoint.com/r/r_mean_median_mode.htm\n",
    "getmode <- function(v) {\n",
    "   uniqv <- unique(v)\n",
    "   uniqv[which.max(tabulate(match(v, uniqv)))]\n",
    "}"
   ]
  },
  {
   "cell_type": "code",
   "execution_count": 11,
   "id": "e5ccfc55",
   "metadata": {},
   "outputs": [
    {
     "data": {
      "text/html": [
       "2"
      ],
      "text/latex": [
       "2"
      ],
      "text/markdown": [
       "2"
      ],
      "text/plain": [
       "[1] 2"
      ]
     },
     "metadata": {},
     "output_type": "display_data"
    }
   ],
   "source": [
    "#Mode of SEX variable\n",
    "getmode(credit_default$SEX)"
   ]
  },
  {
   "cell_type": "code",
   "execution_count": 12,
   "id": "bd445fd7",
   "metadata": {},
   "outputs": [
    {
     "data": {
      "text/html": [
       "2"
      ],
      "text/latex": [
       "2"
      ],
      "text/markdown": [
       "2"
      ],
      "text/plain": [
       "[1] 2"
      ]
     },
     "metadata": {},
     "output_type": "display_data"
    }
   ],
   "source": [
    "#Mode of EDUCATION variable\n",
    "getmode(credit_default$EDUCATION)"
   ]
  },
  {
   "cell_type": "code",
   "execution_count": 13,
   "id": "744b4a44",
   "metadata": {},
   "outputs": [
    {
     "data": {
      "text/html": [
       "2"
      ],
      "text/latex": [
       "2"
      ],
      "text/markdown": [
       "2"
      ],
      "text/plain": [
       "[1] 2"
      ]
     },
     "metadata": {},
     "output_type": "display_data"
    }
   ],
   "source": [
    "#Mode of MARRIAGE variable\n",
    "getmode(credit_default$MARRIAGE)"
   ]
  },
  {
   "cell_type": "code",
   "execution_count": 14,
   "id": "95153ffa",
   "metadata": {},
   "outputs": [
    {
     "data": {
      "text/html": [
       "0"
      ],
      "text/latex": [
       "0"
      ],
      "text/markdown": [
       "0"
      ],
      "text/plain": [
       "[1] 0"
      ]
     },
     "metadata": {},
     "output_type": "display_data"
    },
    {
     "data": {
      "text/html": [
       "0"
      ],
      "text/latex": [
       "0"
      ],
      "text/markdown": [
       "0"
      ],
      "text/plain": [
       "[1] 0"
      ]
     },
     "metadata": {},
     "output_type": "display_data"
    },
    {
     "data": {
      "text/html": [
       "0"
      ],
      "text/latex": [
       "0"
      ],
      "text/markdown": [
       "0"
      ],
      "text/plain": [
       "[1] 0"
      ]
     },
     "metadata": {},
     "output_type": "display_data"
    },
    {
     "data": {
      "text/html": [
       "0"
      ],
      "text/latex": [
       "0"
      ],
      "text/markdown": [
       "0"
      ],
      "text/plain": [
       "[1] 0"
      ]
     },
     "metadata": {},
     "output_type": "display_data"
    },
    {
     "data": {
      "text/html": [
       "0"
      ],
      "text/latex": [
       "0"
      ],
      "text/markdown": [
       "0"
      ],
      "text/plain": [
       "[1] 0"
      ]
     },
     "metadata": {},
     "output_type": "display_data"
    },
    {
     "data": {
      "text/html": [
       "0"
      ],
      "text/latex": [
       "0"
      ],
      "text/markdown": [
       "0"
      ],
      "text/plain": [
       "[1] 0"
      ]
     },
     "metadata": {},
     "output_type": "display_data"
    }
   ],
   "source": [
    "#Mode of Status repayment\n",
    "getmode(credit_default$PAY_0)\n",
    "getmode(credit_default$PAY_2)\n",
    "getmode(credit_default$PAY_3)\n",
    "getmode(credit_default$PAY_4)\n",
    "getmode(credit_default$PAY_5)\n",
    "getmode(credit_default$PAY_6)"
   ]
  },
  {
   "cell_type": "code",
   "execution_count": 15,
   "id": "8d9089ba",
   "metadata": {},
   "outputs": [],
   "source": [
    "# replace the missing values of sex with the mode\n",
    "credit_default$SEX[is.na(credit_default$SEX)]=2"
   ]
  },
  {
   "cell_type": "code",
   "execution_count": 16,
   "id": "bc4e4fa8",
   "metadata": {},
   "outputs": [],
   "source": [
    "# replace the missing values of education with the mode\n",
    "credit_default$EDUCATION[is.na(credit_default$EDUCATION)]=2"
   ]
  },
  {
   "cell_type": "code",
   "execution_count": 17,
   "id": "52d5cebe",
   "metadata": {},
   "outputs": [],
   "source": [
    "# replace the missing values of marriage with the mode\n",
    "credit_default$MARRIAGE[is.na(credit_default$MARRIAGE)]=2"
   ]
  },
  {
   "cell_type": "code",
   "execution_count": 18,
   "id": "c2e8e7df",
   "metadata": {},
   "outputs": [],
   "source": [
    "# replace the missing values of the status repayment\n",
    "credit_default$PAY_0[is.na(credit_default$PAY_0)]=0\n",
    "credit_default$PAY_2[is.na(credit_default$PAY_2)]=0\n",
    "credit_default$PAY_3[is.na(credit_default$PAY_3)]=0\n",
    "credit_default$PAY_4[is.na(credit_default$PAY_4)]=0\n",
    "credit_default$PAY_5[is.na(credit_default$PAY_5)]=0\n",
    "credit_default$PAY_6[is.na(credit_default$PAY_6)]=0"
   ]
  },
  {
   "cell_type": "code",
   "execution_count": 19,
   "id": "5e59e3bb",
   "metadata": {},
   "outputs": [
    {
     "data": {
      "text/html": [
       "<style>\n",
       ".list-inline {list-style: none; margin:0; padding: 0}\n",
       ".list-inline>li {display: inline-block}\n",
       ".list-inline>li:not(:last-child)::after {content: \"\\00b7\"; padding: 0 .5ex}\n",
       "</style>\n",
       "<ol class=list-inline><li>1</li><li>2</li></ol>\n"
      ],
      "text/latex": [
       "\\begin{enumerate*}\n",
       "\\item 1\n",
       "\\item 2\n",
       "\\end{enumerate*}\n"
      ],
      "text/markdown": [
       "1. 1\n",
       "2. 2\n",
       "\n",
       "\n"
      ],
      "text/plain": [
       "[1] 1 2"
      ]
     },
     "metadata": {},
     "output_type": "display_data"
    }
   ],
   "source": [
    "#check the unique values of sex, we see that number 4 is a mistake\n",
    "unique(credit_default$SEX)"
   ]
  },
  {
   "cell_type": "code",
   "execution_count": 20,
   "id": "191ae074",
   "metadata": {},
   "outputs": [
    {
     "data": {
      "text/html": [
       "<table class=\"dataframe\">\n",
       "<caption>A data.frame: 1 × 1</caption>\n",
       "<thead>\n",
       "\t<tr><th scope=col>n</th></tr>\n",
       "\t<tr><th scope=col>&lt;int&gt;</th></tr>\n",
       "</thead>\n",
       "<tbody>\n",
       "\t<tr><td>0</td></tr>\n",
       "</tbody>\n",
       "</table>\n"
      ],
      "text/latex": [
       "A data.frame: 1 × 1\n",
       "\\begin{tabular}{l}\n",
       " n\\\\\n",
       " <int>\\\\\n",
       "\\hline\n",
       "\t 0\\\\\n",
       "\\end{tabular}\n"
      ],
      "text/markdown": [
       "\n",
       "A data.frame: 1 × 1\n",
       "\n",
       "| n &lt;int&gt; |\n",
       "|---|\n",
       "| 0 |\n",
       "\n"
      ],
      "text/plain": [
       "  n\n",
       "1 0"
      ]
     },
     "metadata": {},
     "output_type": "display_data"
    }
   ],
   "source": [
    "# check the amount of values that don't correspond\n",
    "credit_default %>%\n",
    "    filter(SEX==4) %>%\n",
    "    count"
   ]
  },
  {
   "cell_type": "code",
   "execution_count": 21,
   "id": "397eb8e8",
   "metadata": {},
   "outputs": [],
   "source": [
    "# replace this values for the mode\n",
    "credit_default[\"SEX\"][credit_default[\"SEX\"] == 4] <- 2"
   ]
  },
  {
   "cell_type": "code",
   "execution_count": 22,
   "id": "08e8fe63",
   "metadata": {},
   "outputs": [
    {
     "data": {
      "text/html": [
       "<style>\n",
       ".list-inline {list-style: none; margin:0; padding: 0}\n",
       ".list-inline>li {display: inline-block}\n",
       ".list-inline>li:not(:last-child)::after {content: \"\\00b7\"; padding: 0 .5ex}\n",
       "</style>\n",
       "<ol class=list-inline><li>3</li><li>2</li><li>1</li><li>5</li><li>4</li><li>6</li><li>0</li></ol>\n"
      ],
      "text/latex": [
       "\\begin{enumerate*}\n",
       "\\item 3\n",
       "\\item 2\n",
       "\\item 1\n",
       "\\item 5\n",
       "\\item 4\n",
       "\\item 6\n",
       "\\item 0\n",
       "\\end{enumerate*}\n"
      ],
      "text/markdown": [
       "1. 3\n",
       "2. 2\n",
       "3. 1\n",
       "4. 5\n",
       "5. 4\n",
       "6. 6\n",
       "7. 0\n",
       "\n",
       "\n"
      ],
      "text/plain": [
       "[1] 3 2 1 5 4 6 0"
      ]
     },
     "metadata": {},
     "output_type": "display_data"
    }
   ],
   "source": [
    "#check the unique values of education, the numbers that don't correspond are 0,5,6\n",
    "unique(credit_default$EDUCATION)"
   ]
  },
  {
   "cell_type": "code",
   "execution_count": 23,
   "id": "4c20eb8d",
   "metadata": {},
   "outputs": [],
   "source": [
    "# replace this values for the mode\n",
    "credit_default[\"EDUCATION\"][credit_default[\"EDUCATION\"] == 0] <- 2\n",
    "credit_default[\"EDUCATION\"][credit_default[\"EDUCATION\"] == 5] <- 2\n",
    "credit_default[\"EDUCATION\"][credit_default[\"EDUCATION\"] == 6] <- 2"
   ]
  },
  {
   "cell_type": "code",
   "execution_count": 24,
   "id": "7be0054e",
   "metadata": {},
   "outputs": [
    {
     "data": {
      "text/html": [
       "<style>\n",
       ".list-inline {list-style: none; margin:0; padding: 0}\n",
       ".list-inline>li {display: inline-block}\n",
       ".list-inline>li:not(:last-child)::after {content: \"\\00b7\"; padding: 0 .5ex}\n",
       "</style>\n",
       "<ol class=list-inline><li>2</li><li>1</li><li>3</li><li>0</li></ol>\n"
      ],
      "text/latex": [
       "\\begin{enumerate*}\n",
       "\\item 2\n",
       "\\item 1\n",
       "\\item 3\n",
       "\\item 0\n",
       "\\end{enumerate*}\n"
      ],
      "text/markdown": [
       "1. 2\n",
       "2. 1\n",
       "3. 3\n",
       "4. 0\n",
       "\n",
       "\n"
      ],
      "text/plain": [
       "[1] 2 1 3 0"
      ]
     },
     "metadata": {},
     "output_type": "display_data"
    }
   ],
   "source": [
    "#check the unique values of marriage, the 0 is not an option\n",
    "unique(credit_default$MARRIAGE)"
   ]
  },
  {
   "cell_type": "code",
   "execution_count": 25,
   "id": "a4f96e78",
   "metadata": {},
   "outputs": [
    {
     "data": {
      "text/html": [
       "<table class=\"dataframe\">\n",
       "<caption>A data.frame: 1 × 1</caption>\n",
       "<thead>\n",
       "\t<tr><th scope=col>n</th></tr>\n",
       "\t<tr><th scope=col>&lt;int&gt;</th></tr>\n",
       "</thead>\n",
       "<tbody>\n",
       "\t<tr><td>36</td></tr>\n",
       "</tbody>\n",
       "</table>\n"
      ],
      "text/latex": [
       "A data.frame: 1 × 1\n",
       "\\begin{tabular}{l}\n",
       " n\\\\\n",
       " <int>\\\\\n",
       "\\hline\n",
       "\t 36\\\\\n",
       "\\end{tabular}\n"
      ],
      "text/markdown": [
       "\n",
       "A data.frame: 1 × 1\n",
       "\n",
       "| n &lt;int&gt; |\n",
       "|---|\n",
       "| 36 |\n",
       "\n"
      ],
      "text/plain": [
       "  n \n",
       "1 36"
      ]
     },
     "metadata": {},
     "output_type": "display_data"
    }
   ],
   "source": [
    "# check the amount of values that don't correspond\n",
    "credit_default %>%\n",
    "    filter(MARRIAGE==0) %>%\n",
    "    count"
   ]
  },
  {
   "cell_type": "code",
   "execution_count": 26,
   "id": "2d02793c",
   "metadata": {},
   "outputs": [],
   "source": [
    "# replace this values for the mode\n",
    "credit_default[\"MARRIAGE\"][credit_default[\"MARRIAGE\"] == 0] <- 2"
   ]
  },
  {
   "cell_type": "code",
   "execution_count": 27,
   "id": "e8c689dc",
   "metadata": {},
   "outputs": [
    {
     "data": {
      "text/html": [
       "<style>\n",
       ".list-inline {list-style: none; margin:0; padding: 0}\n",
       ".list-inline>li {display: inline-block}\n",
       ".list-inline>li:not(:last-child)::after {content: \"\\00b7\"; padding: 0 .5ex}\n",
       "</style>\n",
       "<ol class=list-inline><li>0</li><li>2</li><li>-2</li><li>-1</li><li>1</li><li>3</li><li>4</li><li>8</li><li>5</li><li>6</li><li>7</li></ol>\n"
      ],
      "text/latex": [
       "\\begin{enumerate*}\n",
       "\\item 0\n",
       "\\item 2\n",
       "\\item -2\n",
       "\\item -1\n",
       "\\item 1\n",
       "\\item 3\n",
       "\\item 4\n",
       "\\item 8\n",
       "\\item 5\n",
       "\\item 6\n",
       "\\item 7\n",
       "\\end{enumerate*}\n"
      ],
      "text/markdown": [
       "1. 0\n",
       "2. 2\n",
       "3. -2\n",
       "4. -1\n",
       "5. 1\n",
       "6. 3\n",
       "7. 4\n",
       "8. 8\n",
       "9. 5\n",
       "10. 6\n",
       "11. 7\n",
       "\n",
       "\n"
      ],
      "text/plain": [
       " [1]  0  2 -2 -1  1  3  4  8  5  6  7"
      ]
     },
     "metadata": {},
     "output_type": "display_data"
    },
    {
     "data": {
      "text/html": [
       "<style>\n",
       ".list-inline {list-style: none; margin:0; padding: 0}\n",
       ".list-inline>li {display: inline-block}\n",
       ".list-inline>li:not(:last-child)::after {content: \"\\00b7\"; padding: 0 .5ex}\n",
       "</style>\n",
       "<ol class=list-inline><li>0</li><li>2</li><li>-2</li><li>-1</li><li>3</li><li>4</li><li>7</li><li>5</li><li>1</li><li>6</li><li>8</li></ol>\n"
      ],
      "text/latex": [
       "\\begin{enumerate*}\n",
       "\\item 0\n",
       "\\item 2\n",
       "\\item -2\n",
       "\\item -1\n",
       "\\item 3\n",
       "\\item 4\n",
       "\\item 7\n",
       "\\item 5\n",
       "\\item 1\n",
       "\\item 6\n",
       "\\item 8\n",
       "\\end{enumerate*}\n"
      ],
      "text/markdown": [
       "1. 0\n",
       "2. 2\n",
       "3. -2\n",
       "4. -1\n",
       "5. 3\n",
       "6. 4\n",
       "7. 7\n",
       "8. 5\n",
       "9. 1\n",
       "10. 6\n",
       "11. 8\n",
       "\n",
       "\n"
      ],
      "text/plain": [
       " [1]  0  2 -2 -1  3  4  7  5  1  6  8"
      ]
     },
     "metadata": {},
     "output_type": "display_data"
    },
    {
     "data": {
      "text/html": [
       "<style>\n",
       ".list-inline {list-style: none; margin:0; padding: 0}\n",
       ".list-inline>li {display: inline-block}\n",
       ".list-inline>li:not(:last-child)::after {content: \"\\00b7\"; padding: 0 .5ex}\n",
       "</style>\n",
       "<ol class=list-inline><li>0</li><li>2</li><li>-2</li><li>-1</li><li>3</li><li>4</li><li>6</li><li>7</li><li>5</li><li>8</li><li>1</li></ol>\n"
      ],
      "text/latex": [
       "\\begin{enumerate*}\n",
       "\\item 0\n",
       "\\item 2\n",
       "\\item -2\n",
       "\\item -1\n",
       "\\item 3\n",
       "\\item 4\n",
       "\\item 6\n",
       "\\item 7\n",
       "\\item 5\n",
       "\\item 8\n",
       "\\item 1\n",
       "\\end{enumerate*}\n"
      ],
      "text/markdown": [
       "1. 0\n",
       "2. 2\n",
       "3. -2\n",
       "4. -1\n",
       "5. 3\n",
       "6. 4\n",
       "7. 6\n",
       "8. 7\n",
       "9. 5\n",
       "10. 8\n",
       "11. 1\n",
       "\n",
       "\n"
      ],
      "text/plain": [
       " [1]  0  2 -2 -1  3  4  6  7  5  8  1"
      ]
     },
     "metadata": {},
     "output_type": "display_data"
    },
    {
     "data": {
      "text/html": [
       "<style>\n",
       ".list-inline {list-style: none; margin:0; padding: 0}\n",
       ".list-inline>li {display: inline-block}\n",
       ".list-inline>li:not(:last-child)::after {content: \"\\00b7\"; padding: 0 .5ex}\n",
       "</style>\n",
       "<ol class=list-inline><li>0</li><li>2</li><li>-1</li><li>-2</li><li>5</li><li>7</li><li>4</li><li>3</li><li>6</li><li>1</li><li>8</li></ol>\n"
      ],
      "text/latex": [
       "\\begin{enumerate*}\n",
       "\\item 0\n",
       "\\item 2\n",
       "\\item -1\n",
       "\\item -2\n",
       "\\item 5\n",
       "\\item 7\n",
       "\\item 4\n",
       "\\item 3\n",
       "\\item 6\n",
       "\\item 1\n",
       "\\item 8\n",
       "\\end{enumerate*}\n"
      ],
      "text/markdown": [
       "1. 0\n",
       "2. 2\n",
       "3. -1\n",
       "4. -2\n",
       "5. 5\n",
       "6. 7\n",
       "7. 4\n",
       "8. 3\n",
       "9. 6\n",
       "10. 1\n",
       "11. 8\n",
       "\n",
       "\n"
      ],
      "text/plain": [
       " [1]  0  2 -1 -2  5  7  4  3  6  1  8"
      ]
     },
     "metadata": {},
     "output_type": "display_data"
    },
    {
     "data": {
      "text/html": [
       "<style>\n",
       ".list-inline {list-style: none; margin:0; padding: 0}\n",
       ".list-inline>li {display: inline-block}\n",
       ".list-inline>li:not(:last-child)::after {content: \"\\00b7\"; padding: 0 .5ex}\n",
       "</style>\n",
       "<ol class=list-inline><li>0</li><li>2</li><li>-2</li><li>-1</li><li>4</li><li>3</li><li>7</li><li>5</li><li>6</li><li>8</li></ol>\n"
      ],
      "text/latex": [
       "\\begin{enumerate*}\n",
       "\\item 0\n",
       "\\item 2\n",
       "\\item -2\n",
       "\\item -1\n",
       "\\item 4\n",
       "\\item 3\n",
       "\\item 7\n",
       "\\item 5\n",
       "\\item 6\n",
       "\\item 8\n",
       "\\end{enumerate*}\n"
      ],
      "text/markdown": [
       "1. 0\n",
       "2. 2\n",
       "3. -2\n",
       "4. -1\n",
       "5. 4\n",
       "6. 3\n",
       "7. 7\n",
       "8. 5\n",
       "9. 6\n",
       "10. 8\n",
       "\n",
       "\n"
      ],
      "text/plain": [
       " [1]  0  2 -2 -1  4  3  7  5  6  8"
      ]
     },
     "metadata": {},
     "output_type": "display_data"
    },
    {
     "data": {
      "text/html": [
       "<style>\n",
       ".list-inline {list-style: none; margin:0; padding: 0}\n",
       ".list-inline>li {display: inline-block}\n",
       ".list-inline>li:not(:last-child)::after {content: \"\\00b7\"; padding: 0 .5ex}\n",
       "</style>\n",
       "<ol class=list-inline><li>0</li><li>2</li><li>-2</li><li>-1</li><li>3</li><li>7</li><li>4</li><li>6</li><li>5</li><li>8</li></ol>\n"
      ],
      "text/latex": [
       "\\begin{enumerate*}\n",
       "\\item 0\n",
       "\\item 2\n",
       "\\item -2\n",
       "\\item -1\n",
       "\\item 3\n",
       "\\item 7\n",
       "\\item 4\n",
       "\\item 6\n",
       "\\item 5\n",
       "\\item 8\n",
       "\\end{enumerate*}\n"
      ],
      "text/markdown": [
       "1. 0\n",
       "2. 2\n",
       "3. -2\n",
       "4. -1\n",
       "5. 3\n",
       "6. 7\n",
       "7. 4\n",
       "8. 6\n",
       "9. 5\n",
       "10. 8\n",
       "\n",
       "\n"
      ],
      "text/plain": [
       " [1]  0  2 -2 -1  3  7  4  6  5  8"
      ]
     },
     "metadata": {},
     "output_type": "display_data"
    }
   ],
   "source": [
    "#check the unique values of education, the numbers that don't correspond are 0,5,6\n",
    "unique(credit_default$PAY_0)\n",
    "unique(credit_default$PAY_2)\n",
    "unique(credit_default$PAY_3)\n",
    "unique(credit_default$PAY_4)\n",
    "unique(credit_default$PAY_5)\n",
    "unique(credit_default$PAY_6)"
   ]
  },
  {
   "cell_type": "code",
   "execution_count": 28,
   "id": "451f3734",
   "metadata": {},
   "outputs": [],
   "source": [
    "# now, i'm going to treat the missing values for the quantitative variables and replaced them by the mode\n",
    "# retrieved from https://statisticsglobe.com/replace-missing-values-by-column-mean-in-r\n",
    "credit_default$LIMIT_BAL[is.na(credit_default$LIMIT_BAL)] <- mean(credit_default$LIMIT_BAL, na.rm = TRUE)\n",
    "credit_default$AGE[is.na(credit_default$AGE)] <- mean(credit_default$AGE, na.rm = TRUE)\n",
    "credit_default$BILL_AMT1[is.na(credit_default$BILL_AMT1)] <- mean(credit_default$BILL_AMT1, na.rm = TRUE)\n",
    "credit_default$BILL_AMT2[is.na(credit_default$BILL_AMT2)] <- mean(credit_default$BILL_AMT2, na.rm = TRUE)\n",
    "credit_default$BILL_AMT3[is.na(credit_default$BILL_AMT3)] <- mean(credit_default$BILL_AMT3, na.rm = TRUE)\n",
    "credit_default$BILL_AMT4[is.na(credit_default$BILL_AMT4)] <- mean(credit_default$BILL_AMT4, na.rm = TRUE)\n",
    "credit_default$BILL_AMT5[is.na(credit_default$BILL_AMT5)] <- mean(credit_default$BILL_AMT5, na.rm = TRUE)\n",
    "credit_default$BILL_AMT6[is.na(credit_default$BILL_AMT6)] <- mean(credit_default$BILL_AMT6, na.rm = TRUE)\n",
    "credit_default$PAY_AMT1[is.na(credit_default$PAY_AMT1)] <- mean(credit_default$PAY_AMT1, na.rm = TRUE)\n",
    "credit_default$PAY_AMT2[is.na(credit_default$PAY_AMT2)] <- mean(credit_default$PAY_AMT2, na.rm = TRUE)\n",
    "credit_default$PAY_AMT3[is.na(credit_default$PAY_AMT3)] <- mean(credit_default$PAY_AMT3, na.rm = TRUE)\n",
    "credit_default$PAY_AMT4[is.na(credit_default$PAY_AMT4)] <- mean(credit_default$PAY_AMT4, na.rm = TRUE)\n",
    "credit_default$PAY_AMT5[is.na(credit_default$PAY_AMT5)] <- mean(credit_default$PAY_AMT5, na.rm = TRUE)\n",
    "credit_default$PAY_AMT6[is.na(credit_default$PAY_AMT6)] <- mean(credit_default$PAY_AMT6, na.rm = TRUE)"
   ]
  },
  {
   "cell_type": "code",
   "execution_count": 29,
   "id": "50255362",
   "metadata": {},
   "outputs": [
    {
     "data": {
      "text/html": [
       "<style>\n",
       ".dl-inline {width: auto; margin:0; padding: 0}\n",
       ".dl-inline>dt, .dl-inline>dd {float: none; width: auto; display: inline-block}\n",
       ".dl-inline>dt::after {content: \":\\0020\"; padding-right: .5ex}\n",
       ".dl-inline>dt:not(:first-of-type) {padding-left: .5ex}\n",
       "</style><dl class=dl-inline><dt>cust_id</dt><dd>0</dd><dt>LIMIT_BAL</dt><dd>0</dd><dt>SEX</dt><dd>0</dd><dt>EDUCATION</dt><dd>0</dd><dt>MARRIAGE</dt><dd>0</dd><dt>AGE</dt><dd>0</dd><dt>PAY_0</dt><dd>0</dd><dt>PAY_2</dt><dd>0</dd><dt>PAY_3</dt><dd>0</dd><dt>PAY_4</dt><dd>0</dd><dt>PAY_5</dt><dd>0</dd><dt>PAY_6</dt><dd>0</dd><dt>BILL_AMT1</dt><dd>0</dd><dt>BILL_AMT2</dt><dd>0</dd><dt>BILL_AMT3</dt><dd>0</dd><dt>BILL_AMT4</dt><dd>0</dd><dt>BILL_AMT5</dt><dd>0</dd><dt>BILL_AMT6</dt><dd>0</dd><dt>PAY_AMT1</dt><dd>0</dd><dt>PAY_AMT2</dt><dd>0</dd><dt>PAY_AMT3</dt><dd>0</dd><dt>PAY_AMT4</dt><dd>0</dd><dt>PAY_AMT5</dt><dd>0</dd><dt>PAY_AMT6</dt><dd>0</dd><dt>default.payment.next.month</dt><dd>0</dd></dl>\n"
      ],
      "text/latex": [
       "\\begin{description*}\n",
       "\\item[cust\\textbackslash{}\\_id] 0\n",
       "\\item[LIMIT\\textbackslash{}\\_BAL] 0\n",
       "\\item[SEX] 0\n",
       "\\item[EDUCATION] 0\n",
       "\\item[MARRIAGE] 0\n",
       "\\item[AGE] 0\n",
       "\\item[PAY\\textbackslash{}\\_0] 0\n",
       "\\item[PAY\\textbackslash{}\\_2] 0\n",
       "\\item[PAY\\textbackslash{}\\_3] 0\n",
       "\\item[PAY\\textbackslash{}\\_4] 0\n",
       "\\item[PAY\\textbackslash{}\\_5] 0\n",
       "\\item[PAY\\textbackslash{}\\_6] 0\n",
       "\\item[BILL\\textbackslash{}\\_AMT1] 0\n",
       "\\item[BILL\\textbackslash{}\\_AMT2] 0\n",
       "\\item[BILL\\textbackslash{}\\_AMT3] 0\n",
       "\\item[BILL\\textbackslash{}\\_AMT4] 0\n",
       "\\item[BILL\\textbackslash{}\\_AMT5] 0\n",
       "\\item[BILL\\textbackslash{}\\_AMT6] 0\n",
       "\\item[PAY\\textbackslash{}\\_AMT1] 0\n",
       "\\item[PAY\\textbackslash{}\\_AMT2] 0\n",
       "\\item[PAY\\textbackslash{}\\_AMT3] 0\n",
       "\\item[PAY\\textbackslash{}\\_AMT4] 0\n",
       "\\item[PAY\\textbackslash{}\\_AMT5] 0\n",
       "\\item[PAY\\textbackslash{}\\_AMT6] 0\n",
       "\\item[default.payment.next.month] 0\n",
       "\\end{description*}\n"
      ],
      "text/markdown": [
       "cust_id\n",
       ":   0LIMIT_BAL\n",
       ":   0SEX\n",
       ":   0EDUCATION\n",
       ":   0MARRIAGE\n",
       ":   0AGE\n",
       ":   0PAY_0\n",
       ":   0PAY_2\n",
       ":   0PAY_3\n",
       ":   0PAY_4\n",
       ":   0PAY_5\n",
       ":   0PAY_6\n",
       ":   0BILL_AMT1\n",
       ":   0BILL_AMT2\n",
       ":   0BILL_AMT3\n",
       ":   0BILL_AMT4\n",
       ":   0BILL_AMT5\n",
       ":   0BILL_AMT6\n",
       ":   0PAY_AMT1\n",
       ":   0PAY_AMT2\n",
       ":   0PAY_AMT3\n",
       ":   0PAY_AMT4\n",
       ":   0PAY_AMT5\n",
       ":   0PAY_AMT6\n",
       ":   0default.payment.next.month\n",
       ":   0\n",
       "\n"
      ],
      "text/plain": [
       "                   cust_id                  LIMIT_BAL \n",
       "                         0                          0 \n",
       "                       SEX                  EDUCATION \n",
       "                         0                          0 \n",
       "                  MARRIAGE                        AGE \n",
       "                         0                          0 \n",
       "                     PAY_0                      PAY_2 \n",
       "                         0                          0 \n",
       "                     PAY_3                      PAY_4 \n",
       "                         0                          0 \n",
       "                     PAY_5                      PAY_6 \n",
       "                         0                          0 \n",
       "                 BILL_AMT1                  BILL_AMT2 \n",
       "                         0                          0 \n",
       "                 BILL_AMT3                  BILL_AMT4 \n",
       "                         0                          0 \n",
       "                 BILL_AMT5                  BILL_AMT6 \n",
       "                         0                          0 \n",
       "                  PAY_AMT1                   PAY_AMT2 \n",
       "                         0                          0 \n",
       "                  PAY_AMT3                   PAY_AMT4 \n",
       "                         0                          0 \n",
       "                  PAY_AMT5                   PAY_AMT6 \n",
       "                         0                          0 \n",
       "default.payment.next.month \n",
       "                         0 "
      ]
     },
     "metadata": {},
     "output_type": "display_data"
    }
   ],
   "source": [
    "# we can see that there's no missing values left\n",
    "sapply(credit_default, function(x) sum(is.na(x)))"
   ]
  },
  {
   "cell_type": "code",
   "execution_count": 30,
   "id": "a1487942",
   "metadata": {},
   "outputs": [
    {
     "name": "stdout",
     "output_type": "stream",
     "text": [
      "'data.frame':\t20000 obs. of  25 variables:\n",
      " $ cust_id                   : int  18895 25102 28867 1842 3371 29925 29940 11638 4761 6746 ...\n",
      " $ LIMIT_BAL                 : num  70000 390000 60000 140000 50000 20000 50000 250000 320000 300000 ...\n",
      " $ SEX                       : num  1 2 1 2 1 1 1 1 2 1 ...\n",
      " $ EDUCATION                 : num  3 2 1 2 1 2 3 2 2 1 ...\n",
      " $ MARRIAGE                  : num  2 2 2 1 2 2 2 2 2 1 ...\n",
      " $ AGE                       : num  34 26 27 55 29 37 44 30 36 35 ...\n",
      " $ PAY_0                     : num  0 2 0 0 2 0 0 0 -2 0 ...\n",
      " $ PAY_2                     : num  0 2 0 0 2 0 0 0 -2 0 ...\n",
      " $ PAY_3                     : num  0 2 0 0 2 0 0 0 -2 0 ...\n",
      " $ PAY_4                     : num  0 0 0 0 0 0 2 -1 -2 0 ...\n",
      " $ PAY_5                     : num  0 0 0 0 0 0 0 2 -2 0 ...\n",
      " $ PAY_6                     : num  0 0 2 0 -2 0 0 -1 -2 0 ...\n",
      " $ BILL_AMT1                 : num  53972 185111 21387 108038 7881 ...\n",
      " $ BILL_AMT2                 : num  23149 172865 22416 110216 10415 ...\n",
      " $ BILL_AMT3                 : num  23968 153795 23444 84516 3997 ...\n",
      " $ BILL_AMT4                 : num  25559 140387 26038 72391 1047 ...\n",
      " $ BILL_AMT5                 : num  26134 128112 28607 61298 0 ...\n",
      " $ BILL_AMT6                 : num  26715 115514 27997 62193 0 ...\n",
      " $ PAY_AMT1                  : num  1700 5000 1378 4200 3000 ...\n",
      " $ PAY_AMT2                  : num  1500 3000 1406 2822 0 ...\n",
      " $ PAY_AMT3                  : num  2000 5000 3000 2336 1000 ...\n",
      " $ PAY_AMT4                  : num  1000 4548 3000 2588 0 ...\n",
      " $ PAY_AMT5                  : num  1000 4100 0 2250 0 ...\n",
      " $ PAY_AMT6                  : num  2000 3300 923 2491 0 ...\n",
      " $ default.payment.next.month: int  0 0 1 0 1 0 0 0 1 0 ...\n"
     ]
    }
   ],
   "source": [
    "str(credit_default)"
   ]
  },
  {
   "cell_type": "code",
   "execution_count": 31,
   "id": "36198a5c",
   "metadata": {},
   "outputs": [],
   "source": [
    "#drop the cust_id column, doesn't add information\n",
    "#credit_default = select(credit_default, -\"cust_id\")\n",
    "#credit_default=select(credit_default, -cust_id) \n",
    "\n",
    "drop <- c(\"cust_id\")\n",
    "credit_default = credit_default[,!(names(credit_default) %in% drop)]"
   ]
  },
  {
   "cell_type": "code",
   "execution_count": 32,
   "id": "97260412",
   "metadata": {},
   "outputs": [],
   "source": [
    "#let's do a correlation matrix!\n",
    "credit_default.cor = cor(credit_default)"
   ]
  },
  {
   "cell_type": "code",
   "execution_count": 33,
   "id": "d0a17916",
   "metadata": {},
   "outputs": [
    {
     "name": "stderr",
     "output_type": "stream",
     "text": [
      "Warning message:\n",
      "\"package 'corrplot' is in use and will not be installed\"\n"
     ]
    }
   ],
   "source": [
    "install.packages(\"corrplot\")\n",
    "library(corrplot)"
   ]
  },
  {
   "cell_type": "code",
   "execution_count": 34,
   "id": "2f42853a",
   "metadata": {},
   "outputs": [
    {
     "data": {
      "image/png": "[encoded data removed]",
      "text/plain": [
       "Plot with title \"\""
      ]
     },
     "metadata": {
      "image/png": {
       "height": 420,
       "width": 420
      }
     },
     "output_type": "display_data"
    }
   ],
   "source": [
    "corrplot(credit_default.cor)"
   ]
  },
  {
   "cell_type": "code",
   "execution_count": 35,
   "id": "9c24d1ca",
   "metadata": {},
   "outputs": [],
   "source": [
    "# the variables are not much correlated, good sign! The presence of highly correlated predictors might lead to an unstable model solution."
   ]
  },
  {
   "cell_type": "code",
   "execution_count": 36,
   "id": "b755fb9a",
   "metadata": {},
   "outputs": [
    {
     "name": "stdout",
     "output_type": "stream",
     "text": [
      "'data.frame':\t20000 obs. of  24 variables:\n",
      " $ LIMIT_BAL                 : num  70000 390000 60000 140000 50000 20000 50000 250000 320000 300000 ...\n",
      " $ SEX                       : Factor w/ 2 levels \"1\",\"2\": 1 2 1 2 1 1 1 1 2 1 ...\n",
      " $ EDUCATION                 : Factor w/ 4 levels \"1\",\"2\",\"3\",\"4\": 3 2 1 2 1 2 3 2 2 1 ...\n",
      " $ MARRIAGE                  : Factor w/ 3 levels \"1\",\"2\",\"3\": 2 2 2 1 2 2 2 2 2 1 ...\n",
      " $ AGE                       : num  34 26 27 55 29 37 44 30 36 35 ...\n",
      " $ PAY_0                     : num  0 2 0 0 2 0 0 0 -2 0 ...\n",
      " $ PAY_2                     : num  0 2 0 0 2 0 0 0 -2 0 ...\n",
      " $ PAY_3                     : num  0 2 0 0 2 0 0 0 -2 0 ...\n",
      " $ PAY_4                     : num  0 0 0 0 0 0 2 -1 -2 0 ...\n",
      " $ PAY_5                     : num  0 0 0 0 0 0 0 2 -2 0 ...\n",
      " $ PAY_6                     : num  0 0 2 0 -2 0 0 -1 -2 0 ...\n",
      " $ BILL_AMT1                 : num  53972 185111 21387 108038 7881 ...\n",
      " $ BILL_AMT2                 : num  23149 172865 22416 110216 10415 ...\n",
      " $ BILL_AMT3                 : num  23968 153795 23444 84516 3997 ...\n",
      " $ BILL_AMT4                 : num  25559 140387 26038 72391 1047 ...\n",
      " $ BILL_AMT5                 : num  26134 128112 28607 61298 0 ...\n",
      " $ BILL_AMT6                 : num  26715 115514 27997 62193 0 ...\n",
      " $ PAY_AMT1                  : num  1700 5000 1378 4200 3000 ...\n",
      " $ PAY_AMT2                  : num  1500 3000 1406 2822 0 ...\n",
      " $ PAY_AMT3                  : num  2000 5000 3000 2336 1000 ...\n",
      " $ PAY_AMT4                  : num  1000 4548 3000 2588 0 ...\n",
      " $ PAY_AMT5                  : num  1000 4100 0 2250 0 ...\n",
      " $ PAY_AMT6                  : num  2000 3300 923 2491 0 ...\n",
      " $ default.payment.next.month: Factor w/ 2 levels \"0\",\"1\": 1 1 2 1 2 1 1 1 2 1 ...\n"
     ]
    }
   ],
   "source": [
    "# transform categorical variables into factors to avoid the hierarchy between different classes\n",
    "#retrieved from:https://www.listendata.com/2015/05/converting-multiple-numeric-variables.html\n",
    "#'PAY_0','PAY_2','PAY_3','PAY_4','PAY_5','PAY_6'\n",
    "\n",
    "names <- c('SEX' ,'EDUCATION', 'MARRIAGE','default.payment.next.month')\n",
    "credit_default[,names] <- lapply(credit_default[,names] , factor)\n",
    "str(credit_default)"
   ]
  },
  {
   "cell_type": "code",
   "execution_count": 37,
   "id": "8600413f",
   "metadata": {},
   "outputs": [],
   "source": [
    "credit_default<-rename(credit_default, default=default.payment.next.month )"
   ]
  },
  {
   "cell_type": "code",
   "execution_count": 38,
   "id": "cf51aad6",
   "metadata": {
    "scrolled": true
   },
   "outputs": [
    {
     "data": {
      "text/html": [
       "<table class=\"dataframe\">\n",
       "<caption>A data.frame: 6 × 24</caption>\n",
       "<thead>\n",
       "\t<tr><th></th><th scope=col>LIMIT_BAL</th><th scope=col>SEX</th><th scope=col>EDUCATION</th><th scope=col>MARRIAGE</th><th scope=col>AGE</th><th scope=col>PAY_0</th><th scope=col>PAY_2</th><th scope=col>PAY_3</th><th scope=col>PAY_4</th><th scope=col>PAY_5</th><th scope=col>⋯</th><th scope=col>BILL_AMT4</th><th scope=col>BILL_AMT5</th><th scope=col>BILL_AMT6</th><th scope=col>PAY_AMT1</th><th scope=col>PAY_AMT2</th><th scope=col>PAY_AMT3</th><th scope=col>PAY_AMT4</th><th scope=col>PAY_AMT5</th><th scope=col>PAY_AMT6</th><th scope=col>default</th></tr>\n",
       "\t<tr><th></th><th scope=col>&lt;dbl&gt;</th><th scope=col>&lt;fct&gt;</th><th scope=col>&lt;fct&gt;</th><th scope=col>&lt;fct&gt;</th><th scope=col>&lt;dbl&gt;</th><th scope=col>&lt;dbl&gt;</th><th scope=col>&lt;dbl&gt;</th><th scope=col>&lt;dbl&gt;</th><th scope=col>&lt;dbl&gt;</th><th scope=col>&lt;dbl&gt;</th><th scope=col>⋯</th><th scope=col>&lt;dbl&gt;</th><th scope=col>&lt;dbl&gt;</th><th scope=col>&lt;dbl&gt;</th><th scope=col>&lt;dbl&gt;</th><th scope=col>&lt;dbl&gt;</th><th scope=col>&lt;dbl&gt;</th><th scope=col>&lt;dbl&gt;</th><th scope=col>&lt;dbl&gt;</th><th scope=col>&lt;dbl&gt;</th><th scope=col>&lt;fct&gt;</th></tr>\n",
       "</thead>\n",
       "<tbody>\n",
       "\t<tr><th scope=row>1</th><td> 70000</td><td>1</td><td>3</td><td>2</td><td>34</td><td>0</td><td>0</td><td>0</td><td>0</td><td>0</td><td>⋯</td><td> 25559</td><td> 26134</td><td> 26715</td><td>1700</td><td>1500</td><td>2000</td><td>1000</td><td>1000</td><td>2000</td><td>0</td></tr>\n",
       "\t<tr><th scope=row>2</th><td>390000</td><td>2</td><td>2</td><td>2</td><td>26</td><td>2</td><td>2</td><td>2</td><td>0</td><td>0</td><td>⋯</td><td>140387</td><td>128112</td><td>115514</td><td>5000</td><td>3000</td><td>5000</td><td>4548</td><td>4100</td><td>3300</td><td>0</td></tr>\n",
       "\t<tr><th scope=row>3</th><td> 60000</td><td>1</td><td>1</td><td>2</td><td>27</td><td>0</td><td>0</td><td>0</td><td>0</td><td>0</td><td>⋯</td><td> 26038</td><td> 28607</td><td> 27997</td><td>1378</td><td>1406</td><td>3000</td><td>3000</td><td>   0</td><td> 923</td><td>1</td></tr>\n",
       "\t<tr><th scope=row>4</th><td>140000</td><td>2</td><td>2</td><td>1</td><td>55</td><td>0</td><td>0</td><td>0</td><td>0</td><td>0</td><td>⋯</td><td> 72391</td><td> 61298</td><td> 62193</td><td>4200</td><td>2822</td><td>2336</td><td>2588</td><td>2250</td><td>2491</td><td>0</td></tr>\n",
       "\t<tr><th scope=row>5</th><td> 50000</td><td>1</td><td>1</td><td>2</td><td>29</td><td>2</td><td>2</td><td>2</td><td>0</td><td>0</td><td>⋯</td><td>  1047</td><td>     0</td><td>     0</td><td>3000</td><td>   0</td><td>1000</td><td>   0</td><td>   0</td><td>   0</td><td>1</td></tr>\n",
       "\t<tr><th scope=row>6</th><td> 20000</td><td>1</td><td>2</td><td>2</td><td>37</td><td>0</td><td>0</td><td>0</td><td>0</td><td>0</td><td>⋯</td><td> 19105</td><td> 19609</td><td> 19283</td><td>1700</td><td>1600</td><td>1200</td><td>1000</td><td> 900</td><td>1000</td><td>0</td></tr>\n",
       "</tbody>\n",
       "</table>\n"
      ],
      "text/latex": [
       "A data.frame: 6 × 24\n",
       "\\begin{tabular}{r|lllllllllllllllllllll}\n",
       "  & LIMIT\\_BAL & SEX & EDUCATION & MARRIAGE & AGE & PAY\\_0 & PAY\\_2 & PAY\\_3 & PAY\\_4 & PAY\\_5 & ⋯ & BILL\\_AMT4 & BILL\\_AMT5 & BILL\\_AMT6 & PAY\\_AMT1 & PAY\\_AMT2 & PAY\\_AMT3 & PAY\\_AMT4 & PAY\\_AMT5 & PAY\\_AMT6 & default\\\\\n",
       "  & <dbl> & <fct> & <fct> & <fct> & <dbl> & <dbl> & <dbl> & <dbl> & <dbl> & <dbl> & ⋯ & <dbl> & <dbl> & <dbl> & <dbl> & <dbl> & <dbl> & <dbl> & <dbl> & <dbl> & <fct>\\\\\n",
       "\\hline\n",
       "\t1 &  70000 & 1 & 3 & 2 & 34 & 0 & 0 & 0 & 0 & 0 & ⋯ &  25559 &  26134 &  26715 & 1700 & 1500 & 2000 & 1000 & 1000 & 2000 & 0\\\\\n",
       "\t2 & 390000 & 2 & 2 & 2 & 26 & 2 & 2 & 2 & 0 & 0 & ⋯ & 140387 & 128112 & 115514 & 5000 & 3000 & 5000 & 4548 & 4100 & 3300 & 0\\\\\n",
       "\t3 &  60000 & 1 & 1 & 2 & 27 & 0 & 0 & 0 & 0 & 0 & ⋯ &  26038 &  28607 &  27997 & 1378 & 1406 & 3000 & 3000 &    0 &  923 & 1\\\\\n",
       "\t4 & 140000 & 2 & 2 & 1 & 55 & 0 & 0 & 0 & 0 & 0 & ⋯ &  72391 &  61298 &  62193 & 4200 & 2822 & 2336 & 2588 & 2250 & 2491 & 0\\\\\n",
       "\t5 &  50000 & 1 & 1 & 2 & 29 & 2 & 2 & 2 & 0 & 0 & ⋯ &   1047 &      0 &      0 & 3000 &    0 & 1000 &    0 &    0 &    0 & 1\\\\\n",
       "\t6 &  20000 & 1 & 2 & 2 & 37 & 0 & 0 & 0 & 0 & 0 & ⋯ &  19105 &  19609 &  19283 & 1700 & 1600 & 1200 & 1000 &  900 & 1000 & 0\\\\\n",
       "\\end{tabular}\n"
      ],
      "text/markdown": [
       "\n",
       "A data.frame: 6 × 24\n",
       "\n",
       "| <!--/--> | LIMIT_BAL &lt;dbl&gt; | SEX &lt;fct&gt; | EDUCATION &lt;fct&gt; | MARRIAGE &lt;fct&gt; | AGE &lt;dbl&gt; | PAY_0 &lt;dbl&gt; | PAY_2 &lt;dbl&gt; | PAY_3 &lt;dbl&gt; | PAY_4 &lt;dbl&gt; | PAY_5 &lt;dbl&gt; | ⋯ ⋯ | BILL_AMT4 &lt;dbl&gt; | BILL_AMT5 &lt;dbl&gt; | BILL_AMT6 &lt;dbl&gt; | PAY_AMT1 &lt;dbl&gt; | PAY_AMT2 &lt;dbl&gt; | PAY_AMT3 &lt;dbl&gt; | PAY_AMT4 &lt;dbl&gt; | PAY_AMT5 &lt;dbl&gt; | PAY_AMT6 &lt;dbl&gt; | default &lt;fct&gt; |\n",
       "|---|---|---|---|---|---|---|---|---|---|---|---|---|---|---|---|---|---|---|---|---|---|\n",
       "| 1 |  70000 | 1 | 3 | 2 | 34 | 0 | 0 | 0 | 0 | 0 | ⋯ |  25559 |  26134 |  26715 | 1700 | 1500 | 2000 | 1000 | 1000 | 2000 | 0 |\n",
       "| 2 | 390000 | 2 | 2 | 2 | 26 | 2 | 2 | 2 | 0 | 0 | ⋯ | 140387 | 128112 | 115514 | 5000 | 3000 | 5000 | 4548 | 4100 | 3300 | 0 |\n",
       "| 3 |  60000 | 1 | 1 | 2 | 27 | 0 | 0 | 0 | 0 | 0 | ⋯ |  26038 |  28607 |  27997 | 1378 | 1406 | 3000 | 3000 |    0 |  923 | 1 |\n",
       "| 4 | 140000 | 2 | 2 | 1 | 55 | 0 | 0 | 0 | 0 | 0 | ⋯ |  72391 |  61298 |  62193 | 4200 | 2822 | 2336 | 2588 | 2250 | 2491 | 0 |\n",
       "| 5 |  50000 | 1 | 1 | 2 | 29 | 2 | 2 | 2 | 0 | 0 | ⋯ |   1047 |      0 |      0 | 3000 |    0 | 1000 |    0 |    0 |    0 | 1 |\n",
       "| 6 |  20000 | 1 | 2 | 2 | 37 | 0 | 0 | 0 | 0 | 0 | ⋯ |  19105 |  19609 |  19283 | 1700 | 1600 | 1200 | 1000 |  900 | 1000 | 0 |\n",
       "\n"
      ],
      "text/plain": [
       "  LIMIT_BAL SEX EDUCATION MARRIAGE AGE PAY_0 PAY_2 PAY_3 PAY_4 PAY_5 <U+22EF>       \n",
       "1  70000    1   3         2        34  0     0     0     0     0     <U+22EF>\n",
       "2 390000    2   2         2        26  2     2     2     0     0     <U+22EF>\n",
       "3  60000    1   1         2        27  0     0     0     0     0     <U+22EF>\n",
       "4 140000    2   2         1        55  0     0     0     0     0     <U+22EF>\n",
       "5  50000    1   1         2        29  2     2     2     0     0     <U+22EF>\n",
       "6  20000    1   2         2        37  0     0     0     0     0     <U+22EF>\n",
       "  BILL_AMT4 BILL_AMT5 BILL_AMT6 PAY_AMT1 PAY_AMT2 PAY_AMT3 PAY_AMT4 PAY_AMT5\n",
       "1  25559     26134     26715    1700     1500     2000     1000     1000    \n",
       "2 140387    128112    115514    5000     3000     5000     4548     4100    \n",
       "3  26038     28607     27997    1378     1406     3000     3000        0    \n",
       "4  72391     61298     62193    4200     2822     2336     2588     2250    \n",
       "5   1047         0         0    3000        0     1000        0        0    \n",
       "6  19105     19609     19283    1700     1600     1200     1000      900    \n",
       "  PAY_AMT6 default\n",
       "1 2000     0      \n",
       "2 3300     0      \n",
       "3  923     1      \n",
       "4 2491     0      \n",
       "5    0     1      \n",
       "6 1000     0      "
      ]
     },
     "metadata": {},
     "output_type": "display_data"
    }
   ],
   "source": [
    "head(credit_default)"
   ]
  },
  {
   "cell_type": "code",
   "execution_count": 39,
   "id": "6ebad1cc",
   "metadata": {},
   "outputs": [
    {
     "name": "stdout",
     "output_type": "stream",
     "text": [
      "'data.frame':\t20000 obs. of  24 variables:\n",
      " $ LIMIT_BAL: num  70000 390000 60000 140000 50000 20000 50000 250000 320000 300000 ...\n",
      " $ SEX      : Factor w/ 2 levels \"1\",\"2\": 1 2 1 2 1 1 1 1 2 1 ...\n",
      " $ EDUCATION: Factor w/ 4 levels \"1\",\"2\",\"3\",\"4\": 3 2 1 2 1 2 3 2 2 1 ...\n",
      " $ MARRIAGE : Factor w/ 3 levels \"1\",\"2\",\"3\": 2 2 2 1 2 2 2 2 2 1 ...\n",
      " $ AGE      : num  34 26 27 55 29 37 44 30 36 35 ...\n",
      " $ PAY_0    : num  0 2 0 0 2 0 0 0 -2 0 ...\n",
      " $ PAY_2    : num  0 2 0 0 2 0 0 0 -2 0 ...\n",
      " $ PAY_3    : num  0 2 0 0 2 0 0 0 -2 0 ...\n",
      " $ PAY_4    : num  0 0 0 0 0 0 2 -1 -2 0 ...\n",
      " $ PAY_5    : num  0 0 0 0 0 0 0 2 -2 0 ...\n",
      " $ PAY_6    : num  0 0 2 0 -2 0 0 -1 -2 0 ...\n",
      " $ BILL_AMT1: num  53972 185111 21387 108038 7881 ...\n",
      " $ BILL_AMT2: num  23149 172865 22416 110216 10415 ...\n",
      " $ BILL_AMT3: num  23968 153795 23444 84516 3997 ...\n",
      " $ BILL_AMT4: num  25559 140387 26038 72391 1047 ...\n",
      " $ BILL_AMT5: num  26134 128112 28607 61298 0 ...\n",
      " $ BILL_AMT6: num  26715 115514 27997 62193 0 ...\n",
      " $ PAY_AMT1 : num  1700 5000 1378 4200 3000 ...\n",
      " $ PAY_AMT2 : num  1500 3000 1406 2822 0 ...\n",
      " $ PAY_AMT3 : num  2000 5000 3000 2336 1000 ...\n",
      " $ PAY_AMT4 : num  1000 4548 3000 2588 0 ...\n",
      " $ PAY_AMT5 : num  1000 4100 0 2250 0 ...\n",
      " $ PAY_AMT6 : num  2000 3300 923 2491 0 ...\n",
      " $ default  : Factor w/ 2 levels \"0\",\"1\": 1 1 2 1 2 1 1 1 2 1 ...\n"
     ]
    }
   ],
   "source": [
    "str(credit_default)"
   ]
  },
  {
   "cell_type": "code",
   "execution_count": 99,
   "id": "691d0318",
   "metadata": {},
   "outputs": [],
   "source": [
    "#export the basetable\n",
    "write.csv(credit_default,\"C:/Users/marquesrubio/OneDrive - IESEG/Documents/Statistical and machine learning/individual project/basetable.csv\")"
   ]
  },
  {
   "cell_type": "code",
   "execution_count": 40,
   "id": "06950162",
   "metadata": {},
   "outputs": [],
   "source": [
    "#split the data\n",
    "train_set <- sample(nrow(credit_default)*0.8)\n",
    "train_d <- credit_default[train_set, ]\n",
    "test_d <- credit_default[-train_set, ]"
   ]
  },
  {
   "cell_type": "code",
   "execution_count": 41,
   "id": "12d79568",
   "metadata": {},
   "outputs": [],
   "source": [
    "train <- train_d\n",
    "test <-test_d"
   ]
  },
  {
   "cell_type": "code",
   "execution_count": 42,
   "id": "0ffd6207",
   "metadata": {},
   "outputs": [],
   "source": [
    "#normalize numeric variables \n",
    "train$LIMIT_BALL<-scale(train$LIMIT_BAL)\n",
    "train$BILL_AMT1<-scale(train$BILL_AMT1)\n",
    "train$BILL_AMT2<-scale(train$BILL_AMT2)\n",
    "train$BILL_AMT3<-scale(train$BILL_AMT3)\n",
    "train$BILL_AMT4<-scale(train$BILL_AMT4)\n",
    "train$BILL_AMT5<-scale(train$BILL_AMT5)\n",
    "train$BILL_AMT6<-scale(train$BILL_AMT6)\n",
    "train$PAY_AMT1<-scale(train$PAY_AMT1)\n",
    "train$PAY_AMT2<-scale(train$PAY_AMT2)\n",
    "train$PAY_AMT3<-scale(train$PAY_AMT3)\n",
    "train$PAY_AMT4<-scale(train$PAY_AMT4)\n",
    "train$PAY_AMT5<-scale(train$PAY_AMT5)\n",
    "train$PAY_AMT6<-scale(train$PAY_AMT6)\n",
    "\n",
    "\n",
    "\n",
    "test$LIMIT_BALL<-scale(test$LIMIT_BAL)\n",
    "test$BILL_AMT1<-scale(test$BILL_AMT1)\n",
    "test$BILL_AMT2<-scale(test$BILL_AMT2)\n",
    "test$BILL_AMT3<-scale(test$BILL_AMT3)\n",
    "test$BILL_AMT4<-scale(test$BILL_AMT4)\n",
    "test$BILL_AMT5<-scale(test$BILL_AMT5)\n",
    "test$BILL_AMT6<-scale(test$BILL_AMT6)\n",
    "test$PAY_AMT1<-scale(test$PAY_AMT1)\n",
    "test$PAY_AMT2<-scale(test$PAY_AMT2)\n",
    "test$PAY_AMT3<-scale(test$PAY_AMT3)\n",
    "test$PAY_AMT4<-scale(test$PAY_AMT4)\n",
    "test$PAY_AMT5<-scale(test$PAY_AMT5)\n",
    "test$PAY_AMT6<-scale(test$PAY_AMT6)"
   ]
  },
  {
   "cell_type": "markdown",
   "id": "f6d38c86",
   "metadata": {},
   "source": [
    "# FIRST MODEL: LOGISTIC REGRESSION"
   ]
  },
  {
   "cell_type": "code",
   "execution_count": 43,
   "id": "d6a8e0f5",
   "metadata": {},
   "outputs": [
    {
     "name": "stderr",
     "output_type": "stream",
     "text": [
      "Warning message:\n",
      "\"glm.fit: fitted probabilities numerically 0 or 1 occurred\"\n"
     ]
    },
    {
     "data": {
      "text/plain": [
       "\n",
       "Call:\n",
       "glm(formula = default ~ ., family = binomial, data = train)\n",
       "\n",
       "Deviance Residuals: \n",
       "    Min       1Q   Median       3Q      Max  \n",
       "-3.1213  -0.7028  -0.5472  -0.2612   3.5876  \n",
       "\n",
       "Coefficients: (1 not defined because of singularities)\n",
       "              Estimate Std. Error z value Pr(>|z|)    \n",
       "(Intercept) -1.261e+00  1.207e-01 -10.447  < 2e-16 ***\n",
       "LIMIT_BAL   -3.993e-07  2.170e-07  -1.840 0.065731 .  \n",
       "SEX2        -8.040e-02  4.223e-02  -1.904 0.056940 .  \n",
       "EDUCATION2  -1.121e-01  4.875e-02  -2.299 0.021499 *  \n",
       "EDUCATION3  -1.094e-01  6.554e-02  -1.669 0.095114 .  \n",
       "EDUCATION4  -1.481e+00  5.997e-01  -2.469 0.013534 *  \n",
       "MARRIAGE2   -1.803e-01  4.747e-02  -3.799 0.000145 ***\n",
       "MARRIAGE3    4.752e-02  1.874e-01   0.254 0.799787    \n",
       "AGE          2.999e-03  2.557e-03   1.173 0.240871    \n",
       "PAY_0        5.764e-01  2.445e-02  23.572  < 2e-16 ***\n",
       "PAY_2        6.856e-02  2.765e-02   2.479 0.013158 *  \n",
       "PAY_3        7.119e-02  3.101e-02   2.295 0.021714 *  \n",
       "PAY_4        4.688e-02  3.371e-02   1.391 0.164257    \n",
       "PAY_5        1.952e-02  3.583e-02   0.545 0.585937    \n",
       "PAY_6        1.430e-02  2.996e-02   0.477 0.633117    \n",
       "BILL_AMT1   -4.348e-01  1.023e-01  -4.251 2.13e-05 ***\n",
       "BILL_AMT2    1.176e-01  1.266e-01   0.929 0.352929    \n",
       "BILL_AMT3    3.470e-01  1.108e-01   3.132 0.001737 ** \n",
       "BILL_AMT4   -1.060e-01  1.026e-01  -1.033 0.301409    \n",
       "BILL_AMT5   -8.397e-02  1.172e-01  -0.717 0.473571    \n",
       "BILL_AMT6    9.189e-02  9.336e-02   0.984 0.324976    \n",
       "PAY_AMT1    -2.428e-01  5.068e-02  -4.791 1.66e-06 ***\n",
       "PAY_AMT2    -4.041e-01  7.435e-02  -5.435 5.48e-08 ***\n",
       "PAY_AMT3    -2.047e-02  3.748e-02  -0.546 0.584985    \n",
       "PAY_AMT4    -1.105e-01  4.287e-02  -2.577 0.009978 ** \n",
       "PAY_AMT5    -1.159e-01  4.036e-02  -2.871 0.004085 ** \n",
       "PAY_AMT6    -3.261e-02  3.171e-02  -1.029 0.303637    \n",
       "LIMIT_BALL          NA         NA      NA       NA    \n",
       "---\n",
       "Signif. codes:  0 '***' 0.001 '**' 0.01 '*' 0.05 '.' 0.1 ' ' 1\n",
       "\n",
       "(Dispersion parameter for binomial family taken to be 1)\n",
       "\n",
       "    Null deviance: 16859  on 15999  degrees of freedom\n",
       "Residual deviance: 14806  on 15973  degrees of freedom\n",
       "AIC: 14860\n",
       "\n",
       "Number of Fisher Scoring iterations: 6\n"
      ]
     },
     "metadata": {},
     "output_type": "display_data"
    }
   ],
   "source": [
    "# Fit the model\n",
    "model_logistic<- glm(default ~., data = train, family = binomial)\n",
    "# Summarize the model\n",
    "summary(model_logistic)"
   ]
  },
  {
   "cell_type": "code",
   "execution_count": 46,
   "id": "b49ab099",
   "metadata": {},
   "outputs": [],
   "source": [
    "#STEPWISE"
   ]
  },
  {
   "cell_type": "code",
   "execution_count": 44,
   "id": "4f952384",
   "metadata": {},
   "outputs": [
    {
     "name": "stdout",
     "output_type": "stream",
     "text": [
      "Start:  AIC=14859.77\n",
      "default ~ LIMIT_BAL + SEX + EDUCATION + MARRIAGE + AGE + PAY_0 + \n",
      "    PAY_2 + PAY_3 + PAY_4 + PAY_5 + PAY_6 + BILL_AMT1 + BILL_AMT2 + \n",
      "    BILL_AMT3 + BILL_AMT4 + BILL_AMT5 + BILL_AMT6 + PAY_AMT1 + \n",
      "    PAY_AMT2 + PAY_AMT3 + PAY_AMT4 + PAY_AMT5 + PAY_AMT6 + LIMIT_BALL\n",
      "\n"
     ]
    },
    {
     "name": "stderr",
     "output_type": "stream",
     "text": [
      "Warning message:\n",
      "\"glm.fit: fitted probabilities numerically 0 or 1 occurred\"\n",
      "Warning message:\n",
      "\"glm.fit: fitted probabilities numerically 0 or 1 occurred\"\n",
      "Warning message:\n",
      "\"glm.fit: fitted probabilities numerically 0 or 1 occurred\"\n",
      "Warning message:\n",
      "\"glm.fit: fitted probabilities numerically 0 or 1 occurred\"\n",
      "Warning message:\n",
      "\"glm.fit: fitted probabilities numerically 0 or 1 occurred\"\n",
      "Warning message:\n",
      "\"glm.fit: fitted probabilities numerically 0 or 1 occurred\"\n",
      "Warning message:\n",
      "\"glm.fit: fitted probabilities numerically 0 or 1 occurred\"\n",
      "Warning message:\n",
      "\"glm.fit: fitted probabilities numerically 0 or 1 occurred\"\n",
      "Warning message:\n",
      "\"glm.fit: fitted probabilities numerically 0 or 1 occurred\"\n",
      "Warning message:\n",
      "\"glm.fit: fitted probabilities numerically 0 or 1 occurred\"\n",
      "Warning message:\n",
      "\"glm.fit: fitted probabilities numerically 0 or 1 occurred\"\n",
      "Warning message:\n",
      "\"glm.fit: fitted probabilities numerically 0 or 1 occurred\"\n",
      "Warning message:\n",
      "\"glm.fit: fitted probabilities numerically 0 or 1 occurred\"\n",
      "Warning message:\n",
      "\"glm.fit: fitted probabilities numerically 0 or 1 occurred\"\n",
      "Warning message:\n",
      "\"glm.fit: fitted probabilities numerically 0 or 1 occurred\"\n",
      "Warning message:\n",
      "\"glm.fit: fitted probabilities numerically 0 or 1 occurred\"\n",
      "Warning message:\n",
      "\"glm.fit: fitted probabilities numerically 0 or 1 occurred\"\n",
      "Warning message:\n",
      "\"glm.fit: fitted probabilities numerically 0 or 1 occurred\"\n",
      "Warning message:\n",
      "\"glm.fit: fitted probabilities numerically 0 or 1 occurred\"\n",
      "Warning message:\n",
      "\"glm.fit: fitted probabilities numerically 0 or 1 occurred\"\n",
      "Warning message:\n",
      "\"glm.fit: fitted probabilities numerically 0 or 1 occurred\"\n",
      "Warning message:\n",
      "\"glm.fit: fitted probabilities numerically 0 or 1 occurred\"\n",
      "Warning message:\n",
      "\"glm.fit: fitted probabilities numerically 0 or 1 occurred\"\n"
     ]
    },
    {
     "name": "stdout",
     "output_type": "stream",
     "text": [
      "\n",
      "Step:  AIC=14859.77\n",
      "default ~ LIMIT_BAL + SEX + EDUCATION + MARRIAGE + AGE + PAY_0 + \n",
      "    PAY_2 + PAY_3 + PAY_4 + PAY_5 + PAY_6 + BILL_AMT1 + BILL_AMT2 + \n",
      "    BILL_AMT3 + BILL_AMT4 + BILL_AMT5 + BILL_AMT6 + PAY_AMT1 + \n",
      "    PAY_AMT2 + PAY_AMT3 + PAY_AMT4 + PAY_AMT5 + PAY_AMT6\n",
      "\n"
     ]
    },
    {
     "name": "stderr",
     "output_type": "stream",
     "text": [
      "Warning message:\n",
      "\"glm.fit: fitted probabilities numerically 0 or 1 occurred\"\n",
      "Warning message:\n",
      "\"glm.fit: fitted probabilities numerically 0 or 1 occurred\"\n",
      "Warning message:\n",
      "\"glm.fit: fitted probabilities numerically 0 or 1 occurred\"\n",
      "Warning message:\n",
      "\"glm.fit: fitted probabilities numerically 0 or 1 occurred\"\n",
      "Warning message:\n",
      "\"glm.fit: fitted probabilities numerically 0 or 1 occurred\"\n",
      "Warning message:\n",
      "\"glm.fit: fitted probabilities numerically 0 or 1 occurred\"\n",
      "Warning message:\n",
      "\"glm.fit: fitted probabilities numerically 0 or 1 occurred\"\n",
      "Warning message:\n",
      "\"glm.fit: fitted probabilities numerically 0 or 1 occurred\"\n",
      "Warning message:\n",
      "\"glm.fit: fitted probabilities numerically 0 or 1 occurred\"\n",
      "Warning message:\n",
      "\"glm.fit: fitted probabilities numerically 0 or 1 occurred\"\n",
      "Warning message:\n",
      "\"glm.fit: fitted probabilities numerically 0 or 1 occurred\"\n",
      "Warning message:\n",
      "\"glm.fit: fitted probabilities numerically 0 or 1 occurred\"\n",
      "Warning message:\n",
      "\"glm.fit: fitted probabilities numerically 0 or 1 occurred\"\n",
      "Warning message:\n",
      "\"glm.fit: fitted probabilities numerically 0 or 1 occurred\"\n",
      "Warning message:\n",
      "\"glm.fit: fitted probabilities numerically 0 or 1 occurred\"\n",
      "Warning message:\n",
      "\"glm.fit: fitted probabilities numerically 0 or 1 occurred\"\n",
      "Warning message:\n",
      "\"glm.fit: fitted probabilities numerically 0 or 1 occurred\"\n",
      "Warning message:\n",
      "\"glm.fit: fitted probabilities numerically 0 or 1 occurred\"\n",
      "Warning message:\n",
      "\"glm.fit: fitted probabilities numerically 0 or 1 occurred\"\n",
      "Warning message:\n",
      "\"glm.fit: fitted probabilities numerically 0 or 1 occurred\"\n",
      "Warning message:\n",
      "\"glm.fit: fitted probabilities numerically 0 or 1 occurred\"\n"
     ]
    },
    {
     "name": "stdout",
     "output_type": "stream",
     "text": [
      "            Df Deviance   AIC\n",
      "- PAY_6      1    14806 14858\n",
      "- PAY_5      1    14806 14858\n",
      "- PAY_AMT3   1    14806 14858\n",
      "- BILL_AMT5  1    14806 14858\n",
      "- BILL_AMT2  1    14807 14859\n",
      "- BILL_AMT6  1    14807 14859\n",
      "- BILL_AMT4  1    14807 14859\n",
      "- PAY_AMT6   1    14807 14859\n",
      "- AGE        1    14807 14859\n",
      "- PAY_4      1    14808 14860\n",
      "<none>            14806 14860\n",
      "- LIMIT_BAL  1    14809 14861\n",
      "- SEX        1    14809 14861\n",
      "- PAY_3      1    14811 14863\n",
      "- PAY_2      1    14812 14864\n",
      "- PAY_AMT4   1    14814 14866\n",
      "- BILL_AMT3  1    14816 14868\n",
      "- PAY_AMT5   1    14816 14868\n",
      "- EDUCATION  3    14820 14868\n",
      "- MARRIAGE   2    14820 14870\n",
      "- BILL_AMT1  1    14826 14878\n",
      "- PAY_AMT1   1    14839 14891\n",
      "- PAY_AMT2   1    14849 14901\n",
      "- PAY_0      1    15359 15411\n"
     ]
    },
    {
     "name": "stderr",
     "output_type": "stream",
     "text": [
      "Warning message:\n",
      "\"glm.fit: fitted probabilities numerically 0 or 1 occurred\"\n"
     ]
    },
    {
     "name": "stdout",
     "output_type": "stream",
     "text": [
      "\n",
      "Step:  AIC=14857.99\n",
      "default ~ LIMIT_BAL + SEX + EDUCATION + MARRIAGE + AGE + PAY_0 + \n",
      "    PAY_2 + PAY_3 + PAY_4 + PAY_5 + BILL_AMT1 + BILL_AMT2 + BILL_AMT3 + \n",
      "    BILL_AMT4 + BILL_AMT5 + BILL_AMT6 + PAY_AMT1 + PAY_AMT2 + \n",
      "    PAY_AMT3 + PAY_AMT4 + PAY_AMT5 + PAY_AMT6\n",
      "\n"
     ]
    },
    {
     "name": "stderr",
     "output_type": "stream",
     "text": [
      "Warning message:\n",
      "\"glm.fit: fitted probabilities numerically 0 or 1 occurred\"\n",
      "Warning message:\n",
      "\"glm.fit: fitted probabilities numerically 0 or 1 occurred\"\n",
      "Warning message:\n",
      "\"glm.fit: fitted probabilities numerically 0 or 1 occurred\"\n",
      "Warning message:\n",
      "\"glm.fit: fitted probabilities numerically 0 or 1 occurred\"\n",
      "Warning message:\n",
      "\"glm.fit: fitted probabilities numerically 0 or 1 occurred\"\n",
      "Warning message:\n",
      "\"glm.fit: fitted probabilities numerically 0 or 1 occurred\"\n",
      "Warning message:\n",
      "\"glm.fit: fitted probabilities numerically 0 or 1 occurred\"\n",
      "Warning message:\n",
      "\"glm.fit: fitted probabilities numerically 0 or 1 occurred\"\n",
      "Warning message:\n",
      "\"glm.fit: fitted probabilities numerically 0 or 1 occurred\"\n",
      "Warning message:\n",
      "\"glm.fit: fitted probabilities numerically 0 or 1 occurred\"\n",
      "Warning message:\n",
      "\"glm.fit: fitted probabilities numerically 0 or 1 occurred\"\n",
      "Warning message:\n",
      "\"glm.fit: fitted probabilities numerically 0 or 1 occurred\"\n",
      "Warning message:\n",
      "\"glm.fit: fitted probabilities numerically 0 or 1 occurred\"\n",
      "Warning message:\n",
      "\"glm.fit: fitted probabilities numerically 0 or 1 occurred\"\n",
      "Warning message:\n",
      "\"glm.fit: fitted probabilities numerically 0 or 1 occurred\"\n",
      "Warning message:\n",
      "\"glm.fit: fitted probabilities numerically 0 or 1 occurred\"\n",
      "Warning message:\n",
      "\"glm.fit: fitted probabilities numerically 0 or 1 occurred\"\n",
      "Warning message:\n",
      "\"glm.fit: fitted probabilities numerically 0 or 1 occurred\"\n",
      "Warning message:\n",
      "\"glm.fit: fitted probabilities numerically 0 or 1 occurred\"\n",
      "Warning message:\n",
      "\"glm.fit: fitted probabilities numerically 0 or 1 occurred\"\n"
     ]
    },
    {
     "name": "stdout",
     "output_type": "stream",
     "text": [
      "            Df Deviance   AIC\n",
      "- PAY_AMT3   1    14806 14856\n",
      "- BILL_AMT5  1    14806 14856\n",
      "- BILL_AMT2  1    14807 14857\n",
      "- PAY_5      1    14807 14857\n",
      "- BILL_AMT6  1    14807 14857\n",
      "- BILL_AMT4  1    14807 14857\n",
      "- PAY_AMT6   1    14807 14857\n",
      "- AGE        1    14807 14857\n",
      "<none>            14806 14858\n",
      "- PAY_4      1    14808 14858\n",
      "- LIMIT_BAL  1    14810 14860\n",
      "- SEX        1    14810 14860\n",
      "- PAY_3      1    14811 14861\n",
      "- PAY_2      1    14812 14862\n",
      "- PAY_AMT4   1    14814 14864\n",
      "- BILL_AMT3  1    14816 14866\n",
      "- EDUCATION  3    14820 14866\n",
      "- PAY_AMT5   1    14816 14866\n",
      "- MARRIAGE   2    14821 14869\n",
      "- BILL_AMT1  1    14826 14876\n",
      "- PAY_AMT1   1    14839 14889\n",
      "- PAY_AMT2   1    14850 14900\n",
      "- PAY_0      1    15361 15411\n"
     ]
    },
    {
     "name": "stderr",
     "output_type": "stream",
     "text": [
      "Warning message:\n",
      "\"glm.fit: fitted probabilities numerically 0 or 1 occurred\"\n"
     ]
    },
    {
     "name": "stdout",
     "output_type": "stream",
     "text": [
      "\n",
      "Step:  AIC=14856.3\n",
      "default ~ LIMIT_BAL + SEX + EDUCATION + MARRIAGE + AGE + PAY_0 + \n",
      "    PAY_2 + PAY_3 + PAY_4 + PAY_5 + BILL_AMT1 + BILL_AMT2 + BILL_AMT3 + \n",
      "    BILL_AMT4 + BILL_AMT5 + BILL_AMT6 + PAY_AMT1 + PAY_AMT2 + \n",
      "    PAY_AMT4 + PAY_AMT5 + PAY_AMT6\n",
      "\n"
     ]
    },
    {
     "name": "stderr",
     "output_type": "stream",
     "text": [
      "Warning message:\n",
      "\"glm.fit: fitted probabilities numerically 0 or 1 occurred\"\n",
      "Warning message:\n",
      "\"glm.fit: fitted probabilities numerically 0 or 1 occurred\"\n",
      "Warning message:\n",
      "\"glm.fit: fitted probabilities numerically 0 or 1 occurred\"\n",
      "Warning message:\n",
      "\"glm.fit: fitted probabilities numerically 0 or 1 occurred\"\n",
      "Warning message:\n",
      "\"glm.fit: fitted probabilities numerically 0 or 1 occurred\"\n",
      "Warning message:\n",
      "\"glm.fit: fitted probabilities numerically 0 or 1 occurred\"\n",
      "Warning message:\n",
      "\"glm.fit: fitted probabilities numerically 0 or 1 occurred\"\n",
      "Warning message:\n",
      "\"glm.fit: fitted probabilities numerically 0 or 1 occurred\"\n",
      "Warning message:\n",
      "\"glm.fit: fitted probabilities numerically 0 or 1 occurred\"\n",
      "Warning message:\n",
      "\"glm.fit: fitted probabilities numerically 0 or 1 occurred\"\n",
      "Warning message:\n",
      "\"glm.fit: fitted probabilities numerically 0 or 1 occurred\"\n",
      "Warning message:\n",
      "\"glm.fit: fitted probabilities numerically 0 or 1 occurred\"\n",
      "Warning message:\n",
      "\"glm.fit: fitted probabilities numerically 0 or 1 occurred\"\n",
      "Warning message:\n",
      "\"glm.fit: fitted probabilities numerically 0 or 1 occurred\"\n",
      "Warning message:\n",
      "\"glm.fit: fitted probabilities numerically 0 or 1 occurred\"\n",
      "Warning message:\n",
      "\"glm.fit: fitted probabilities numerically 0 or 1 occurred\"\n",
      "Warning message:\n",
      "\"glm.fit: fitted probabilities numerically 0 or 1 occurred\"\n",
      "Warning message:\n",
      "\"glm.fit: fitted probabilities numerically 0 or 1 occurred\"\n"
     ]
    },
    {
     "name": "stdout",
     "output_type": "stream",
     "text": [
      "            Df Deviance   AIC\n",
      "- BILL_AMT5  1    14807 14855\n",
      "- PAY_5      1    14807 14855\n",
      "- BILL_AMT2  1    14807 14855\n",
      "- BILL_AMT6  1    14807 14855\n",
      "- PAY_AMT6   1    14808 14856\n",
      "- AGE        1    14808 14856\n",
      "- BILL_AMT4  1    14808 14856\n",
      "<none>            14806 14856\n",
      "- PAY_4      1    14809 14857\n",
      "- SEX        1    14810 14858\n",
      "- LIMIT_BAL  1    14810 14858\n",
      "- PAY_3      1    14812 14860\n",
      "- PAY_2      1    14812 14860\n",
      "- PAY_AMT4   1    14815 14863\n",
      "- EDUCATION  3    14820 14864\n",
      "- PAY_AMT5   1    14817 14865\n",
      "- BILL_AMT3  1    14818 14866\n",
      "- MARRIAGE   2    14821 14867\n",
      "- BILL_AMT1  1    14827 14875\n",
      "- PAY_AMT1   1    14840 14888\n",
      "- PAY_AMT2   1    14852 14900\n",
      "- PAY_0      1    15362 15410\n"
     ]
    },
    {
     "name": "stderr",
     "output_type": "stream",
     "text": [
      "Warning message:\n",
      "\"glm.fit: fitted probabilities numerically 0 or 1 occurred\"\n"
     ]
    },
    {
     "name": "stdout",
     "output_type": "stream",
     "text": [
      "\n",
      "Step:  AIC=14854.8\n",
      "default ~ LIMIT_BAL + SEX + EDUCATION + MARRIAGE + AGE + PAY_0 + \n",
      "    PAY_2 + PAY_3 + PAY_4 + PAY_5 + BILL_AMT1 + BILL_AMT2 + BILL_AMT3 + \n",
      "    BILL_AMT4 + BILL_AMT6 + PAY_AMT1 + PAY_AMT2 + PAY_AMT4 + \n",
      "    PAY_AMT5 + PAY_AMT6\n",
      "\n"
     ]
    },
    {
     "name": "stderr",
     "output_type": "stream",
     "text": [
      "Warning message:\n",
      "\"glm.fit: fitted probabilities numerically 0 or 1 occurred\"\n",
      "Warning message:\n",
      "\"glm.fit: fitted probabilities numerically 0 or 1 occurred\"\n",
      "Warning message:\n",
      "\"glm.fit: fitted probabilities numerically 0 or 1 occurred\"\n",
      "Warning message:\n",
      "\"glm.fit: fitted probabilities numerically 0 or 1 occurred\"\n",
      "Warning message:\n",
      "\"glm.fit: fitted probabilities numerically 0 or 1 occurred\"\n",
      "Warning message:\n",
      "\"glm.fit: fitted probabilities numerically 0 or 1 occurred\"\n",
      "Warning message:\n",
      "\"glm.fit: fitted probabilities numerically 0 or 1 occurred\"\n",
      "Warning message:\n",
      "\"glm.fit: fitted probabilities numerically 0 or 1 occurred\"\n",
      "Warning message:\n",
      "\"glm.fit: fitted probabilities numerically 0 or 1 occurred\"\n",
      "Warning message:\n",
      "\"glm.fit: fitted probabilities numerically 0 or 1 occurred\"\n",
      "Warning message:\n",
      "\"glm.fit: fitted probabilities numerically 0 or 1 occurred\"\n",
      "Warning message:\n",
      "\"glm.fit: fitted probabilities numerically 0 or 1 occurred\"\n",
      "Warning message:\n",
      "\"glm.fit: fitted probabilities numerically 0 or 1 occurred\"\n",
      "Warning message:\n",
      "\"glm.fit: fitted probabilities numerically 0 or 1 occurred\"\n",
      "Warning message:\n",
      "\"glm.fit: fitted probabilities numerically 0 or 1 occurred\"\n",
      "Warning message:\n",
      "\"glm.fit: fitted probabilities numerically 0 or 1 occurred\"\n",
      "Warning message:\n",
      "\"glm.fit: fitted probabilities numerically 0 or 1 occurred\"\n",
      "Warning message:\n",
      "\"glm.fit: fitted probabilities numerically 0 or 1 occurred\"\n"
     ]
    },
    {
     "name": "stdout",
     "output_type": "stream",
     "text": [
      "            Df Deviance   AIC\n",
      "- BILL_AMT6  1    14807 14853\n",
      "- PAY_5      1    14808 14854\n",
      "- BILL_AMT2  1    14808 14854\n",
      "- PAY_AMT6   1    14808 14854\n",
      "- AGE        1    14808 14854\n",
      "<none>            14807 14855\n",
      "- PAY_4      1    14809 14855\n",
      "- BILL_AMT4  1    14810 14856\n",
      "- SEX        1    14810 14856\n",
      "- LIMIT_BAL  1    14810 14856\n",
      "- PAY_3      1    14812 14858\n",
      "- PAY_2      1    14813 14859\n",
      "- EDUCATION  3    14821 14863\n",
      "- PAY_AMT5   1    14817 14863\n",
      "- PAY_AMT4   1    14818 14864\n",
      "- BILL_AMT3  1    14819 14865\n",
      "- MARRIAGE   2    14822 14866\n",
      "- BILL_AMT1  1    14828 14874\n",
      "- PAY_AMT1   1    14841 14887\n",
      "- PAY_AMT2   1    14852 14898\n",
      "- PAY_0      1    15362 15408\n"
     ]
    },
    {
     "name": "stderr",
     "output_type": "stream",
     "text": [
      "Warning message:\n",
      "\"glm.fit: fitted probabilities numerically 0 or 1 occurred\"\n"
     ]
    },
    {
     "name": "stdout",
     "output_type": "stream",
     "text": [
      "\n",
      "Step:  AIC=14853.42\n",
      "default ~ LIMIT_BAL + SEX + EDUCATION + MARRIAGE + AGE + PAY_0 + \n",
      "    PAY_2 + PAY_3 + PAY_4 + PAY_5 + BILL_AMT1 + BILL_AMT2 + BILL_AMT3 + \n",
      "    BILL_AMT4 + PAY_AMT1 + PAY_AMT2 + PAY_AMT4 + PAY_AMT5 + PAY_AMT6\n",
      "\n"
     ]
    },
    {
     "name": "stderr",
     "output_type": "stream",
     "text": [
      "Warning message:\n",
      "\"glm.fit: fitted probabilities numerically 0 or 1 occurred\"\n",
      "Warning message:\n",
      "\"glm.fit: fitted probabilities numerically 0 or 1 occurred\"\n",
      "Warning message:\n",
      "\"glm.fit: fitted probabilities numerically 0 or 1 occurred\"\n",
      "Warning message:\n",
      "\"glm.fit: fitted probabilities numerically 0 or 1 occurred\"\n",
      "Warning message:\n",
      "\"glm.fit: fitted probabilities numerically 0 or 1 occurred\"\n",
      "Warning message:\n",
      "\"glm.fit: fitted probabilities numerically 0 or 1 occurred\"\n",
      "Warning message:\n",
      "\"glm.fit: fitted probabilities numerically 0 or 1 occurred\"\n",
      "Warning message:\n",
      "\"glm.fit: fitted probabilities numerically 0 or 1 occurred\"\n",
      "Warning message:\n",
      "\"glm.fit: fitted probabilities numerically 0 or 1 occurred\"\n",
      "Warning message:\n",
      "\"glm.fit: fitted probabilities numerically 0 or 1 occurred\"\n",
      "Warning message:\n",
      "\"glm.fit: fitted probabilities numerically 0 or 1 occurred\"\n",
      "Warning message:\n",
      "\"glm.fit: fitted probabilities numerically 0 or 1 occurred\"\n",
      "Warning message:\n",
      "\"glm.fit: fitted probabilities numerically 0 or 1 occurred\"\n",
      "Warning message:\n",
      "\"glm.fit: fitted probabilities numerically 0 or 1 occurred\"\n",
      "Warning message:\n",
      "\"glm.fit: fitted probabilities numerically 0 or 1 occurred\"\n",
      "Warning message:\n",
      "\"glm.fit: fitted probabilities numerically 0 or 1 occurred\"\n",
      "Warning message:\n",
      "\"glm.fit: fitted probabilities numerically 0 or 1 occurred\"\n",
      "Warning message:\n",
      "\"glm.fit: fitted probabilities numerically 0 or 1 occurred\"\n"
     ]
    },
    {
     "name": "stdout",
     "output_type": "stream",
     "text": [
      "            Df Deviance   AIC\n",
      "- PAY_5      1    14808 14852\n",
      "- BILL_AMT2  1    14808 14852\n",
      "- AGE        1    14809 14853\n",
      "- PAY_AMT6   1    14809 14853\n",
      "<none>            14807 14853\n",
      "- PAY_4      1    14810 14854\n",
      "- BILL_AMT4  1    14810 14854\n",
      "- SEX        1    14811 14855\n",
      "- LIMIT_BAL  1    14811 14855\n",
      "- PAY_3      1    14813 14857\n",
      "- PAY_2      1    14814 14858\n",
      "- PAY_AMT5   1    14817 14861\n",
      "- EDUCATION  3    14822 14862\n",
      "- PAY_AMT4   1    14818 14862\n",
      "- BILL_AMT3  1    14820 14864\n",
      "- MARRIAGE   2    14822 14864\n",
      "- BILL_AMT1  1    14828 14872\n",
      "- PAY_AMT1   1    14842 14886\n",
      "- PAY_AMT2   1    14854 14898\n",
      "- PAY_0      1    15364 15408\n"
     ]
    },
    {
     "name": "stderr",
     "output_type": "stream",
     "text": [
      "Warning message:\n",
      "\"glm.fit: fitted probabilities numerically 0 or 1 occurred\"\n"
     ]
    },
    {
     "name": "stdout",
     "output_type": "stream",
     "text": [
      "\n",
      "Step:  AIC=14852.27\n",
      "default ~ LIMIT_BAL + SEX + EDUCATION + MARRIAGE + AGE + PAY_0 + \n",
      "    PAY_2 + PAY_3 + PAY_4 + BILL_AMT1 + BILL_AMT2 + BILL_AMT3 + \n",
      "    BILL_AMT4 + PAY_AMT1 + PAY_AMT2 + PAY_AMT4 + PAY_AMT5 + PAY_AMT6\n",
      "\n"
     ]
    },
    {
     "name": "stderr",
     "output_type": "stream",
     "text": [
      "Warning message:\n",
      "\"glm.fit: fitted probabilities numerically 0 or 1 occurred\"\n",
      "Warning message:\n",
      "\"glm.fit: fitted probabilities numerically 0 or 1 occurred\"\n",
      "Warning message:\n",
      "\"glm.fit: fitted probabilities numerically 0 or 1 occurred\"\n",
      "Warning message:\n",
      "\"glm.fit: fitted probabilities numerically 0 or 1 occurred\"\n",
      "Warning message:\n",
      "\"glm.fit: fitted probabilities numerically 0 or 1 occurred\"\n",
      "Warning message:\n",
      "\"glm.fit: fitted probabilities numerically 0 or 1 occurred\"\n",
      "Warning message:\n",
      "\"glm.fit: fitted probabilities numerically 0 or 1 occurred\"\n",
      "Warning message:\n",
      "\"glm.fit: fitted probabilities numerically 0 or 1 occurred\"\n",
      "Warning message:\n",
      "\"glm.fit: fitted probabilities numerically 0 or 1 occurred\"\n",
      "Warning message:\n",
      "\"glm.fit: fitted probabilities numerically 0 or 1 occurred\"\n",
      "Warning message:\n",
      "\"glm.fit: fitted probabilities numerically 0 or 1 occurred\"\n",
      "Warning message:\n",
      "\"glm.fit: fitted probabilities numerically 0 or 1 occurred\"\n",
      "Warning message:\n",
      "\"glm.fit: fitted probabilities numerically 0 or 1 occurred\"\n",
      "Warning message:\n",
      "\"glm.fit: fitted probabilities numerically 0 or 1 occurred\"\n",
      "Warning message:\n",
      "\"glm.fit: fitted probabilities numerically 0 or 1 occurred\"\n",
      "Warning message:\n",
      "\"glm.fit: fitted probabilities numerically 0 or 1 occurred\"\n",
      "Warning message:\n",
      "\"glm.fit: fitted probabilities numerically 0 or 1 occurred\"\n"
     ]
    },
    {
     "name": "stdout",
     "output_type": "stream",
     "text": [
      "            Df Deviance   AIC\n",
      "- BILL_AMT2  1    14809 14851\n",
      "- AGE        1    14810 14852\n",
      "- PAY_AMT6   1    14810 14852\n",
      "<none>            14808 14852\n",
      "- BILL_AMT4  1    14811 14853\n",
      "- SEX        1    14812 14854\n",
      "- LIMIT_BAL  1    14812 14854\n",
      "- PAY_3      1    14814 14856\n",
      "- PAY_4      1    14814 14856\n",
      "- PAY_2      1    14815 14857\n",
      "- PAY_AMT5   1    14818 14860\n",
      "- EDUCATION  3    14822 14860\n",
      "- PAY_AMT4   1    14819 14861\n",
      "- BILL_AMT3  1    14820 14862\n",
      "- MARRIAGE   2    14823 14863\n",
      "- BILL_AMT1  1    14829 14871\n",
      "- PAY_AMT1   1    14843 14885\n",
      "- PAY_AMT2   1    14855 14897\n",
      "- PAY_0      1    15369 15411\n"
     ]
    },
    {
     "name": "stderr",
     "output_type": "stream",
     "text": [
      "Warning message:\n",
      "\"glm.fit: fitted probabilities numerically 0 or 1 occurred\"\n"
     ]
    },
    {
     "name": "stdout",
     "output_type": "stream",
     "text": [
      "\n",
      "Step:  AIC=14851.11\n",
      "default ~ LIMIT_BAL + SEX + EDUCATION + MARRIAGE + AGE + PAY_0 + \n",
      "    PAY_2 + PAY_3 + PAY_4 + BILL_AMT1 + BILL_AMT3 + BILL_AMT4 + \n",
      "    PAY_AMT1 + PAY_AMT2 + PAY_AMT4 + PAY_AMT5 + PAY_AMT6\n",
      "\n"
     ]
    },
    {
     "name": "stderr",
     "output_type": "stream",
     "text": [
      "Warning message:\n",
      "\"glm.fit: fitted probabilities numerically 0 or 1 occurred\"\n",
      "Warning message:\n",
      "\"glm.fit: fitted probabilities numerically 0 or 1 occurred\"\n",
      "Warning message:\n",
      "\"glm.fit: fitted probabilities numerically 0 or 1 occurred\"\n",
      "Warning message:\n",
      "\"glm.fit: fitted probabilities numerically 0 or 1 occurred\"\n",
      "Warning message:\n",
      "\"glm.fit: fitted probabilities numerically 0 or 1 occurred\"\n",
      "Warning message:\n",
      "\"glm.fit: fitted probabilities numerically 0 or 1 occurred\"\n",
      "Warning message:\n",
      "\"glm.fit: fitted probabilities numerically 0 or 1 occurred\"\n",
      "Warning message:\n",
      "\"glm.fit: fitted probabilities numerically 0 or 1 occurred\"\n",
      "Warning message:\n",
      "\"glm.fit: fitted probabilities numerically 0 or 1 occurred\"\n",
      "Warning message:\n",
      "\"glm.fit: fitted probabilities numerically 0 or 1 occurred\"\n",
      "Warning message:\n",
      "\"glm.fit: fitted probabilities numerically 0 or 1 occurred\"\n",
      "Warning message:\n",
      "\"glm.fit: fitted probabilities numerically 0 or 1 occurred\"\n",
      "Warning message:\n",
      "\"glm.fit: fitted probabilities numerically 0 or 1 occurred\"\n",
      "Warning message:\n",
      "\"glm.fit: fitted probabilities numerically 0 or 1 occurred\"\n",
      "Warning message:\n",
      "\"glm.fit: fitted probabilities numerically 0 or 1 occurred\"\n"
     ]
    },
    {
     "name": "stdout",
     "output_type": "stream",
     "text": [
      "            Df Deviance   AIC\n",
      "- AGE        1    14810 14850\n",
      "- PAY_AMT6   1    14811 14851\n",
      "<none>            14809 14851\n",
      "- BILL_AMT4  1    14812 14852\n",
      "- SEX        1    14813 14853\n",
      "- LIMIT_BAL  1    14813 14853\n",
      "- PAY_3      1    14815 14855\n",
      "- PAY_4      1    14815 14855\n",
      "- PAY_2      1    14816 14856\n",
      "- PAY_AMT5   1    14819 14859\n",
      "- EDUCATION  3    14823 14859\n",
      "- PAY_AMT4   1    14820 14860\n",
      "- MARRIAGE   2    14824 14862\n",
      "- BILL_AMT3  1    14829 14869\n",
      "- BILL_AMT1  1    14839 14879\n",
      "- PAY_AMT1   1    14846 14886\n",
      "- PAY_AMT2   1    14864 14904\n",
      "- PAY_0      1    15371 15411\n"
     ]
    },
    {
     "name": "stderr",
     "output_type": "stream",
     "text": [
      "Warning message:\n",
      "\"glm.fit: fitted probabilities numerically 0 or 1 occurred\"\n"
     ]
    },
    {
     "name": "stdout",
     "output_type": "stream",
     "text": [
      "\n",
      "Step:  AIC=14850.52\n",
      "default ~ LIMIT_BAL + SEX + EDUCATION + MARRIAGE + PAY_0 + PAY_2 + \n",
      "    PAY_3 + PAY_4 + BILL_AMT1 + BILL_AMT3 + BILL_AMT4 + PAY_AMT1 + \n",
      "    PAY_AMT2 + PAY_AMT4 + PAY_AMT5 + PAY_AMT6\n",
      "\n"
     ]
    },
    {
     "name": "stderr",
     "output_type": "stream",
     "text": [
      "Warning message:\n",
      "\"glm.fit: fitted probabilities numerically 0 or 1 occurred\"\n",
      "Warning message:\n",
      "\"glm.fit: fitted probabilities numerically 0 or 1 occurred\"\n",
      "Warning message:\n",
      "\"glm.fit: fitted probabilities numerically 0 or 1 occurred\"\n",
      "Warning message:\n",
      "\"glm.fit: fitted probabilities numerically 0 or 1 occurred\"\n",
      "Warning message:\n",
      "\"glm.fit: fitted probabilities numerically 0 or 1 occurred\"\n",
      "Warning message:\n",
      "\"glm.fit: fitted probabilities numerically 0 or 1 occurred\"\n",
      "Warning message:\n",
      "\"glm.fit: fitted probabilities numerically 0 or 1 occurred\"\n",
      "Warning message:\n",
      "\"glm.fit: fitted probabilities numerically 0 or 1 occurred\"\n",
      "Warning message:\n",
      "\"glm.fit: fitted probabilities numerically 0 or 1 occurred\"\n",
      "Warning message:\n",
      "\"glm.fit: fitted probabilities numerically 0 or 1 occurred\"\n",
      "Warning message:\n",
      "\"glm.fit: fitted probabilities numerically 0 or 1 occurred\"\n",
      "Warning message:\n",
      "\"glm.fit: fitted probabilities numerically 0 or 1 occurred\"\n",
      "Warning message:\n",
      "\"glm.fit: fitted probabilities numerically 0 or 1 occurred\"\n",
      "Warning message:\n",
      "\"glm.fit: fitted probabilities numerically 0 or 1 occurred\"\n"
     ]
    },
    {
     "name": "stdout",
     "output_type": "stream",
     "text": [
      "            Df Deviance   AIC\n",
      "- PAY_AMT6   1    14812 14850\n",
      "<none>            14810 14850\n",
      "- BILL_AMT4  1    14813 14851\n",
      "- LIMIT_BAL  1    14814 14852\n",
      "- SEX        1    14815 14853\n",
      "- PAY_3      1    14816 14854\n",
      "- PAY_4      1    14817 14855\n",
      "- PAY_2      1    14817 14855\n",
      "- PAY_AMT5   1    14820 14858\n",
      "- EDUCATION  3    14824 14858\n",
      "- PAY_AMT4   1    14822 14860\n",
      "- BILL_AMT3  1    14830 14868\n",
      "- MARRIAGE   2    14834 14870\n",
      "- BILL_AMT1  1    14840 14878\n",
      "- PAY_AMT1   1    14848 14886\n",
      "- PAY_AMT2   1    14866 14904\n",
      "- PAY_0      1    15372 15410\n"
     ]
    },
    {
     "name": "stderr",
     "output_type": "stream",
     "text": [
      "Warning message:\n",
      "\"glm.fit: fitted probabilities numerically 0 or 1 occurred\"\n"
     ]
    },
    {
     "name": "stdout",
     "output_type": "stream",
     "text": [
      "\n",
      "Step:  AIC=14850.18\n",
      "default ~ LIMIT_BAL + SEX + EDUCATION + MARRIAGE + PAY_0 + PAY_2 + \n",
      "    PAY_3 + PAY_4 + BILL_AMT1 + BILL_AMT3 + BILL_AMT4 + PAY_AMT1 + \n",
      "    PAY_AMT2 + PAY_AMT4 + PAY_AMT5\n",
      "\n"
     ]
    },
    {
     "name": "stderr",
     "output_type": "stream",
     "text": [
      "Warning message:\n",
      "\"glm.fit: fitted probabilities numerically 0 or 1 occurred\"\n",
      "Warning message:\n",
      "\"glm.fit: fitted probabilities numerically 0 or 1 occurred\"\n",
      "Warning message:\n",
      "\"glm.fit: fitted probabilities numerically 0 or 1 occurred\"\n",
      "Warning message:\n",
      "\"glm.fit: fitted probabilities numerically 0 or 1 occurred\"\n",
      "Warning message:\n",
      "\"glm.fit: fitted probabilities numerically 0 or 1 occurred\"\n",
      "Warning message:\n",
      "\"glm.fit: fitted probabilities numerically 0 or 1 occurred\"\n",
      "Warning message:\n",
      "\"glm.fit: fitted probabilities numerically 0 or 1 occurred\"\n",
      "Warning message:\n",
      "\"glm.fit: fitted probabilities numerically 0 or 1 occurred\"\n",
      "Warning message:\n",
      "\"glm.fit: fitted probabilities numerically 0 or 1 occurred\"\n",
      "Warning message:\n",
      "\"glm.fit: fitted probabilities numerically 0 or 1 occurred\"\n",
      "Warning message:\n",
      "\"glm.fit: fitted probabilities numerically 0 or 1 occurred\"\n",
      "Warning message:\n",
      "\"glm.fit: fitted probabilities numerically 0 or 1 occurred\"\n",
      "Warning message:\n",
      "\"glm.fit: fitted probabilities numerically 0 or 1 occurred\"\n"
     ]
    },
    {
     "name": "stdout",
     "output_type": "stream",
     "text": [
      "            Df Deviance   AIC\n",
      "<none>            14812 14850\n",
      "- BILL_AMT4  1    14814 14850\n",
      "- LIMIT_BAL  1    14816 14852\n",
      "- SEX        1    14816 14852\n",
      "- PAY_3      1    14818 14854\n",
      "- PAY_4      1    14818 14854\n",
      "- PAY_2      1    14819 14855\n",
      "- EDUCATION  3    14826 14858\n",
      "- PAY_AMT5   1    14823 14859\n",
      "- PAY_AMT4   1    14824 14860\n",
      "- BILL_AMT3  1    14832 14868\n",
      "- MARRIAGE   2    14836 14870\n",
      "- BILL_AMT1  1    14843 14879\n",
      "- PAY_AMT1   1    14850 14886\n",
      "- PAY_AMT2   1    14870 14906\n",
      "- PAY_0      1    15374 15410\n"
     ]
    },
    {
     "data": {
      "text/plain": [
       "\n",
       "Call:  glm(formula = default ~ LIMIT_BAL + SEX + EDUCATION + MARRIAGE + \n",
       "    PAY_0 + PAY_2 + PAY_3 + PAY_4 + BILL_AMT1 + BILL_AMT3 + BILL_AMT4 + \n",
       "    PAY_AMT1 + PAY_AMT2 + PAY_AMT4 + PAY_AMT5, family = binomial, \n",
       "    data = train)\n",
       "\n",
       "Coefficients:\n",
       "(Intercept)    LIMIT_BAL         SEX2   EDUCATION2   EDUCATION3   EDUCATION4  \n",
       " -1.138e+00   -4.254e-07   -8.663e-02   -1.110e-01   -9.484e-02   -1.491e+00  \n",
       "  MARRIAGE2    MARRIAGE3        PAY_0        PAY_2        PAY_3        PAY_4  \n",
       " -2.059e-01    5.536e-02    5.795e-01    7.047e-02    7.307e-02    6.776e-02  \n",
       "  BILL_AMT1    BILL_AMT3    BILL_AMT4     PAY_AMT1     PAY_AMT2     PAY_AMT4  \n",
       " -3.839e-01    4.109e-01   -1.011e-01   -2.354e-01   -4.296e-01   -1.168e-01  \n",
       "   PAY_AMT5  \n",
       " -1.029e-01  \n",
       "\n",
       "Degrees of Freedom: 15999 Total (i.e. Null);  15981 Residual\n",
       "Null Deviance:\t    16860 \n",
       "Residual Deviance: 14810 \tAIC: 14850"
      ]
     },
     "metadata": {},
     "output_type": "display_data"
    }
   ],
   "source": [
    "stepAIC(model_logistic)"
   ]
  },
  {
   "cell_type": "code",
   "execution_count": 48,
   "id": "0a3d461f",
   "metadata": {},
   "outputs": [],
   "source": [
    "#RERUN MODEL WITH THE BEST COMBINATION"
   ]
  },
  {
   "cell_type": "code",
   "execution_count": 46,
   "id": "cdaad047",
   "metadata": {},
   "outputs": [
    {
     "name": "stderr",
     "output_type": "stream",
     "text": [
      "Warning message:\n",
      "\"glm.fit: fitted probabilities numerically 0 or 1 occurred\"\n"
     ]
    }
   ],
   "source": [
    "model_logistic2= glm(formula = default ~ LIMIT_BAL + SEX + EDUCATION + MARRIAGE + \n",
    "    PAY_0 + PAY_2 + PAY_3 + PAY_4 + BILL_AMT1 + BILL_AMT3 + BILL_AMT4 + \n",
    "    PAY_AMT1 + PAY_AMT2 + PAY_AMT4 + PAY_AMT5, family = binomial, \n",
    "    data = train)"
   ]
  },
  {
   "cell_type": "code",
   "execution_count": 47,
   "id": "9e9fe21d",
   "metadata": {},
   "outputs": [],
   "source": [
    "# make predictions\n",
    "probabilities2 <- model_logistic2 %>% predict(test, type = \"response\")"
   ]
  },
  {
   "cell_type": "code",
   "execution_count": 48,
   "id": "8c047da6",
   "metadata": {},
   "outputs": [],
   "source": [
    "predict2 <- ifelse(probabilities2 > 0.5, 1, 0)"
   ]
  },
  {
   "cell_type": "code",
   "execution_count": 49,
   "id": "82209430",
   "metadata": {},
   "outputs": [
    {
     "data": {
      "text/html": [
       "0.7985"
      ],
      "text/latex": [
       "0.7985"
      ],
      "text/markdown": [
       "0.7985"
      ],
      "text/plain": [
       "[1] 0.7985"
      ]
     },
     "metadata": {},
     "output_type": "display_data"
    }
   ],
   "source": [
    "#model accuracy\n",
    "mean(predict2 == test$default)"
   ]
  },
  {
   "cell_type": "code",
   "execution_count": 50,
   "id": "a8f302c8",
   "metadata": {},
   "outputs": [
    {
     "name": "stderr",
     "output_type": "stream",
     "text": [
      "Warning message:\n",
      "\"package 'mlr' is in use and will not be installed\"\n"
     ]
    }
   ],
   "source": [
    "install.packages(\"mlr\")\n",
    "library(mlr)"
   ]
  },
  {
   "cell_type": "code",
   "execution_count": 51,
   "id": "0661b15a",
   "metadata": {},
   "outputs": [
    {
     "name": "stderr",
     "output_type": "stream",
     "text": [
      "Resampling: cross-validation\n",
      "\n",
      "Measures:             auc       \n",
      "\n",
      "Functional features have been converted to numerics\n",
      "\n",
      "Warning message:\n",
      "\"glm.fit: fitted probabilities numerically 0 or 1 occurred\"\n",
      "Functional features have been converted to numerics\n",
      "\n",
      "Warning message in predict.lm(object, newdata, se.fit, scale = 1, type = if (type == :\n",
      "\"prediction from a rank-deficient fit may be misleading\"\n",
      "[Resample] iter 1:    0.7228301 \n",
      "\n",
      "Functional features have been converted to numerics\n",
      "\n",
      "Warning message:\n",
      "\"glm.fit: fitted probabilities numerically 0 or 1 occurred\"\n",
      "Functional features have been converted to numerics\n",
      "\n",
      "Warning message in predict.lm(object, newdata, se.fit, scale = 1, type = if (type == :\n",
      "\"prediction from a rank-deficient fit may be misleading\"\n",
      "[Resample] iter 2:    0.7123186 \n",
      "\n",
      "Functional features have been converted to numerics\n",
      "\n",
      "Warning message:\n",
      "\"glm.fit: fitted probabilities numerically 0 or 1 occurred\"\n",
      "Functional features have been converted to numerics\n",
      "\n",
      "Warning message in predict.lm(object, newdata, se.fit, scale = 1, type = if (type == :\n",
      "\"prediction from a rank-deficient fit may be misleading\"\n",
      "[Resample] iter 3:    0.7165998 \n",
      "\n",
      "Functional features have been converted to numerics\n",
      "\n",
      "Warning message:\n",
      "\"glm.fit: fitted probabilities numerically 0 or 1 occurred\"\n",
      "Functional features have been converted to numerics\n",
      "\n",
      "Warning message in predict.lm(object, newdata, se.fit, scale = 1, type = if (type == :\n",
      "\"prediction from a rank-deficient fit may be misleading\"\n",
      "[Resample] iter 4:    0.7286582 \n",
      "\n",
      "Functional features have been converted to numerics\n",
      "\n",
      "Warning message:\n",
      "\"glm.fit: fitted probabilities numerically 0 or 1 occurred\"\n",
      "Functional features have been converted to numerics\n",
      "\n",
      "Warning message in predict.lm(object, newdata, se.fit, scale = 1, type = if (type == :\n",
      "\"prediction from a rank-deficient fit may be misleading\"\n",
      "[Resample] iter 5:    0.7285985 \n",
      "\n",
      "Functional features have been converted to numerics\n",
      "\n",
      "Warning message:\n",
      "\"glm.fit: fitted probabilities numerically 0 or 1 occurred\"\n",
      "Functional features have been converted to numerics\n",
      "\n",
      "Warning message in predict.lm(object, newdata, se.fit, scale = 1, type = if (type == :\n",
      "\"prediction from a rank-deficient fit may be misleading\"\n",
      "[Resample] iter 6:    0.7268763 \n",
      "\n",
      "Functional features have been converted to numerics\n",
      "\n",
      "Warning message:\n",
      "\"glm.fit: fitted probabilities numerically 0 or 1 occurred\"\n",
      "Functional features have been converted to numerics\n",
      "\n",
      "Warning message in predict.lm(object, newdata, se.fit, scale = 1, type = if (type == :\n",
      "\"prediction from a rank-deficient fit may be misleading\"\n",
      "[Resample] iter 7:    0.7219883 \n",
      "\n",
      "Functional features have been converted to numerics\n",
      "\n",
      "Functional features have been converted to numerics\n",
      "\n",
      "Warning message in predict.lm(object, newdata, se.fit, scale = 1, type = if (type == :\n",
      "\"prediction from a rank-deficient fit may be misleading\"\n",
      "[Resample] iter 8:    0.6981074 \n",
      "\n",
      "Functional features have been converted to numerics\n",
      "\n",
      "Warning message:\n",
      "\"glm.fit: fitted probabilities numerically 0 or 1 occurred\"\n",
      "Functional features have been converted to numerics\n",
      "\n",
      "Warning message in predict.lm(object, newdata, se.fit, scale = 1, type = if (type == :\n",
      "\"prediction from a rank-deficient fit may be misleading\"\n",
      "[Resample] iter 9:    0.7269591 \n",
      "\n",
      "Functional features have been converted to numerics\n",
      "\n",
      "Warning message:\n",
      "\"glm.fit: fitted probabilities numerically 0 or 1 occurred\"\n",
      "Functional features have been converted to numerics\n",
      "\n",
      "Warning message in predict.lm(object, newdata, se.fit, scale = 1, type = if (type == :\n",
      "\"prediction from a rank-deficient fit may be misleading\"\n",
      "[Resample] iter 10:   0.7437294 \n",
      "\n",
      "\n",
      "\n",
      "\n",
      "Aggregated Result: auc.test.mean=0.7226666\n",
      "\n",
      "\n",
      "\n",
      "\n"
     ]
    },
    {
     "data": {
      "text/plain": [
       "Resample Result\n",
       "Task: train\n",
       "Learner: classif.logreg\n",
       "Aggr perf: auc.test.mean=0.7226666\n",
       "Runtime: 2.83014"
      ]
     },
     "metadata": {},
     "output_type": "display_data"
    },
    {
     "data": {
      "image/png": "[encoded data removed]",
      "text/plain": [
       "Plot with title \"\""
      ]
     },
     "metadata": {
      "image/png": {
       "height": 420,
       "width": 420
      }
     },
     "output_type": "display_data"
    },
    {
     "data": {
      "image/png": "[encoded data removed]",
      "text/plain": [
       "Plot with title \"\""
      ]
     },
     "metadata": {
      "image/png": {
       "height": 420,
       "width": 420
      }
     },
     "output_type": "display_data"
    },
    {
     "data": {
      "image/png": "[encoded data removed]",
      "text/plain": [
       "Plot with title \"\""
      ]
     },
     "metadata": {
      "image/png": {
       "height": 420,
       "width": 420
      }
     },
     "output_type": "display_data"
    },
    {
     "data": {
      "image/png": "[encoded data removed]",
      "text/plain": [
       "Plot with title \"\""
      ]
     },
     "metadata": {
      "image/png": {
       "height": 420,
       "width": 420
      }
     },
     "output_type": "display_data"
    }
   ],
   "source": [
    "#CROSS VALIDATION\n",
    "# Set up cross-validation\n",
    "rdesc = makeResampleDesc(\"CV\", iters=10)\n",
    "\n",
    "# Define the model\n",
    "cross_lr<- makeLearner(\"classif.logreg\", predict.type=\"prob\", fix.factors.prediction=T)\n",
    "\n",
    "# Define the model\n",
    "task_cross <- makeClassifTask(data=train, target=\"default\")\n",
    "# Run the k-fold CV\n",
    "resample(cross_lr, task_cross, rdesc, measures=list(mlr::auc))\n",
    "plot(model_logistic2)"
   ]
  },
  {
   "cell_type": "markdown",
   "id": "1dfc5e8a",
   "metadata": {},
   "source": [
    "# SECOND MODEL: LDA"
   ]
  },
  {
   "cell_type": "code",
   "execution_count": 52,
   "id": "01a2fdb6",
   "metadata": {},
   "outputs": [
    {
     "name": "stderr",
     "output_type": "stream",
     "text": [
      "Warning message in lda.default(x, grouping, ...):\n",
      "\"variables are collinear\"\n"
     ]
    }
   ],
   "source": [
    "model_lda=lda(default ~., data=train)"
   ]
  },
  {
   "cell_type": "code",
   "execution_count": 53,
   "id": "74837a68",
   "metadata": {},
   "outputs": [
    {
     "data": {
      "text/plain": [
       "Call:\n",
       "lda(default ~ ., data = train)\n",
       "\n",
       "Prior probabilities of groups:\n",
       "        0         1 \n",
       "0.7800625 0.2199375 \n",
       "\n",
       "Group means:\n",
       "  LIMIT_BAL      SEX2 EDUCATION2 EDUCATION3   EDUCATION4 MARRIAGE2   MARRIAGE3\n",
       "0  177093.5 0.6163769  0.4818524  0.1570387 0.0049675507 0.5462703 0.009614614\n",
       "1  131089.0 0.5751634  0.5143507  0.1841432 0.0008525149 0.5140665 0.013071895\n",
       "       AGE      PAY_0      PAY_2      PAY_3      PAY_4      PAY_5      PAY_6\n",
       "0 35.43758 -0.2062335 -0.2898806 -0.3060652 -0.3491707 -0.3828219 -0.3994872\n",
       "1 35.60023  0.6510372  0.4512646  0.3677181  0.2537653  0.1591361  0.1023018\n",
       "    BILL_AMT1    BILL_AMT2   BILL_AMT3    BILL_AMT4    BILL_AMT5   BILL_AMT6\n",
       "0  0.01034348  0.006740016  0.00621478  0.005535992  0.004954422  0.00410359\n",
       "1 -0.03668570 -0.023905125 -0.02204225 -0.019634760 -0.017572079 -0.01455439\n",
       "     PAY_AMT1    PAY_AMT2    PAY_AMT3    PAY_AMT4    PAY_AMT5    PAY_AMT6\n",
       "0  0.03978868  0.03830653  0.03321629  0.03368027  0.03364782  0.02793977\n",
       "1 -0.14112034 -0.13586355 -0.11780977 -0.11945538 -0.11934028 -0.09909527\n",
       "   LIMIT_BALL\n",
       "0  0.07876532\n",
       "1 -0.27936062\n",
       "\n",
       "Coefficients of linear discriminants:\n",
       "                     LD1\n",
       "LIMIT_BAL  -1.548692e-07\n",
       "SEX2       -7.427057e-02\n",
       "EDUCATION2 -1.338447e-01\n",
       "EDUCATION3 -1.143899e-01\n",
       "EDUCATION4 -9.044175e-01\n",
       "MARRIAGE2  -2.015254e-01\n",
       "MARRIAGE3   2.964600e-02\n",
       "AGE         5.420205e-03\n",
       "PAY_0       7.082263e-01\n",
       "PAY_2       1.250138e-01\n",
       "PAY_3       9.984519e-02\n",
       "PAY_4       4.410031e-02\n",
       "PAY_5       2.655440e-02\n",
       "PAY_6       5.708930e-03\n",
       "BILL_AMT1  -3.933893e-01\n",
       "BILL_AMT2   9.469783e-02\n",
       "BILL_AMT3   1.798855e-01\n",
       "BILL_AMT4  -1.126948e-01\n",
       "BILL_AMT5  -6.055980e-02\n",
       "BILL_AMT6   6.902792e-02\n",
       "PAY_AMT1   -1.129711e-01\n",
       "PAY_AMT2   -8.465914e-02\n",
       "PAY_AMT3    3.922318e-03\n",
       "PAY_AMT4   -6.004205e-02\n",
       "PAY_AMT5   -7.209744e-02\n",
       "PAY_AMT6   -7.695239e-03\n",
       "LIMIT_BALL -1.989434e-02"
      ]
     },
     "metadata": {},
     "output_type": "display_data"
    }
   ],
   "source": [
    "model_lda"
   ]
  },
  {
   "cell_type": "code",
   "execution_count": 55,
   "id": "4a1989b5",
   "metadata": {},
   "outputs": [
    {
     "data": {
      "text/html": [
       "<table class=\"dataframe\">\n",
       "<caption>A matrix: 6 × 2 of type dbl</caption>\n",
       "<thead>\n",
       "\t<tr><th></th><th scope=col>0</th><th scope=col>1</th></tr>\n",
       "</thead>\n",
       "<tbody>\n",
       "\t<tr><th scope=row>10382</th><td>0.9153081</td><td>0.08469194</td></tr>\n",
       "\t<tr><th scope=row>8806</th><td>0.4408607</td><td>0.55913930</td></tr>\n",
       "\t<tr><th scope=row>4721</th><td>0.9331993</td><td>0.06680068</td></tr>\n",
       "\t<tr><th scope=row>8533</th><td>0.7832661</td><td>0.21673393</td></tr>\n",
       "\t<tr><th scope=row>11257</th><td>0.7430734</td><td>0.25692656</td></tr>\n",
       "\t<tr><th scope=row>8992</th><td>0.7874096</td><td>0.21259035</td></tr>\n",
       "</tbody>\n",
       "</table>\n"
      ],
      "text/latex": [
       "A matrix: 6 × 2 of type dbl\n",
       "\\begin{tabular}{r|ll}\n",
       "  & 0 & 1\\\\\n",
       "\\hline\n",
       "\t10382 & 0.9153081 & 0.08469194\\\\\n",
       "\t8806 & 0.4408607 & 0.55913930\\\\\n",
       "\t4721 & 0.9331993 & 0.06680068\\\\\n",
       "\t8533 & 0.7832661 & 0.21673393\\\\\n",
       "\t11257 & 0.7430734 & 0.25692656\\\\\n",
       "\t8992 & 0.7874096 & 0.21259035\\\\\n",
       "\\end{tabular}\n"
      ],
      "text/markdown": [
       "\n",
       "A matrix: 6 × 2 of type dbl\n",
       "\n",
       "| <!--/--> | 0 | 1 |\n",
       "|---|---|---|\n",
       "| 10382 | 0.9153081 | 0.08469194 |\n",
       "| 8806 | 0.4408607 | 0.55913930 |\n",
       "| 4721 | 0.9331993 | 0.06680068 |\n",
       "| 8533 | 0.7832661 | 0.21673393 |\n",
       "| 11257 | 0.7430734 | 0.25692656 |\n",
       "| 8992 | 0.7874096 | 0.21259035 |\n",
       "\n"
      ],
      "text/plain": [
       "      0         1         \n",
       "10382 0.9153081 0.08469194\n",
       "8806  0.4408607 0.55913930\n",
       "4721  0.9331993 0.06680068\n",
       "8533  0.7832661 0.21673393\n",
       "11257 0.7430734 0.25692656\n",
       "8992  0.7874096 0.21259035"
      ]
     },
     "metadata": {},
     "output_type": "display_data"
    }
   ],
   "source": [
    "lda_pred<-predict(model_lda)\n",
    "head(lda_pred$posterior)"
   ]
  },
  {
   "cell_type": "code",
   "execution_count": 61,
   "id": "6233fd79",
   "metadata": {},
   "outputs": [
    {
     "data": {
      "text/plain": [
       "   \n",
       "        0     1\n",
       "  0 15148  3374\n",
       "  1   438  1040"
      ]
     },
     "metadata": {},
     "output_type": "display_data"
    }
   ],
   "source": [
    "#CONFUSION MATRIX\n",
    "LDA_confusion=lda(default~.,data=credit_default)\n",
    "table(predict(LDA_confusion,type=\"class\")$class,credit_default$default)"
   ]
  },
  {
   "cell_type": "code",
   "execution_count": 56,
   "id": "54ade90a",
   "metadata": {},
   "outputs": [
    {
     "name": "stderr",
     "output_type": "stream",
     "text": [
      " `stepwise classification', using 10-fold cross-validated correctness rate of method lda'.\n",
      "\n",
      "16000 observations of 27 variables in 2 classes; direction: backward\n",
      "\n",
      "stop criterion: assemble 4 best variables.\n",
      "\n",
      "Warning message in lda.default(x, grouping, ...):\n",
      "\"variables are collinear\"\n",
      "Warning message in lda.default(x, grouping, ...):\n",
      "\"variables are collinear\"\n",
      "Warning message in lda.default(x, grouping, ...):\n",
      "\"variables are collinear\"\n",
      "Warning message in lda.default(x, grouping, ...):\n",
      "\"variables are collinear\"\n",
      "Warning message in lda.default(x, grouping, ...):\n",
      "\"variables are collinear\"\n",
      "Warning message in lda.default(x, grouping, ...):\n",
      "\"variables are collinear\"\n",
      "Warning message in lda.default(x, grouping, ...):\n",
      "\"variables are collinear\"\n",
      "Warning message in lda.default(x, grouping, ...):\n",
      "\"variables are collinear\"\n",
      "Warning message in lda.default(x, grouping, ...):\n",
      "\"variables are collinear\"\n",
      "Warning message in lda.default(x, grouping, ...):\n",
      "\"variables are collinear\"\n"
     ]
    },
    {
     "name": "stdout",
     "output_type": "stream",
     "text": [
      "correctness rate: 0.811;  starting variables (27): LIMIT_BAL, SEX2, EDUCATION2, EDUCATION3, EDUCATION4, MARRIAGE2, MARRIAGE3, AGE, PAY_0, PAY_2, PAY_3, PAY_4, PAY_5, PAY_6, BILL_AMT1, BILL_AMT2, BILL_AMT3, BILL_AMT4, BILL_AMT5, BILL_AMT6, PAY_AMT1, PAY_AMT2, PAY_AMT3, PAY_AMT4, PAY_AMT5, PAY_AMT6, LIMIT_BALL \n"
     ]
    },
    {
     "name": "stderr",
     "output_type": "stream",
     "text": [
      "Warning message in lda.default(x, grouping, ...):\n",
      "\"variables are collinear\"\n",
      "Warning message in lda.default(x, grouping, ...):\n",
      "\"variables are collinear\"\n",
      "Warning message in lda.default(x, grouping, ...):\n",
      "\"variables are collinear\"\n",
      "Warning message in lda.default(x, grouping, ...):\n",
      "\"variables are collinear\"\n",
      "Warning message in lda.default(x, grouping, ...):\n",
      "\"variables are collinear\"\n",
      "Warning message in lda.default(x, grouping, ...):\n",
      "\"variables are collinear\"\n",
      "Warning message in lda.default(x, grouping, ...):\n",
      "\"variables are collinear\"\n",
      "Warning message in lda.default(x, grouping, ...):\n",
      "\"variables are collinear\"\n",
      "Warning message in lda.default(x, grouping, ...):\n",
      "\"variables are collinear\"\n",
      "Warning message in lda.default(x, grouping, ...):\n",
      "\"variables are collinear\"\n",
      "Warning message in lda.default(x, grouping, ...):\n",
      "\"variables are collinear\"\n",
      "Warning message in lda.default(x, grouping, ...):\n",
      "\"variables are collinear\"\n",
      "Warning message in lda.default(x, grouping, ...):\n",
      "\"variables are collinear\"\n",
      "Warning message in lda.default(x, grouping, ...):\n",
      "\"variables are collinear\"\n",
      "Warning message in lda.default(x, grouping, ...):\n",
      "\"variables are collinear\"\n",
      "Warning message in lda.default(x, grouping, ...):\n",
      "\"variables are collinear\"\n",
      "Warning message in lda.default(x, grouping, ...):\n",
      "\"variables are collinear\"\n",
      "Warning message in lda.default(x, grouping, ...):\n",
      "\"variables are collinear\"\n",
      "Warning message in lda.default(x, grouping, ...):\n",
      "\"variables are collinear\"\n",
      "Warning message in lda.default(x, grouping, ...):\n",
      "\"variables are collinear\"\n",
      "Warning message in lda.default(x, grouping, ...):\n",
      "\"variables are collinear\"\n",
      "Warning message in lda.default(x, grouping, ...):\n",
      "\"variables are collinear\"\n",
      "Warning message in lda.default(x, grouping, ...):\n",
      "\"variables are collinear\"\n",
      "Warning message in lda.default(x, grouping, ...):\n",
      "\"variables are collinear\"\n",
      "Warning message in lda.default(x, grouping, ...):\n",
      "\"variables are collinear\"\n",
      "Warning message in lda.default(x, grouping, ...):\n",
      "\"variables are collinear\"\n",
      "Warning message in lda.default(x, grouping, ...):\n",
      "\"variables are collinear\"\n",
      "Warning message in lda.default(x, grouping, ...):\n",
      "\"variables are collinear\"\n",
      "Warning message in lda.default(x, grouping, ...):\n",
      "\"variables are collinear\"\n",
      "Warning message in lda.default(x, grouping, ...):\n",
      "\"variables are collinear\"\n",
      "Warning message in lda.default(x, grouping, ...):\n",
      "\"variables are collinear\"\n",
      "Warning message in lda.default(x, grouping, ...):\n",
      "\"variables are collinear\"\n",
      "Warning message in lda.default(x, grouping, ...):\n",
      "\"variables are collinear\"\n",
      "Warning message in lda.default(x, grouping, ...):\n",
      "\"variables are collinear\"\n",
      "Warning message in lda.default(x, grouping, ...):\n",
      "\"variables are collinear\"\n",
      "Warning message in lda.default(x, grouping, ...):\n",
      "\"variables are collinear\"\n",
      "Warning message in lda.default(x, grouping, ...):\n",
      "\"variables are collinear\"\n",
      "Warning message in lda.default(x, grouping, ...):\n",
      "\"variables are collinear\"\n",
      "Warning message in lda.default(x, grouping, ...):\n",
      "\"variables are collinear\"\n",
      "Warning message in lda.default(x, grouping, ...):\n",
      "\"variables are collinear\"\n",
      "Warning message in lda.default(x, grouping, ...):\n",
      "\"variables are collinear\"\n",
      "Warning message in lda.default(x, grouping, ...):\n",
      "\"variables are collinear\"\n",
      "Warning message in lda.default(x, grouping, ...):\n",
      "\"variables are collinear\"\n",
      "Warning message in lda.default(x, grouping, ...):\n",
      "\"variables are collinear\"\n",
      "Warning message in lda.default(x, grouping, ...):\n",
      "\"variables are collinear\"\n",
      "Warning message in lda.default(x, grouping, ...):\n",
      "\"variables are collinear\"\n",
      "Warning message in lda.default(x, grouping, ...):\n",
      "\"variables are collinear\"\n",
      "Warning message in lda.default(x, grouping, ...):\n",
      "\"variables are collinear\"\n",
      "Warning message in lda.default(x, grouping, ...):\n",
      "\"variables are collinear\"\n",
      "Warning message in lda.default(x, grouping, ...):\n",
      "\"variables are collinear\"\n",
      "Warning message in lda.default(x, grouping, ...):\n",
      "\"variables are collinear\"\n",
      "Warning message in lda.default(x, grouping, ...):\n",
      "\"variables are collinear\"\n",
      "Warning message in lda.default(x, grouping, ...):\n",
      "\"variables are collinear\"\n",
      "Warning message in lda.default(x, grouping, ...):\n",
      "\"variables are collinear\"\n",
      "Warning message in lda.default(x, grouping, ...):\n",
      "\"variables are collinear\"\n",
      "Warning message in lda.default(x, grouping, ...):\n",
      "\"variables are collinear\"\n",
      "Warning message in lda.default(x, grouping, ...):\n",
      "\"variables are collinear\"\n",
      "Warning message in lda.default(x, grouping, ...):\n",
      "\"variables are collinear\"\n",
      "Warning message in lda.default(x, grouping, ...):\n",
      "\"variables are collinear\"\n",
      "Warning message in lda.default(x, grouping, ...):\n",
      "\"variables are collinear\"\n",
      "Warning message in lda.default(x, grouping, ...):\n",
      "\"variables are collinear\"\n",
      "Warning message in lda.default(x, grouping, ...):\n",
      "\"variables are collinear\"\n",
      "Warning message in lda.default(x, grouping, ...):\n",
      "\"variables are collinear\"\n",
      "Warning message in lda.default(x, grouping, ...):\n",
      "\"variables are collinear\"\n",
      "Warning message in lda.default(x, grouping, ...):\n",
      "\"variables are collinear\"\n",
      "Warning message in lda.default(x, grouping, ...):\n",
      "\"variables are collinear\"\n",
      "Warning message in lda.default(x, grouping, ...):\n",
      "\"variables are collinear\"\n",
      "Warning message in lda.default(x, grouping, ...):\n",
      "\"variables are collinear\"\n",
      "Warning message in lda.default(x, grouping, ...):\n",
      "\"variables are collinear\"\n",
      "Warning message in lda.default(x, grouping, ...):\n",
      "\"variables are collinear\"\n",
      "Warning message in lda.default(x, grouping, ...):\n",
      "\"variables are collinear\"\n",
      "Warning message in lda.default(x, grouping, ...):\n",
      "\"variables are collinear\"\n",
      "Warning message in lda.default(x, grouping, ...):\n",
      "\"variables are collinear\"\n",
      "Warning message in lda.default(x, grouping, ...):\n",
      "\"variables are collinear\"\n",
      "Warning message in lda.default(x, grouping, ...):\n",
      "\"variables are collinear\"\n",
      "Warning message in lda.default(x, grouping, ...):\n",
      "\"variables are collinear\"\n",
      "Warning message in lda.default(x, grouping, ...):\n",
      "\"variables are collinear\"\n",
      "Warning message in lda.default(x, grouping, ...):\n",
      "\"variables are collinear\"\n",
      "Warning message in lda.default(x, grouping, ...):\n",
      "\"variables are collinear\"\n",
      "Warning message in lda.default(x, grouping, ...):\n",
      "\"variables are collinear\"\n",
      "Warning message in lda.default(x, grouping, ...):\n",
      "\"variables are collinear\"\n",
      "Warning message in lda.default(x, grouping, ...):\n",
      "\"variables are collinear\"\n",
      "Warning message in lda.default(x, grouping, ...):\n",
      "\"variables are collinear\"\n",
      "Warning message in lda.default(x, grouping, ...):\n",
      "\"variables are collinear\"\n",
      "Warning message in lda.default(x, grouping, ...):\n",
      "\"variables are collinear\"\n",
      "Warning message in lda.default(x, grouping, ...):\n",
      "\"variables are collinear\"\n",
      "Warning message in lda.default(x, grouping, ...):\n",
      "\"variables are collinear\"\n",
      "Warning message in lda.default(x, grouping, ...):\n",
      "\"variables are collinear\"\n",
      "Warning message in lda.default(x, grouping, ...):\n",
      "\"variables are collinear\"\n",
      "Warning message in lda.default(x, grouping, ...):\n",
      "\"variables are collinear\"\n",
      "Warning message in lda.default(x, grouping, ...):\n",
      "\"variables are collinear\"\n",
      "Warning message in lda.default(x, grouping, ...):\n",
      "\"variables are collinear\"\n",
      "Warning message in lda.default(x, grouping, ...):\n",
      "\"variables are collinear\"\n",
      "Warning message in lda.default(x, grouping, ...):\n",
      "\"variables are collinear\"\n",
      "Warning message in lda.default(x, grouping, ...):\n",
      "\"variables are collinear\"\n",
      "Warning message in lda.default(x, grouping, ...):\n",
      "\"variables are collinear\"\n",
      "Warning message in lda.default(x, grouping, ...):\n",
      "\"variables are collinear\"\n",
      "Warning message in lda.default(x, grouping, ...):\n",
      "\"variables are collinear\"\n",
      "Warning message in lda.default(x, grouping, ...):\n",
      "\"variables are collinear\"\n",
      "Warning message in lda.default(x, grouping, ...):\n",
      "\"variables are collinear\"\n",
      "Warning message in lda.default(x, grouping, ...):\n",
      "\"variables are collinear\"\n",
      "Warning message in lda.default(x, grouping, ...):\n",
      "\"variables are collinear\"\n",
      "Warning message in lda.default(x, grouping, ...):\n",
      "\"variables are collinear\"\n",
      "Warning message in lda.default(x, grouping, ...):\n",
      "\"variables are collinear\"\n",
      "Warning message in lda.default(x, grouping, ...):\n",
      "\"variables are collinear\"\n",
      "Warning message in lda.default(x, grouping, ...):\n",
      "\"variables are collinear\"\n",
      "Warning message in lda.default(x, grouping, ...):\n",
      "\"variables are collinear\"\n",
      "Warning message in lda.default(x, grouping, ...):\n",
      "\"variables are collinear\"\n"
     ]
    },
    {
     "name": "stderr",
     "output_type": "stream",
     "text": [
      "Warning message in lda.default(x, grouping, ...):\n",
      "\"variables are collinear\"\n",
      "Warning message in lda.default(x, grouping, ...):\n",
      "\"variables are collinear\"\n",
      "Warning message in lda.default(x, grouping, ...):\n",
      "\"variables are collinear\"\n",
      "Warning message in lda.default(x, grouping, ...):\n",
      "\"variables are collinear\"\n",
      "Warning message in lda.default(x, grouping, ...):\n",
      "\"variables are collinear\"\n",
      "Warning message in lda.default(x, grouping, ...):\n",
      "\"variables are collinear\"\n",
      "Warning message in lda.default(x, grouping, ...):\n",
      "\"variables are collinear\"\n",
      "Warning message in lda.default(x, grouping, ...):\n",
      "\"variables are collinear\"\n",
      "Warning message in lda.default(x, grouping, ...):\n",
      "\"variables are collinear\"\n",
      "Warning message in lda.default(x, grouping, ...):\n",
      "\"variables are collinear\"\n",
      "Warning message in lda.default(x, grouping, ...):\n",
      "\"variables are collinear\"\n",
      "Warning message in lda.default(x, grouping, ...):\n",
      "\"variables are collinear\"\n",
      "Warning message in lda.default(x, grouping, ...):\n",
      "\"variables are collinear\"\n",
      "Warning message in lda.default(x, grouping, ...):\n",
      "\"variables are collinear\"\n",
      "Warning message in lda.default(x, grouping, ...):\n",
      "\"variables are collinear\"\n",
      "Warning message in lda.default(x, grouping, ...):\n",
      "\"variables are collinear\"\n",
      "Warning message in lda.default(x, grouping, ...):\n",
      "\"variables are collinear\"\n",
      "Warning message in lda.default(x, grouping, ...):\n",
      "\"variables are collinear\"\n",
      "Warning message in lda.default(x, grouping, ...):\n",
      "\"variables are collinear\"\n",
      "Warning message in lda.default(x, grouping, ...):\n",
      "\"variables are collinear\"\n",
      "Warning message in lda.default(x, grouping, ...):\n",
      "\"variables are collinear\"\n",
      "Warning message in lda.default(x, grouping, ...):\n",
      "\"variables are collinear\"\n",
      "Warning message in lda.default(x, grouping, ...):\n",
      "\"variables are collinear\"\n",
      "Warning message in lda.default(x, grouping, ...):\n",
      "\"variables are collinear\"\n",
      "Warning message in lda.default(x, grouping, ...):\n",
      "\"variables are collinear\"\n",
      "Warning message in lda.default(x, grouping, ...):\n",
      "\"variables are collinear\"\n",
      "Warning message in lda.default(x, grouping, ...):\n",
      "\"variables are collinear\"\n",
      "Warning message in lda.default(x, grouping, ...):\n",
      "\"variables are collinear\"\n",
      "Warning message in lda.default(x, grouping, ...):\n",
      "\"variables are collinear\"\n",
      "Warning message in lda.default(x, grouping, ...):\n",
      "\"variables are collinear\"\n",
      "Warning message in lda.default(x, grouping, ...):\n",
      "\"variables are collinear\"\n",
      "Warning message in lda.default(x, grouping, ...):\n",
      "\"variables are collinear\"\n",
      "Warning message in lda.default(x, grouping, ...):\n",
      "\"variables are collinear\"\n",
      "Warning message in lda.default(x, grouping, ...):\n",
      "\"variables are collinear\"\n",
      "Warning message in lda.default(x, grouping, ...):\n",
      "\"variables are collinear\"\n",
      "Warning message in lda.default(x, grouping, ...):\n",
      "\"variables are collinear\"\n",
      "Warning message in lda.default(x, grouping, ...):\n",
      "\"variables are collinear\"\n",
      "Warning message in lda.default(x, grouping, ...):\n",
      "\"variables are collinear\"\n",
      "Warning message in lda.default(x, grouping, ...):\n",
      "\"variables are collinear\"\n",
      "Warning message in lda.default(x, grouping, ...):\n",
      "\"variables are collinear\"\n",
      "Warning message in lda.default(x, grouping, ...):\n",
      "\"variables are collinear\"\n",
      "Warning message in lda.default(x, grouping, ...):\n",
      "\"variables are collinear\"\n",
      "Warning message in lda.default(x, grouping, ...):\n",
      "\"variables are collinear\"\n",
      "Warning message in lda.default(x, grouping, ...):\n",
      "\"variables are collinear\"\n",
      "Warning message in lda.default(x, grouping, ...):\n",
      "\"variables are collinear\"\n",
      "Warning message in lda.default(x, grouping, ...):\n",
      "\"variables are collinear\"\n",
      "Warning message in lda.default(x, grouping, ...):\n",
      "\"variables are collinear\"\n",
      "Warning message in lda.default(x, grouping, ...):\n",
      "\"variables are collinear\"\n",
      "Warning message in lda.default(x, grouping, ...):\n",
      "\"variables are collinear\"\n",
      "Warning message in lda.default(x, grouping, ...):\n",
      "\"variables are collinear\"\n",
      "Warning message in lda.default(x, grouping, ...):\n",
      "\"variables are collinear\"\n",
      "Warning message in lda.default(x, grouping, ...):\n",
      "\"variables are collinear\"\n",
      "Warning message in lda.default(x, grouping, ...):\n",
      "\"variables are collinear\"\n",
      "Warning message in lda.default(x, grouping, ...):\n",
      "\"variables are collinear\"\n",
      "Warning message in lda.default(x, grouping, ...):\n",
      "\"variables are collinear\"\n",
      "Warning message in lda.default(x, grouping, ...):\n",
      "\"variables are collinear\"\n",
      "Warning message in lda.default(x, grouping, ...):\n",
      "\"variables are collinear\"\n",
      "Warning message in lda.default(x, grouping, ...):\n",
      "\"variables are collinear\"\n",
      "Warning message in lda.default(x, grouping, ...):\n",
      "\"variables are collinear\"\n",
      "Warning message in lda.default(x, grouping, ...):\n",
      "\"variables are collinear\"\n",
      "Warning message in lda.default(x, grouping, ...):\n",
      "\"variables are collinear\"\n",
      "Warning message in lda.default(x, grouping, ...):\n",
      "\"variables are collinear\"\n",
      "Warning message in lda.default(x, grouping, ...):\n",
      "\"variables are collinear\"\n",
      "Warning message in lda.default(x, grouping, ...):\n",
      "\"variables are collinear\"\n",
      "Warning message in lda.default(x, grouping, ...):\n",
      "\"variables are collinear\"\n",
      "Warning message in lda.default(x, grouping, ...):\n",
      "\"variables are collinear\"\n",
      "Warning message in lda.default(x, grouping, ...):\n",
      "\"variables are collinear\"\n",
      "Warning message in lda.default(x, grouping, ...):\n",
      "\"variables are collinear\"\n",
      "Warning message in lda.default(x, grouping, ...):\n",
      "\"variables are collinear\"\n",
      "Warning message in lda.default(x, grouping, ...):\n",
      "\"variables are collinear\"\n",
      "Warning message in lda.default(x, grouping, ...):\n",
      "\"variables are collinear\"\n",
      "Warning message in lda.default(x, grouping, ...):\n",
      "\"variables are collinear\"\n",
      "Warning message in lda.default(x, grouping, ...):\n",
      "\"variables are collinear\"\n",
      "Warning message in lda.default(x, grouping, ...):\n",
      "\"variables are collinear\"\n",
      "Warning message in lda.default(x, grouping, ...):\n",
      "\"variables are collinear\"\n",
      "Warning message in lda.default(x, grouping, ...):\n",
      "\"variables are collinear\"\n",
      "Warning message in lda.default(x, grouping, ...):\n",
      "\"variables are collinear\"\n",
      "Warning message in lda.default(x, grouping, ...):\n",
      "\"variables are collinear\"\n",
      "Warning message in lda.default(x, grouping, ...):\n",
      "\"variables are collinear\"\n",
      "Warning message in lda.default(x, grouping, ...):\n",
      "\"variables are collinear\"\n",
      "Warning message in lda.default(x, grouping, ...):\n",
      "\"variables are collinear\"\n",
      "Warning message in lda.default(x, grouping, ...):\n",
      "\"variables are collinear\"\n",
      "Warning message in lda.default(x, grouping, ...):\n",
      "\"variables are collinear\"\n",
      "Warning message in lda.default(x, grouping, ...):\n",
      "\"variables are collinear\"\n",
      "Warning message in lda.default(x, grouping, ...):\n",
      "\"variables are collinear\"\n",
      "Warning message in lda.default(x, grouping, ...):\n",
      "\"variables are collinear\"\n",
      "Warning message in lda.default(x, grouping, ...):\n",
      "\"variables are collinear\"\n",
      "Warning message in lda.default(x, grouping, ...):\n",
      "\"variables are collinear\"\n",
      "Warning message in lda.default(x, grouping, ...):\n",
      "\"variables are collinear\"\n",
      "Warning message in lda.default(x, grouping, ...):\n",
      "\"variables are collinear\"\n",
      "Warning message in lda.default(x, grouping, ...):\n",
      "\"variables are collinear\"\n",
      "Warning message in lda.default(x, grouping, ...):\n",
      "\"variables are collinear\"\n",
      "Warning message in lda.default(x, grouping, ...):\n",
      "\"variables are collinear\"\n",
      "Warning message in lda.default(x, grouping, ...):\n",
      "\"variables are collinear\"\n",
      "Warning message in lda.default(x, grouping, ...):\n",
      "\"variables are collinear\"\n",
      "Warning message in lda.default(x, grouping, ...):\n",
      "\"variables are collinear\"\n",
      "Warning message in lda.default(x, grouping, ...):\n",
      "\"variables are collinear\"\n",
      "Warning message in lda.default(x, grouping, ...):\n",
      "\"variables are collinear\"\n",
      "Warning message in lda.default(x, grouping, ...):\n",
      "\"variables are collinear\"\n",
      "Warning message in lda.default(x, grouping, ...):\n",
      "\"variables are collinear\"\n",
      "Warning message in lda.default(x, grouping, ...):\n",
      "\"variables are collinear\"\n",
      "Warning message in lda.default(x, grouping, ...):\n",
      "\"variables are collinear\"\n",
      "Warning message in lda.default(x, grouping, ...):\n",
      "\"variables are collinear\"\n",
      "Warning message in lda.default(x, grouping, ...):\n",
      "\"variables are collinear\"\n",
      "Warning message in lda.default(x, grouping, ...):\n",
      "\"variables are collinear\"\n",
      "Warning message in lda.default(x, grouping, ...):\n",
      "\"variables are collinear\"\n",
      "Warning message in lda.default(x, grouping, ...):\n",
      "\"variables are collinear\"\n",
      "Warning message in lda.default(x, grouping, ...):\n",
      "\"variables are collinear\"\n"
     ]
    },
    {
     "name": "stderr",
     "output_type": "stream",
     "text": [
      "Warning message in lda.default(x, grouping, ...):\n",
      "\"variables are collinear\"\n",
      "Warning message in lda.default(x, grouping, ...):\n",
      "\"variables are collinear\"\n",
      "Warning message in lda.default(x, grouping, ...):\n",
      "\"variables are collinear\"\n",
      "Warning message in lda.default(x, grouping, ...):\n",
      "\"variables are collinear\"\n",
      "Warning message in lda.default(x, grouping, ...):\n",
      "\"variables are collinear\"\n",
      "Warning message in lda.default(x, grouping, ...):\n",
      "\"variables are collinear\"\n",
      "Warning message in lda.default(x, grouping, ...):\n",
      "\"variables are collinear\"\n",
      "Warning message in lda.default(x, grouping, ...):\n",
      "\"variables are collinear\"\n",
      "Warning message in lda.default(x, grouping, ...):\n",
      "\"variables are collinear\"\n",
      "Warning message in lda.default(x, grouping, ...):\n",
      "\"variables are collinear\"\n",
      "Warning message in lda.default(x, grouping, ...):\n",
      "\"variables are collinear\"\n",
      "Warning message in lda.default(x, grouping, ...):\n",
      "\"variables are collinear\"\n",
      "Warning message in lda.default(x, grouping, ...):\n",
      "\"variables are collinear\"\n",
      "Warning message in lda.default(x, grouping, ...):\n",
      "\"variables are collinear\"\n",
      "Warning message in lda.default(x, grouping, ...):\n",
      "\"variables are collinear\"\n",
      "Warning message in lda.default(x, grouping, ...):\n",
      "\"variables are collinear\"\n",
      "Warning message in lda.default(x, grouping, ...):\n",
      "\"variables are collinear\"\n",
      "Warning message in lda.default(x, grouping, ...):\n",
      "\"variables are collinear\"\n",
      "Warning message in lda.default(x, grouping, ...):\n",
      "\"variables are collinear\"\n",
      "Warning message in lda.default(x, grouping, ...):\n",
      "\"variables are collinear\"\n",
      "Warning message in lda.default(x, grouping, ...):\n",
      "\"variables are collinear\"\n",
      "Warning message in lda.default(x, grouping, ...):\n",
      "\"variables are collinear\"\n",
      "Warning message in lda.default(x, grouping, ...):\n",
      "\"variables are collinear\"\n",
      "Warning message in lda.default(x, grouping, ...):\n",
      "\"variables are collinear\"\n",
      "Warning message in lda.default(x, grouping, ...):\n",
      "\"variables are collinear\"\n",
      "Warning message in lda.default(x, grouping, ...):\n",
      "\"variables are collinear\"\n",
      "Warning message in lda.default(x, grouping, ...):\n",
      "\"variables are collinear\"\n",
      "Warning message in lda.default(x, grouping, ...):\n",
      "\"variables are collinear\"\n",
      "Warning message in lda.default(x, grouping, ...):\n",
      "\"variables are collinear\"\n",
      "Warning message in lda.default(x, grouping, ...):\n",
      "\"variables are collinear\"\n",
      "Warning message in lda.default(x, grouping, ...):\n",
      "\"variables are collinear\"\n",
      "Warning message in lda.default(x, grouping, ...):\n",
      "\"variables are collinear\"\n",
      "Warning message in lda.default(x, grouping, ...):\n",
      "\"variables are collinear\"\n",
      "Warning message in lda.default(x, grouping, ...):\n",
      "\"variables are collinear\"\n"
     ]
    },
    {
     "name": "stdout",
     "output_type": "stream",
     "text": [
      "correctness rate: 0.81194;  out: \"AGE\";  variables (26): LIMIT_BAL, SEX2, EDUCATION2, EDUCATION3, EDUCATION4, MARRIAGE2, MARRIAGE3, PAY_0, PAY_2, PAY_3, PAY_4, PAY_5, PAY_6, BILL_AMT1, BILL_AMT2, BILL_AMT3, BILL_AMT4, BILL_AMT5, BILL_AMT6, PAY_AMT1, PAY_AMT2, PAY_AMT3, PAY_AMT4, PAY_AMT5, PAY_AMT6, LIMIT_BALL \n",
      "\n",
      " hr.elapsed min.elapsed sec.elapsed \n",
      "       0.00        0.00       44.39 \n",
      "\n"
     ]
    },
    {
     "name": "stderr",
     "output_type": "stream",
     "text": [
      "Warning message in lda.default(x, grouping, ...):\n",
      "\"variables are collinear\"\n",
      "Warning message in lda.default(x, grouping, ...):\n",
      "\"variables are collinear\"\n"
     ]
    }
   ],
   "source": [
    "# STEPWISE use backward\n",
    "maxvar <- (4)\n",
    "direction <- \"backward\"\n",
    "tune_1=data.frame(maxvar,direction)\n",
    "\n",
    "stepwise_lda <-train(default ~ ., data = train,\n",
    "method = \"stepLDA\",\n",
    "trControl = trainControl(method = \"none\"),tuneGrid=tune_1)"
   ]
  },
  {
   "cell_type": "code",
   "execution_count": 67,
   "id": "48714606",
   "metadata": {},
   "outputs": [],
   "source": [
    "# rerun the model with the best features\n",
    "model_lda2=lda(default ~LIMIT_BAL+ SEX+ EDUCATION+ MARRIAGE+ PAY_0+ PAY_2+ PAY_3+ PAY_4+ PAY_5+ PAY_6+ BILL_AMT1+ BILL_AMT2+ BILL_AMT3+ BILL_AMT4+ BILL_AMT5+ BILL_AMT6+ PAY_AMT1+ PAY_AMT2+ PAY_AMT3+ PAY_AMT4+ PAY_AMT5+ PAY_AMT6 , data=train)"
   ]
  },
  {
   "cell_type": "code",
   "execution_count": 68,
   "id": "06481208",
   "metadata": {},
   "outputs": [
    {
     "data": {
      "text/plain": [
       "Call:\n",
       "lda(default ~ LIMIT_BAL + SEX + EDUCATION + MARRIAGE + PAY_0 + \n",
       "    PAY_2 + PAY_3 + PAY_4 + PAY_5 + PAY_6 + BILL_AMT1 + BILL_AMT2 + \n",
       "    BILL_AMT3 + BILL_AMT4 + BILL_AMT5 + BILL_AMT6 + PAY_AMT1 + \n",
       "    PAY_AMT2 + PAY_AMT3 + PAY_AMT4 + PAY_AMT5 + PAY_AMT6, data = train)\n",
       "\n",
       "Prior probabilities of groups:\n",
       "        0         1 \n",
       "0.7800625 0.2199375 \n",
       "\n",
       "Group means:\n",
       "  LIMIT_BAL      SEX2 EDUCATION2 EDUCATION3   EDUCATION4 MARRIAGE2   MARRIAGE3\n",
       "0  177093.5 0.6163769  0.4818524  0.1570387 0.0049675507 0.5462703 0.009614614\n",
       "1  131089.0 0.5751634  0.5143507  0.1841432 0.0008525149 0.5140665 0.013071895\n",
       "       PAY_0      PAY_2      PAY_3      PAY_4      PAY_5      PAY_6   BILL_AMT1\n",
       "0 -0.2062335 -0.2898806 -0.3060652 -0.3491707 -0.3828219 -0.3994872  0.01034348\n",
       "1  0.6510372  0.4512646  0.3677181  0.2537653  0.1591361  0.1023018 -0.03668570\n",
       "     BILL_AMT2   BILL_AMT3    BILL_AMT4    BILL_AMT5   BILL_AMT6    PAY_AMT1\n",
       "0  0.006740016  0.00621478  0.005535992  0.004954422  0.00410359  0.03978868\n",
       "1 -0.023905125 -0.02204225 -0.019634760 -0.017572079 -0.01455439 -0.14112034\n",
       "     PAY_AMT2    PAY_AMT3    PAY_AMT4    PAY_AMT5    PAY_AMT6\n",
       "0  0.03830653  0.03321629  0.03368027  0.03364782  0.02793977\n",
       "1 -0.13586355 -0.11780977 -0.11945538 -0.11934028 -0.09909527\n",
       "\n",
       "Coefficients of linear discriminants:\n",
       "                     LD1\n",
       "LIMIT_BAL  -2.634837e-07\n",
       "SEX2       -8.482778e-02\n",
       "EDUCATION2 -1.328964e-01\n",
       "EDUCATION3 -8.819125e-02\n",
       "EDUCATION4 -9.101732e-01\n",
       "MARRIAGE2  -2.444622e-01\n",
       "MARRIAGE3   4.632821e-02\n",
       "PAY_0       7.087062e-01\n",
       "PAY_2       1.243386e-01\n",
       "PAY_3       9.928713e-02\n",
       "PAY_4       4.402579e-02\n",
       "PAY_5       2.599349e-02\n",
       "PAY_6       5.901292e-03\n",
       "BILL_AMT1  -3.934613e-01\n",
       "BILL_AMT2   9.527559e-02\n",
       "BILL_AMT3   1.811499e-01\n",
       "BILL_AMT4  -1.127461e-01\n",
       "BILL_AMT5  -6.184417e-02\n",
       "BILL_AMT6   7.026719e-02\n",
       "PAY_AMT1   -1.131938e-01\n",
       "PAY_AMT2   -8.511272e-02\n",
       "PAY_AMT3    3.541105e-03\n",
       "PAY_AMT4   -6.061192e-02\n",
       "PAY_AMT5   -7.227457e-02\n",
       "PAY_AMT6   -7.931091e-03"
      ]
     },
     "metadata": {},
     "output_type": "display_data"
    }
   ],
   "source": [
    "model_lda2"
   ]
  },
  {
   "cell_type": "code",
   "execution_count": 69,
   "id": "eac9b84d",
   "metadata": {},
   "outputs": [],
   "source": [
    "# Make predictions \n",
    "#predictions_lda2<-predict(model_lda2, newdata=test)\n",
    "predictions_lda2 <- model_lda2 %>% predict(test, type = \"response\")\n"
   ]
  },
  {
   "cell_type": "code",
   "execution_count": 70,
   "id": "6a7f1140",
   "metadata": {},
   "outputs": [
    {
     "data": {
      "text/html": [
       "0.8015"
      ],
      "text/latex": [
       "0.8015"
      ],
      "text/markdown": [
       "0.8015"
      ],
      "text/plain": [
       "[1] 0.8015"
      ]
     },
     "metadata": {},
     "output_type": "display_data"
    }
   ],
   "source": [
    "#Model accuracy\n",
    "mean(predictions_lda2$class==test$default)"
   ]
  },
  {
   "cell_type": "code",
   "execution_count": 71,
   "id": "680e5809",
   "metadata": {},
   "outputs": [
    {
     "name": "stderr",
     "output_type": "stream",
     "text": [
      "Resampling: cross-validation\n",
      "\n",
      "Measures:             auc       \n",
      "\n",
      "Functional features have been converted to numerics\n",
      "\n",
      "Warning message:\n",
      "\"glm.fit: fitted probabilities numerically 0 or 1 occurred\"\n",
      "Functional features have been converted to numerics\n",
      "\n",
      "Warning message in predict.lm(object, newdata, se.fit, scale = 1, type = if (type == :\n",
      "\"prediction from a rank-deficient fit may be misleading\"\n",
      "[Resample] iter 1:    0.7044389 \n",
      "\n",
      "Functional features have been converted to numerics\n",
      "\n",
      "Warning message:\n",
      "\"glm.fit: fitted probabilities numerically 0 or 1 occurred\"\n",
      "Functional features have been converted to numerics\n",
      "\n",
      "Warning message in predict.lm(object, newdata, se.fit, scale = 1, type = if (type == :\n",
      "\"prediction from a rank-deficient fit may be misleading\"\n",
      "[Resample] iter 2:    0.7306350 \n",
      "\n",
      "Functional features have been converted to numerics\n",
      "\n",
      "Warning message:\n",
      "\"glm.fit: fitted probabilities numerically 0 or 1 occurred\"\n",
      "Functional features have been converted to numerics\n",
      "\n",
      "Warning message in predict.lm(object, newdata, se.fit, scale = 1, type = if (type == :\n",
      "\"prediction from a rank-deficient fit may be misleading\"\n",
      "[Resample] iter 3:    0.7042017 \n",
      "\n",
      "Functional features have been converted to numerics\n",
      "\n",
      "Warning message:\n",
      "\"glm.fit: fitted probabilities numerically 0 or 1 occurred\"\n",
      "Functional features have been converted to numerics\n",
      "\n",
      "Warning message in predict.lm(object, newdata, se.fit, scale = 1, type = if (type == :\n",
      "\"prediction from a rank-deficient fit may be misleading\"\n",
      "[Resample] iter 4:    0.7131114 \n",
      "\n",
      "Functional features have been converted to numerics\n",
      "\n",
      "Warning message:\n",
      "\"glm.fit: fitted probabilities numerically 0 or 1 occurred\"\n",
      "Functional features have been converted to numerics\n",
      "\n",
      "Warning message in predict.lm(object, newdata, se.fit, scale = 1, type = if (type == :\n",
      "\"prediction from a rank-deficient fit may be misleading\"\n",
      "[Resample] iter 5:    0.7214039 \n",
      "\n",
      "Functional features have been converted to numerics\n",
      "\n",
      "Warning message:\n",
      "\"glm.fit: fitted probabilities numerically 0 or 1 occurred\"\n",
      "Functional features have been converted to numerics\n",
      "\n",
      "Warning message in predict.lm(object, newdata, se.fit, scale = 1, type = if (type == :\n",
      "\"prediction from a rank-deficient fit may be misleading\"\n",
      "[Resample] iter 6:    0.7358938 \n",
      "\n",
      "Functional features have been converted to numerics\n",
      "\n",
      "Functional features have been converted to numerics\n",
      "\n",
      "Warning message in predict.lm(object, newdata, se.fit, scale = 1, type = if (type == :\n",
      "\"prediction from a rank-deficient fit may be misleading\"\n",
      "[Resample] iter 7:    0.7415121 \n",
      "\n",
      "Functional features have been converted to numerics\n",
      "\n",
      "Warning message:\n",
      "\"glm.fit: fitted probabilities numerically 0 or 1 occurred\"\n",
      "Functional features have been converted to numerics\n",
      "\n",
      "Warning message in predict.lm(object, newdata, se.fit, scale = 1, type = if (type == :\n",
      "\"prediction from a rank-deficient fit may be misleading\"\n",
      "[Resample] iter 8:    0.7260825 \n",
      "\n",
      "Functional features have been converted to numerics\n",
      "\n",
      "Warning message:\n",
      "\"glm.fit: fitted probabilities numerically 0 or 1 occurred\"\n",
      "Functional features have been converted to numerics\n",
      "\n",
      "Warning message in predict.lm(object, newdata, se.fit, scale = 1, type = if (type == :\n",
      "\"prediction from a rank-deficient fit may be misleading\"\n",
      "[Resample] iter 9:    0.7191891 \n",
      "\n",
      "Functional features have been converted to numerics\n",
      "\n",
      "Warning message:\n",
      "\"glm.fit: fitted probabilities numerically 0 or 1 occurred\"\n",
      "Functional features have been converted to numerics\n",
      "\n",
      "Warning message in predict.lm(object, newdata, se.fit, scale = 1, type = if (type == :\n",
      "\"prediction from a rank-deficient fit may be misleading\"\n",
      "[Resample] iter 10:   0.7328578 \n",
      "\n",
      "\n",
      "\n",
      "\n",
      "Aggregated Result: auc.test.mean=0.7229326\n",
      "\n",
      "\n",
      "\n",
      "\n"
     ]
    },
    {
     "data": {
      "text/plain": [
       "Resample Result\n",
       "Task: train\n",
       "Learner: classif.logreg\n",
       "Aggr perf: auc.test.mean=0.7229326\n",
       "Runtime: 2.45492"
      ]
     },
     "metadata": {},
     "output_type": "display_data"
    }
   ],
   "source": [
    "#CROSS VALIDATION\n",
    "# Set up cross-validation\n",
    "rdesc = makeResampleDesc(\"CV\", iters=10)\n",
    "\n",
    "# Define the model\n",
    "cross_lr<- makeLearner(\"classif.logreg\", predict.type=\"prob\", fix.factors.prediction=T)\n",
    "\n",
    "# Define the model\n",
    "task_cross <- makeClassifTask(data=train, target=\"default\")\n",
    "# Run the k-fold CV\n",
    "resample(cross_lr, task_cross, rdesc, measures=list(mlr::auc))"
   ]
  },
  {
   "cell_type": "markdown",
   "id": "eeee760e",
   "metadata": {},
   "source": [
    "# THIRD MODEL:KNN"
   ]
  },
  {
   "cell_type": "code",
   "execution_count": 72,
   "id": "bf23d5d4",
   "metadata": {},
   "outputs": [],
   "source": [
    "#fit the model\n",
    "library(class)\n",
    "\n",
    "predictions_knn <- knn(train=train, test=test, cl=train$default, k=10)"
   ]
  },
  {
   "cell_type": "code",
   "execution_count": 73,
   "id": "6de8bfb2",
   "metadata": {},
   "outputs": [],
   "source": [
    "#restrieved from https://rpubs.com/njvijay/16444\n",
    "\n",
    "ctrl <- trainControl(method=\"repeatedcv\",repeats = 3) #,classProbs=TRUE,summaryFunction = twoClassSummary)\n",
    "knnFit <- train(default ~ ., data = train, method = \"knn\", trControl = ctrl, preProcess = c(\"center\",\"scale\"), tuneLength = 20)\n"
   ]
  },
  {
   "cell_type": "code",
   "execution_count": 74,
   "id": "017a1900",
   "metadata": {
    "scrolled": true
   },
   "outputs": [
    {
     "data": {
      "text/plain": [
       "k-Nearest Neighbors \n",
       "\n",
       "16000 samples\n",
       "   24 predictor\n",
       "    2 classes: '0', '1' \n",
       "\n",
       "Pre-processing: centered (27), scaled (27) \n",
       "Resampling: Cross-Validated (10 fold, repeated 3 times) \n",
       "Summary of sample sizes: 14400, 14400, 14401, 14400, 14400, 14399, ... \n",
       "Resampling results across tuning parameters:\n",
       "\n",
       "  k   Accuracy   Kappa    \n",
       "   5  0.7913960  0.2961744\n",
       "   7  0.8005212  0.3077265\n",
       "   9  0.8039585  0.3096897\n",
       "  11  0.8069585  0.3135850\n",
       "  13  0.8087086  0.3128833\n",
       "  15  0.8092917  0.3108956\n",
       "  17  0.8097086  0.3112048\n",
       "  19  0.8108338  0.3131160\n",
       "  21  0.8105628  0.3103554\n",
       "  23  0.8114378  0.3125442\n",
       "  25  0.8115210  0.3117643\n",
       "  27  0.8105210  0.3065935\n",
       "  29  0.8106875  0.3056080\n",
       "  31  0.8108333  0.3052111\n",
       "  33  0.8106042  0.3026932\n",
       "  35  0.8107292  0.3019716\n",
       "  37  0.8100000  0.2981833\n",
       "  39  0.8091666  0.2943829\n",
       "  41  0.8092293  0.2938513\n",
       "  43  0.8095209  0.2944335\n",
       "\n",
       "Accuracy was used to select the optimal model using the largest value.\n",
       "The final value used for the model was k = 25."
      ]
     },
     "metadata": {},
     "output_type": "display_data"
    }
   ],
   "source": [
    "knnFit"
   ]
  },
  {
   "cell_type": "code",
   "execution_count": 75,
   "id": "183c5fc4",
   "metadata": {},
   "outputs": [
    {
     "data": {
      "image/png": "[encoded data removed]",
      "text/plain": [
       "plot without title"
      ]
     },
     "metadata": {
      "image/png": {
       "height": 420,
       "width": 420
      }
     },
     "output_type": "display_data"
    }
   ],
   "source": [
    "plot(knnFit)"
   ]
  },
  {
   "cell_type": "code",
   "execution_count": 76,
   "id": "ffc85cae",
   "metadata": {},
   "outputs": [],
   "source": [
    "#Rerun the model with the best number of k\n",
    "predictions_knn2 <- knn(train=train, test=test, cl=train$default, k=25, prob=TRUE)"
   ]
  },
  {
   "cell_type": "code",
   "execution_count": 77,
   "id": "98ccb7e7",
   "metadata": {},
   "outputs": [
    {
     "data": {
      "text/html": [
       "0.79575"
      ],
      "text/latex": [
       "0.79575"
      ],
      "text/markdown": [
       "0.79575"
      ],
      "text/plain": [
       "[1] 0.79575"
      ]
     },
     "metadata": {},
     "output_type": "display_data"
    }
   ],
   "source": [
    "#Model accuracy\n",
    "mean(predictions_knn2==test$default)"
   ]
  },
  {
   "cell_type": "code",
   "execution_count": 78,
   "id": "3bfb4935",
   "metadata": {},
   "outputs": [
    {
     "name": "stderr",
     "output_type": "stream",
     "text": [
      "Type 'citation(\"pROC\")' for a citation.\n",
      "\n",
      "\n",
      "Attaching package: 'pROC'\n",
      "\n",
      "\n",
      "The following objects are masked from 'package:stats':\n",
      "\n",
      "    cov, smooth, var\n",
      "\n",
      "\n",
      "Setting levels: control = 0, case = 1\n",
      "\n",
      "Setting direction: controls > cases\n",
      "\n"
     ]
    },
    {
     "data": {
      "text/plain": [
       "\n",
       "Call:\n",
       "roc.default(response = test$default, predictor = attributes(predictions_knn2)$prob)\n",
       "\n",
       "Data: attributes(predictions_knn2)$prob in 3105 controls (test$default 0) > 895 cases (test$default 1).\n",
       "Area under the curve: 0.7608"
      ]
     },
     "metadata": {},
     "output_type": "display_data"
    },
    {
     "name": "stderr",
     "output_type": "stream",
     "text": [
      "Setting levels: control = 0, case = 1\n",
      "\n",
      "Setting direction: controls > cases\n",
      "\n"
     ]
    },
    {
     "data": {
      "image/png": "[encoded data removed]",
      "text/plain": [
       "plot without title"
      ]
     },
     "metadata": {
      "image/png": {
       "height": 420,
       "width": 420
      }
     },
     "output_type": "display_data"
    }
   ],
   "source": [
    "# Cross validation for benchmarking\n",
    "library(pROC)\n",
    "\n",
    "roc(test$default, attributes(predictions_knn2)$prob)\n",
    "\n",
    "plot(roc(test$default, attributes(predictions_knn2)$prob),\n",
    "print.thres = T,\n",
    "print.auc=T)"
   ]
  },
  {
   "cell_type": "markdown",
   "id": "87b09fb1",
   "metadata": {},
   "source": [
    "# FOURTH METHOD: DECISION TREE"
   ]
  },
  {
   "cell_type": "code",
   "execution_count": 79,
   "id": "2a90018a",
   "metadata": {},
   "outputs": [
    {
     "name": "stdout",
     "output_type": "stream",
     "text": [
      "package 'tree' successfully unpacked and MD5 sums checked\n"
     ]
    },
    {
     "name": "stderr",
     "output_type": "stream",
     "text": [
      "Warning message:\n",
      "\"cannot remove prior installation of package 'tree'\"\n",
      "Warning message in file.copy(savedcopy, lib, recursive = TRUE):\n",
      "\"problem copying C:\\tools\\Anaconda3\\envs\\r-env\\Lib\\R\\library\\00LOCK\\tree\\libs\\x64\\tree.dll to C:\\tools\\Anaconda3\\envs\\r-env\\Lib\\R\\library\\tree\\libs\\x64\\tree.dll: Permission denied\"\n",
      "Warning message:\n",
      "\"restored 'tree'\"\n"
     ]
    },
    {
     "name": "stdout",
     "output_type": "stream",
     "text": [
      "\n",
      "The downloaded binary packages are in\n",
      "\tC:\\Users\\marquesrubio\\AppData\\Local\\Temp\\Rtmp4wI0Yw\\downloaded_packages\n"
     ]
    },
    {
     "name": "stderr",
     "output_type": "stream",
     "text": [
      "Loading required package: tree\n",
      "\n"
     ]
    }
   ],
   "source": [
    "library(ISLR)\n",
    "data(package=\"ISLR\")\n",
    "install.packages('tree')\n",
    "require(tree)\n"
   ]
  },
  {
   "cell_type": "code",
   "execution_count": 80,
   "id": "f8c73edb",
   "metadata": {},
   "outputs": [
    {
     "data": {
      "text/plain": [
       "node), split, n, deviance, yval, (yprob)\n",
       "      * denotes terminal node\n",
       "\n",
       "1) root 16000 16860 0 ( 0.7801 0.2199 )  \n",
       "  2) PAY_0 < 1.5 14345 12890 0 ( 0.8340 0.1660 )  \n",
       "    4) PAY_2 < 0.5 13135 10840 0 ( 0.8557 0.1443 )  \n",
       "      8) PAY_AMT3 < -0.285299 3525  3741 0 ( 0.7770 0.2230 ) *\n",
       "      9) PAY_AMT3 > -0.285299 9610  6874 0 ( 0.8846 0.1154 ) *\n",
       "    5) PAY_2 > 0.5 1210  1630 0 ( 0.5983 0.4017 ) *\n",
       "  3) PAY_0 > 1.5 1655  2056 1 ( 0.3124 0.6876 ) *"
      ]
     },
     "metadata": {},
     "output_type": "display_data"
    }
   ],
   "source": [
    "#fit the model one time\n",
    "tree = tree(default~., data=train)\n",
    "tree"
   ]
  },
  {
   "cell_type": "code",
   "execution_count": 81,
   "id": "de4220a4",
   "metadata": {},
   "outputs": [
    {
     "data": {
      "text/plain": [
       "\n",
       "Classification tree:\n",
       "tree(formula = default ~ ., data = train)\n",
       "Variables actually used in tree construction:\n",
       "[1] \"PAY_0\"    \"PAY_2\"    \"PAY_AMT3\"\n",
       "Number of terminal nodes:  4 \n",
       "Residual mean deviance:  0.894 = 14300 / 16000 \n",
       "Misclassification error rate: 0.1811 = 2898 / 16000 "
      ]
     },
     "metadata": {},
     "output_type": "display_data"
    }
   ],
   "source": [
    "summary(tree)"
   ]
  },
  {
   "cell_type": "code",
   "execution_count": 82,
   "id": "4e038036",
   "metadata": {},
   "outputs": [
    {
     "data": {
      "image/png": "[encoded data removed]",
      "text/plain": [
       "plot without title"
      ]
     },
     "metadata": {
      "image/png": {
       "height": 420,
       "width": 420
      }
     },
     "output_type": "display_data"
    }
   ],
   "source": [
    "plot(tree)\n",
    "text(tree, pretty=0)"
   ]
  },
  {
   "cell_type": "code",
   "execution_count": 83,
   "id": "d9a9504a",
   "metadata": {},
   "outputs": [],
   "source": [
    "#grid search\n",
    "classifier = train(form = default~ ., data = train, method = 'ctree')"
   ]
  },
  {
   "cell_type": "code",
   "execution_count": 84,
   "id": "2fda1e01",
   "metadata": {
    "scrolled": true
   },
   "outputs": [
    {
     "data": {
      "text/plain": [
       "Conditional Inference Tree \n",
       "\n",
       "16000 samples\n",
       "   24 predictor\n",
       "    2 classes: '0', '1' \n",
       "\n",
       "No pre-processing\n",
       "Resampling: Bootstrapped (25 reps) \n",
       "Summary of sample sizes: 16000, 16000, 16000, 16000, 16000, 16000, ... \n",
       "Resampling results across tuning parameters:\n",
       "\n",
       "  mincriterion  Accuracy   Kappa    \n",
       "  0.01          0.7681956  0.2718584\n",
       "  0.50          0.8015139  0.3328528\n",
       "  0.99          0.8159568  0.3517240\n",
       "\n",
       "Accuracy was used to select the optimal model using the largest value.\n",
       "The final value used for the model was mincriterion = 0.99."
      ]
     },
     "metadata": {},
     "output_type": "display_data"
    }
   ],
   "source": [
    "classifier"
   ]
  },
  {
   "cell_type": "code",
   "execution_count": 85,
   "id": "43945707",
   "metadata": {},
   "outputs": [],
   "source": [
    "train_control = trainControl(method = \"cv\", number = 20, search = \"grid\")"
   ]
  },
  {
   "cell_type": "code",
   "execution_count": 86,
   "id": "a9ab9dbe",
   "metadata": {},
   "outputs": [],
   "source": [
    "#rerun model with the new parameter 0.99\n",
    "classifier2= train(form = default ~ ., \n",
    "                   data = train, \n",
    "                   method = 'ctree',\n",
    "                   tuneGrid = data.frame(mincriterion = 0.99),\n",
    "                   trControl = train_control)"
   ]
  },
  {
   "cell_type": "code",
   "execution_count": 87,
   "id": "7cf7a285",
   "metadata": {},
   "outputs": [
    {
     "data": {
      "text/plain": [
       "Conditional Inference Tree \n",
       "\n",
       "16000 samples\n",
       "   24 predictor\n",
       "    2 classes: '0', '1' \n",
       "\n",
       "No pre-processing\n",
       "Resampling: Cross-Validated (20 fold) \n",
       "Summary of sample sizes: 15200, 15200, 15200, 15200, 15200, 15200, ... \n",
       "Resampling results:\n",
       "\n",
       "  Accuracy   Kappa    \n",
       "  0.8188122  0.3474412\n",
       "\n",
       "Tuning parameter 'mincriterion' was held constant at a value of 0.99"
      ]
     },
     "metadata": {},
     "output_type": "display_data"
    }
   ],
   "source": [
    "classifier2"
   ]
  },
  {
   "cell_type": "code",
   "execution_count": 88,
   "id": "b8f3e778",
   "metadata": {},
   "outputs": [],
   "source": [
    "#predict model\n",
    "prediction_tree2 = classifier2%>%predict(test)"
   ]
  },
  {
   "cell_type": "code",
   "execution_count": 89,
   "id": "4fb28eec",
   "metadata": {},
   "outputs": [
    {
     "name": "stderr",
     "output_type": "stream",
     "text": [
      "Setting levels: control = 1, case = 2\n",
      "\n",
      "Setting direction: controls < cases\n",
      "\n"
     ]
    },
    {
     "name": "stdout",
     "output_type": "stream",
     "text": [
      "[1] \"AUC = 0.749112074716003\"\n"
     ]
    }
   ],
   "source": [
    "pred_roc <- pROC::roc(as.numeric(prediction_tree2), as.numeric(test$default == 1))\n",
    "\n",
    "pred_auc <- pROC::auc(pred_roc)\n",
    "\n",
    "print(paste('AUC =', pred_auc))"
   ]
  },
  {
   "cell_type": "markdown",
   "id": "ab5f7c6a",
   "metadata": {},
   "source": [
    "# FIFTH MODEL: RANDOM FOREST"
   ]
  },
  {
   "cell_type": "code",
   "execution_count": 90,
   "id": "4d099c06",
   "metadata": {},
   "outputs": [
    {
     "name": "stderr",
     "output_type": "stream",
     "text": [
      "randomForest 4.6-14\n",
      "\n",
      "Type rfNews() to see new features/changes/bug fixes.\n",
      "\n",
      "\n",
      "Attaching package: 'randomForest'\n",
      "\n",
      "\n",
      "The following object is masked from 'package:ggplot2':\n",
      "\n",
      "    margin\n",
      "\n",
      "\n",
      "The following object is masked from 'package:dplyr':\n",
      "\n",
      "    combine\n",
      "\n",
      "\n"
     ]
    }
   ],
   "source": [
    "library(randomForest) "
   ]
  },
  {
   "cell_type": "code",
   "execution_count": 91,
   "id": "efd55b0c",
   "metadata": {},
   "outputs": [
    {
     "data": {
      "text/plain": [
       "\n",
       "Call:\n",
       " randomForest(formula = default ~ ., data = train, mtry = 6, importance = T) \n",
       "               Type of random forest: classification\n",
       "                     Number of trees: 500\n",
       "No. of variables tried at each split: 6\n",
       "\n",
       "        OOB estimate of  error rate: 18.44%\n",
       "Confusion matrix:\n",
       "      0    1 class.error\n",
       "0 11751  730   0.0584889\n",
       "1  2220 1299   0.6308610"
      ]
     },
     "metadata": {},
     "output_type": "display_data"
    }
   ],
   "source": [
    "# Fit random forests model\n",
    "set.seed(1)\n",
    "md_rf <- randomForest(default ~ ., data=train, mtry=6, importance=T)  # Default mtry = p/3\n",
    "md_rf"
   ]
  },
  {
   "cell_type": "code",
   "execution_count": 92,
   "id": "25827d97",
   "metadata": {},
   "outputs": [
    {
     "data": {
      "text/html": [
       "<table class=\"dataframe\">\n",
       "<caption>A matrix: 24 × 4 of type dbl</caption>\n",
       "<thead>\n",
       "\t<tr><th></th><th scope=col>0</th><th scope=col>1</th><th scope=col>MeanDecreaseAccuracy</th><th scope=col>MeanDecreaseGini</th></tr>\n",
       "</thead>\n",
       "<tbody>\n",
       "\t<tr><th scope=row>LIMIT_BAL</th><td>21.5048682</td><td> 8.3112442</td><td> 26.0031075</td><td>216.25325</td></tr>\n",
       "\t<tr><th scope=row>SEX</th><td> 0.6255893</td><td>-0.6472067</td><td>  0.1964754</td><td> 48.19626</td></tr>\n",
       "\t<tr><th scope=row>EDUCATION</th><td> 2.7874216</td><td>-1.1426701</td><td>  1.8159368</td><td> 96.85686</td></tr>\n",
       "\t<tr><th scope=row>MARRIAGE</th><td>10.1456389</td><td>-4.1822066</td><td>  6.8632719</td><td> 58.08736</td></tr>\n",
       "\t<tr><th scope=row>AGE</th><td>19.7053955</td><td> 4.5701462</td><td> 20.4495414</td><td>335.27452</td></tr>\n",
       "\t<tr><th scope=row>PAY_0</th><td>83.9679381</td><td>75.2533088</td><td>122.1371958</td><td>545.43738</td></tr>\n",
       "\t<tr><th scope=row>PAY_2</th><td>27.6001718</td><td>14.7183943</td><td> 36.6062224</td><td>253.92897</td></tr>\n",
       "\t<tr><th scope=row>PAY_3</th><td>22.8889291</td><td>14.8699556</td><td> 32.3101844</td><td>166.17308</td></tr>\n",
       "\t<tr><th scope=row>PAY_4</th><td>26.4919373</td><td> 8.6982526</td><td> 31.5117310</td><td>112.62774</td></tr>\n",
       "\t<tr><th scope=row>PAY_5</th><td>20.9243454</td><td>12.5490148</td><td> 27.7676325</td><td>101.09681</td></tr>\n",
       "\t<tr><th scope=row>PAY_6</th><td>21.1952111</td><td>16.2073381</td><td> 30.5923797</td><td> 97.92426</td></tr>\n",
       "\t<tr><th scope=row>BILL_AMT1</th><td>18.5343031</td><td>24.1384771</td><td> 31.1826104</td><td>330.71983</td></tr>\n",
       "\t<tr><th scope=row>BILL_AMT2</th><td>39.3874664</td><td>-3.3411772</td><td> 43.4095285</td><td>287.20669</td></tr>\n",
       "\t<tr><th scope=row>BILL_AMT3</th><td>42.5516832</td><td>-1.9266544</td><td> 47.8950213</td><td>270.60632</td></tr>\n",
       "\t<tr><th scope=row>BILL_AMT4</th><td>40.7278516</td><td> 2.9796878</td><td> 49.7316213</td><td>262.72528</td></tr>\n",
       "\t<tr><th scope=row>BILL_AMT5</th><td>29.8879087</td><td> 5.9339163</td><td> 36.7132193</td><td>264.89026</td></tr>\n",
       "\t<tr><th scope=row>BILL_AMT6</th><td>26.8417354</td><td> 9.1644275</td><td> 35.9425412</td><td>269.34632</td></tr>\n",
       "\t<tr><th scope=row>PAY_AMT1</th><td>30.2455920</td><td> 3.2717708</td><td> 34.1457000</td><td>272.58082</td></tr>\n",
       "\t<tr><th scope=row>PAY_AMT2</th><td>20.0920077</td><td>16.1371244</td><td> 28.1728223</td><td>256.18033</td></tr>\n",
       "\t<tr><th scope=row>PAY_AMT3</th><td>25.8187250</td><td>13.0850019</td><td> 35.6735278</td><td>249.44300</td></tr>\n",
       "\t<tr><th scope=row>PAY_AMT4</th><td>25.6347965</td><td>11.4261649</td><td> 32.5760616</td><td>236.17470</td></tr>\n",
       "\t<tr><th scope=row>PAY_AMT5</th><td>32.9334449</td><td>-0.3759810</td><td> 36.6170823</td><td>238.46252</td></tr>\n",
       "\t<tr><th scope=row>PAY_AMT6</th><td>16.0806692</td><td> 9.0128508</td><td> 21.2073623</td><td>247.67722</td></tr>\n",
       "\t<tr><th scope=row>LIMIT_BALL</th><td>23.5439850</td><td> 6.6740607</td><td> 27.5834348</td><td>217.04403</td></tr>\n",
       "</tbody>\n",
       "</table>\n"
      ],
      "text/latex": [
       "A matrix: 24 × 4 of type dbl\n",
       "\\begin{tabular}{r|llll}\n",
       "  & 0 & 1 & MeanDecreaseAccuracy & MeanDecreaseGini\\\\\n",
       "\\hline\n",
       "\tLIMIT\\_BAL & 21.5048682 &  8.3112442 &  26.0031075 & 216.25325\\\\\n",
       "\tSEX &  0.6255893 & -0.6472067 &   0.1964754 &  48.19626\\\\\n",
       "\tEDUCATION &  2.7874216 & -1.1426701 &   1.8159368 &  96.85686\\\\\n",
       "\tMARRIAGE & 10.1456389 & -4.1822066 &   6.8632719 &  58.08736\\\\\n",
       "\tAGE & 19.7053955 &  4.5701462 &  20.4495414 & 335.27452\\\\\n",
       "\tPAY\\_0 & 83.9679381 & 75.2533088 & 122.1371958 & 545.43738\\\\\n",
       "\tPAY\\_2 & 27.6001718 & 14.7183943 &  36.6062224 & 253.92897\\\\\n",
       "\tPAY\\_3 & 22.8889291 & 14.8699556 &  32.3101844 & 166.17308\\\\\n",
       "\tPAY\\_4 & 26.4919373 &  8.6982526 &  31.5117310 & 112.62774\\\\\n",
       "\tPAY\\_5 & 20.9243454 & 12.5490148 &  27.7676325 & 101.09681\\\\\n",
       "\tPAY\\_6 & 21.1952111 & 16.2073381 &  30.5923797 &  97.92426\\\\\n",
       "\tBILL\\_AMT1 & 18.5343031 & 24.1384771 &  31.1826104 & 330.71983\\\\\n",
       "\tBILL\\_AMT2 & 39.3874664 & -3.3411772 &  43.4095285 & 287.20669\\\\\n",
       "\tBILL\\_AMT3 & 42.5516832 & -1.9266544 &  47.8950213 & 270.60632\\\\\n",
       "\tBILL\\_AMT4 & 40.7278516 &  2.9796878 &  49.7316213 & 262.72528\\\\\n",
       "\tBILL\\_AMT5 & 29.8879087 &  5.9339163 &  36.7132193 & 264.89026\\\\\n",
       "\tBILL\\_AMT6 & 26.8417354 &  9.1644275 &  35.9425412 & 269.34632\\\\\n",
       "\tPAY\\_AMT1 & 30.2455920 &  3.2717708 &  34.1457000 & 272.58082\\\\\n",
       "\tPAY\\_AMT2 & 20.0920077 & 16.1371244 &  28.1728223 & 256.18033\\\\\n",
       "\tPAY\\_AMT3 & 25.8187250 & 13.0850019 &  35.6735278 & 249.44300\\\\\n",
       "\tPAY\\_AMT4 & 25.6347965 & 11.4261649 &  32.5760616 & 236.17470\\\\\n",
       "\tPAY\\_AMT5 & 32.9334449 & -0.3759810 &  36.6170823 & 238.46252\\\\\n",
       "\tPAY\\_AMT6 & 16.0806692 &  9.0128508 &  21.2073623 & 247.67722\\\\\n",
       "\tLIMIT\\_BALL & 23.5439850 &  6.6740607 &  27.5834348 & 217.04403\\\\\n",
       "\\end{tabular}\n"
      ],
      "text/markdown": [
       "\n",
       "A matrix: 24 × 4 of type dbl\n",
       "\n",
       "| <!--/--> | 0 | 1 | MeanDecreaseAccuracy | MeanDecreaseGini |\n",
       "|---|---|---|---|---|\n",
       "| LIMIT_BAL | 21.5048682 |  8.3112442 |  26.0031075 | 216.25325 |\n",
       "| SEX |  0.6255893 | -0.6472067 |   0.1964754 |  48.19626 |\n",
       "| EDUCATION |  2.7874216 | -1.1426701 |   1.8159368 |  96.85686 |\n",
       "| MARRIAGE | 10.1456389 | -4.1822066 |   6.8632719 |  58.08736 |\n",
       "| AGE | 19.7053955 |  4.5701462 |  20.4495414 | 335.27452 |\n",
       "| PAY_0 | 83.9679381 | 75.2533088 | 122.1371958 | 545.43738 |\n",
       "| PAY_2 | 27.6001718 | 14.7183943 |  36.6062224 | 253.92897 |\n",
       "| PAY_3 | 22.8889291 | 14.8699556 |  32.3101844 | 166.17308 |\n",
       "| PAY_4 | 26.4919373 |  8.6982526 |  31.5117310 | 112.62774 |\n",
       "| PAY_5 | 20.9243454 | 12.5490148 |  27.7676325 | 101.09681 |\n",
       "| PAY_6 | 21.1952111 | 16.2073381 |  30.5923797 |  97.92426 |\n",
       "| BILL_AMT1 | 18.5343031 | 24.1384771 |  31.1826104 | 330.71983 |\n",
       "| BILL_AMT2 | 39.3874664 | -3.3411772 |  43.4095285 | 287.20669 |\n",
       "| BILL_AMT3 | 42.5516832 | -1.9266544 |  47.8950213 | 270.60632 |\n",
       "| BILL_AMT4 | 40.7278516 |  2.9796878 |  49.7316213 | 262.72528 |\n",
       "| BILL_AMT5 | 29.8879087 |  5.9339163 |  36.7132193 | 264.89026 |\n",
       "| BILL_AMT6 | 26.8417354 |  9.1644275 |  35.9425412 | 269.34632 |\n",
       "| PAY_AMT1 | 30.2455920 |  3.2717708 |  34.1457000 | 272.58082 |\n",
       "| PAY_AMT2 | 20.0920077 | 16.1371244 |  28.1728223 | 256.18033 |\n",
       "| PAY_AMT3 | 25.8187250 | 13.0850019 |  35.6735278 | 249.44300 |\n",
       "| PAY_AMT4 | 25.6347965 | 11.4261649 |  32.5760616 | 236.17470 |\n",
       "| PAY_AMT5 | 32.9334449 | -0.3759810 |  36.6170823 | 238.46252 |\n",
       "| PAY_AMT6 | 16.0806692 |  9.0128508 |  21.2073623 | 247.67722 |\n",
       "| LIMIT_BALL | 23.5439850 |  6.6740607 |  27.5834348 | 217.04403 |\n",
       "\n"
      ],
      "text/plain": [
       "           0          1          MeanDecreaseAccuracy MeanDecreaseGini\n",
       "LIMIT_BAL  21.5048682  8.3112442  26.0031075          216.25325       \n",
       "SEX         0.6255893 -0.6472067   0.1964754           48.19626       \n",
       "EDUCATION   2.7874216 -1.1426701   1.8159368           96.85686       \n",
       "MARRIAGE   10.1456389 -4.1822066   6.8632719           58.08736       \n",
       "AGE        19.7053955  4.5701462  20.4495414          335.27452       \n",
       "PAY_0      83.9679381 75.2533088 122.1371958          545.43738       \n",
       "PAY_2      27.6001718 14.7183943  36.6062224          253.92897       \n",
       "PAY_3      22.8889291 14.8699556  32.3101844          166.17308       \n",
       "PAY_4      26.4919373  8.6982526  31.5117310          112.62774       \n",
       "PAY_5      20.9243454 12.5490148  27.7676325          101.09681       \n",
       "PAY_6      21.1952111 16.2073381  30.5923797           97.92426       \n",
       "BILL_AMT1  18.5343031 24.1384771  31.1826104          330.71983       \n",
       "BILL_AMT2  39.3874664 -3.3411772  43.4095285          287.20669       \n",
       "BILL_AMT3  42.5516832 -1.9266544  47.8950213          270.60632       \n",
       "BILL_AMT4  40.7278516  2.9796878  49.7316213          262.72528       \n",
       "BILL_AMT5  29.8879087  5.9339163  36.7132193          264.89026       \n",
       "BILL_AMT6  26.8417354  9.1644275  35.9425412          269.34632       \n",
       "PAY_AMT1   30.2455920  3.2717708  34.1457000          272.58082       \n",
       "PAY_AMT2   20.0920077 16.1371244  28.1728223          256.18033       \n",
       "PAY_AMT3   25.8187250 13.0850019  35.6735278          249.44300       \n",
       "PAY_AMT4   25.6347965 11.4261649  32.5760616          236.17470       \n",
       "PAY_AMT5   32.9334449 -0.3759810  36.6170823          238.46252       \n",
       "PAY_AMT6   16.0806692  9.0128508  21.2073623          247.67722       \n",
       "LIMIT_BALL 23.5439850  6.6740607  27.5834348          217.04403       "
      ]
     },
     "metadata": {},
     "output_type": "display_data"
    }
   ],
   "source": [
    "#check the best features\n",
    "importance(md_rf)"
   ]
  },
  {
   "cell_type": "code",
   "execution_count": 93,
   "id": "694e4108",
   "metadata": {},
   "outputs": [
    {
     "data": {
      "image/png": "[encoded data removed]",
      "text/plain": [
       "Plot with title \"Variable Importance - RF\""
      ]
     },
     "metadata": {
      "image/png": {
       "height": 390,
       "width": 360
      }
     },
     "output_type": "display_data"
    }
   ],
   "source": [
    "#plot the best features\n",
    "options(repr.plot.width=6, repr.plot.height=6.5)\n",
    "varImpPlot(md_rf, type=2, main='Variable Importance - RF')"
   ]
  },
  {
   "cell_type": "code",
   "execution_count": 95,
   "id": "eafc648f",
   "metadata": {},
   "outputs": [
    {
     "data": {
      "text/plain": [
       "\n",
       "Call:\n",
       " randomForest(formula = default ~ PAY_0 + AGE + BILL_AMT1 + LIMIT_BAL +      BILL_AMT2 + PAY_AMT1 + BILL_AMT3 + BILL_AMT6 + BILL_AMT4 +      BILL_AMT5, data = train, mtry = 6, importance = T) \n",
       "               Type of random forest: classification\n",
       "                     Number of trees: 500\n",
       "No. of variables tried at each split: 6\n",
       "\n",
       "        OOB estimate of  error rate: 18.76%\n",
       "Confusion matrix:\n",
       "      0    1 class.error\n",
       "0 11739  742  0.05945036\n",
       "1  2259 1260  0.64194373"
      ]
     },
     "metadata": {},
     "output_type": "display_data"
    }
   ],
   "source": [
    "# refit with the best parameters\n",
    "md_rf2 <- randomForest(default ~PAY_0+AGE+BILL_AMT1+LIMIT_BAL+BILL_AMT2+PAY_AMT1+BILL_AMT3+BILL_AMT6+BILL_AMT4+BILL_AMT5, data=train, mtry=6, importance=T)  # Default mtry = p/3\n",
    "md_rf2 "
   ]
  },
  {
   "cell_type": "code",
   "execution_count": 96,
   "id": "4a793731",
   "metadata": {},
   "outputs": [],
   "source": [
    "# Make prediction\n",
    "pred_rf <- predict(md_rf2, newdata=test)"
   ]
  },
  {
   "cell_type": "code",
   "execution_count": 97,
   "id": "db55d4dd",
   "metadata": {},
   "outputs": [
    {
     "name": "stderr",
     "output_type": "stream",
     "text": [
      "Setting levels: control = 1, case = 2\n",
      "\n",
      "Setting direction: controls < cases\n",
      "\n"
     ]
    },
    {
     "name": "stdout",
     "output_type": "stream",
     "text": [
      "[1] \"AUC = 0.726285479226656\"\n"
     ]
    }
   ],
   "source": [
    "pred_roc2 <- pROC::roc(as.numeric(pred_rf), as.numeric(test$default == 1))\n",
    "\n",
    "pred_auc2 <- pROC::auc(pred_roc2)\n",
    "\n",
    "print(paste('AUC =', pred_auc2))"
   ]
  }
 ],
 "metadata": {
  "kernelspec": {
   "display_name": "R",
   "language": "R",
   "name": "ir"
  },
  "language_info": {
   "codemirror_mode": "r",
   "file_extension": ".r",
   "mimetype": "text/x-r-source",
   "name": "R",
   "pygments_lexer": "r",
   "version": "4.0.5"
  }
 },
 "nbformat": 4,
 "nbformat_minor": 5
}
